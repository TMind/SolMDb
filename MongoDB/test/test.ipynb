import pandas as pd
import numpy as np
import qgridnext as qgrid 
from IPython.display import display, clear_output
import ipywidgets as widgets

# Step 1: Create a DataFrame with Multi-Index Columns
data = np.random.randn(4, 8)

columns = pd.MultiIndex.from_product(
    [['Category1', 'Category2'], ['SubCat1', 'SubCat2'], ['Detail1', 'Detail2']],
    names=['Category', 'SubCategory', 'Detail']
)

df = pd.DataFrame(data, index=['Row1', 'Row2', 'Row3', 'Row4'], columns=columns)

# Display the original DataFrame
print("Original DataFrame with Multi-Index Columns:")
display(df)
print("Original DataFrame Index:", df.index.tolist())
print("Original DataFrame Columns:", df.columns.tolist())

# Step 2: Convert Multi-Index Columns to Rows for qgrid
# Extracting the level values and creating a DataFrame for each level
levels = df.columns.names
level_values = [df.columns.get_level_values(i) for i in range(len(levels))]

# Create a DataFrame for the levels
level_dfs = []
for i, level_value in enumerate(level_values):
    level_df = pd.DataFrame([level_value], columns=df.columns)
    level_df.index = [levels[i]]
    level_dfs.append(level_df)

# Create a DataFrame for the values
value_df = pd.DataFrame(data, columns=df.columns, index=df.index)

# Concatenate the levels and values DataFrames
combined_df = pd.concat(level_dfs + [value_df])

# Transpose the DataFrame to fit qgrid format
combined_df = combined_df.T

# Print the transposed DataFrame's index and columns for clarity
print("Transposed DataFrame Index:", combined_df.index.tolist())
print("Transposed DataFrame Columns:", combined_df.columns.tolist())

# Step 3: Ensure unique column names with modifications to avoid duplications
# Adjusting column names to prepend "_" for MultiIndex names
new_columns = []
for i, col in enumerate(combined_df.columns):
    if col in levels:  # Check if the column name is in the original MultiIndex names
        new_columns.append(f'_{col}')  # Prepend "_" to the original name
    else:
        new_columns.append(f'{col}')  # Use the modified name with suffix for unique columns

combined_df.columns = new_columns

# Adjusting row names to append "_" for MultiIndex names
# This is done during the creation of level_dfs
level_dfs_adjusted = []
for i, level_df in enumerate(level_dfs):
    adjusted_index = [f'{index}_' for index in level_df.index]  # Append "_" to each index name
    level_df.index = adjusted_index
    level_dfs_adjusted.append(level_df)

# Recreate the combined DataFrame with adjusted level DataFrames
combined_df_adjusted = pd.concat(level_dfs_adjusted + [value_df]).T

# Now, combined_df_adjusted has "_" prepended to column names that are part of the original MultiIndex
# and "_" appended to row names that are part of the original MultiIndex

# Display the DataFrame with separated levels
print("Combined DataFrame for qgrid:")
display(combined_df)
print("Combined DataFrame Index after adjustments:", combined_df.index.tolist())
print("Combined DataFrame Columns after adjustments:", combined_df.columns.tolist())


# Step 1: Identify columns to keep (those without an underscore)
columns_to_keep = [col for col in combined_df.columns if '_' not in col]

# Step 2: Filter out unnecessary columns
df_cleaned = combined_df[columns_to_keep]

# Step 4: Create qgrid widget and output area for displaying filtered DataFrame
qgrid_widget = qgrid.show_grid(df_cleaned, show_toolbar=True)
output_area = widgets.Output()

# Event handler to update the displayed DataFrame whenever changes are made in qgrid
def on_filter_change(event, widget):
    with output_area:
        clear_output(wait=True)
        filtered_df = widget.get_changed_df().T
        display(filtered_df)

# Attach the event handler to the qgrid widget
qgrid_widget.on('filter_changed', on_filter_change)

# Step 5: Display the qgrid widget and the output area
display(qgrid_widget)
display(output_area)