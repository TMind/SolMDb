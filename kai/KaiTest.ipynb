{
 "cells": [
  {
   "cell_type": "code",
   "execution_count": null,
   "metadata": {},
   "outputs": [
    {
     "data": {
      "text/html": [
       "<style>/* Customizes the scrollbar within qgrid */\n",
       ".q-grid ::-webkit-scrollbar {\n",
       "    width: 5px;  /* Smaller width for vertical scrollbar */\n",
       "    height: 5px; /* Smaller height for horizontal scrollbar */\n",
       "}\n",
       "\n",
       ".q-grid ::-webkit-scrollbar-track {\n",
       "    border-radius: 10px;\n",
       "    background: rgba(0,0,0,0.1); /* Light background for the track */\n",
       "}\n",
       "\n",
       ".q-grid ::-webkit-scrollbar-thumb {\n",
       "    border-radius: 10px;\n",
       "    background: rgba(128,128,128,0.8); /* Lighter gray color for the thumb */\n",
       "}\n",
       "\n",
       ".q-grid ::-webkit-scrollbar-thumb:hover {\n",
       "    background: rgba(90,90,90,0.8); /* Slightly darker gray on hover */\n",
       "}\n",
       "\n",
       "/* Static color for sorted column headers */\n",
       ".sorted-column-header-ascending {\n",
       "    background: linear-gradient(to bottom, #b3e5fc, #0288d1) !important;\n",
       "    color: white;\n",
       "}\n",
       "\n",
       "/* Static color for sorted column headers */\n",
       ".sorted-column-header-descending {\n",
       "    background: linear-gradient(to top, #b3e5fc, #0288d1) !important;\n",
       "    color: white;\n",
       "}\n",
       "\n",
       "/* General sorted column style (optional for borders) */\n",
       ".sorted-column {\n",
       "    border: 1px solid #0288d1;\n",
       "}\n",
       "\n",
       "/* CSS for filtered columns */\n",
       ".filtered-column {\n",
       "    background-color: #fcf8e3;  /* Light yellow */\n",
       "    border: 2px solid #f0ad4e;  /* Orange border */\n",
       "}</style>"
      ],
      "text/plain": [
       "<IPython.core.display.HTML object>"
      ]
     },
     "metadata": {},
     "output_type": "display_data"
    },
    {
     "data": {
      "text/html": [
       "\n",
       "<style>\n",
       "    .custom-select-multiple option:checked {\n",
       "        background-color: lightgreen !important;\n",
       "        color: black !important;\n",
       "    }\n",
       "    .custom-select-multiple option.active {\n",
       "        background-color: lightgreen !important;\n",
       "    }\n",
       "</style>\n"
      ],
      "text/plain": [
       "<IPython.core.display.HTML object>"
      ]
     },
     "metadata": {},
     "output_type": "display_data"
    },
    {
     "data": {
      "text/html": [
       "\n",
       "        <style>\n",
       "            .filter_grids .slick-header-column {\n",
       "                height: 140px !important;\n",
       "                text-align: left !important;\n",
       "                vertical-align: bottom !important;\n",
       "            }\n",
       "            \n",
       "            /* Position the sort indicator at the bottom of the rotated column */\n",
       "            .filter_grids .slick-header-column .slick-sort-indicator {\n",
       "                position: absolute !important;\n",
       "                bottom: 10px !important; /* Position at the bottom */\n",
       "                left: 50% !important; /* Center horizontally */\n",
       "                transform: translateX(-100%) !important; /* Proper centering */\n",
       "                display: inline-block !important;\n",
       "                visibility: visible !important;\n",
       "                font-size: 20px !important; /* Adjust size as needed */\n",
       "                z-index: 2; /* Ensure it's above other elements */\n",
       "                color: blue !important; /* Adjust color */\n",
       "            }\n",
       "            \n",
       "            .filter_grids ._rotate_ .slick-column-name {\n",
       "                display: inline-block !important;\n",
       "                transform-origin: bottom left !important;\n",
       "                white-space: nowrap !important;\n",
       "                transform: rotate(90deg) !important;\n",
       "                margin-top: 10px !important;\n",
       "            }\n",
       "        </style>\n",
       "        "
      ],
      "text/plain": [
       "<IPython.core.display.HTML object>"
      ]
     },
     "metadata": {},
     "output_type": "display_data"
    },
    {
     "data": {
      "text/html": [
       "\n",
       "        <style>\n",
       "            .filter_grids .slick-header-column {\n",
       "                height: 140px !important;\n",
       "                text-align: left !important;\n",
       "                vertical-align: bottom !important;\n",
       "            }\n",
       "            \n",
       "            /* Position the sort indicator at the bottom of the rotated column */\n",
       "            .filter_grids .slick-header-column .slick-sort-indicator {\n",
       "                position: absolute !important;\n",
       "                bottom: 10px !important; /* Position at the bottom */\n",
       "                left: 50% !important; /* Center horizontally */\n",
       "                transform: translateX(-100%) !important; /* Proper centering */\n",
       "                display: inline-block !important;\n",
       "                visibility: visible !important;\n",
       "                font-size: 20px !important; /* Adjust size as needed */\n",
       "                z-index: 2; /* Ensure it's above other elements */\n",
       "                color: blue !important; /* Adjust color */\n",
       "            }\n",
       "            \n",
       "            .filter_grids ._rotate_ .slick-column-name {\n",
       "                display: inline-block !important;\n",
       "                transform-origin: bottom left !important;\n",
       "                white-space: nowrap !important;\n",
       "                transform: rotate(90deg) !important;\n",
       "                margin-top: 10px !important;\n",
       "            }\n",
       "        </style>\n",
       "        "
      ],
      "text/plain": [
       "<IPython.core.display.HTML object>"
      ]
     },
     "metadata": {},
     "output_type": "display_data"
    },
    {
     "data": {
      "text/html": [
       "\n",
       "        <style>\n",
       "            .deck_content .slick-header-column {\n",
       "                height: 140px !important;\n",
       "                text-align: left !important;\n",
       "                vertical-align: bottom !important;\n",
       "            }\n",
       "            \n",
       "            /* Position the sort indicator at the bottom of the rotated column */\n",
       "            .deck_content .slick-header-column .slick-sort-indicator {\n",
       "                position: absolute !important;\n",
       "                bottom: 10px !important; /* Position at the bottom */\n",
       "                left: 50% !important; /* Center horizontally */\n",
       "                transform: translateX(-100%) !important; /* Proper centering */\n",
       "                display: inline-block !important;\n",
       "                visibility: visible !important;\n",
       "                font-size: 20px !important; /* Adjust size as needed */\n",
       "                z-index: 2; /* Ensure it's above other elements */\n",
       "                color: blue !important; /* Adjust color */\n",
       "            }\n",
       "            \n",
       "            .deck_content ._rotate_ .slick-column-name {\n",
       "                display: inline-block !important;\n",
       "                transform-origin: bottom left !important;\n",
       "                white-space: nowrap !important;\n",
       "                transform: rotate(90deg) !important;\n",
       "                margin-top: 10px !important;\n",
       "            }\n",
       "        </style>\n",
       "        "
      ],
      "text/plain": [
       "<IPython.core.display.HTML object>"
      ]
     },
     "metadata": {},
     "output_type": "display_data"
    },
    {
     "data": {
      "text/html": [
       "\n",
       "        <style>\n",
       "            .Template .slick-header-column {\n",
       "                height: 140px !important;\n",
       "                text-align: left !important;\n",
       "                vertical-align: bottom !important;\n",
       "            }\n",
       "            \n",
       "            /* Position the sort indicator at the bottom of the rotated column */\n",
       "            .Template .slick-header-column .slick-sort-indicator {\n",
       "                position: absolute !important;\n",
       "                bottom: 10px !important; /* Position at the bottom */\n",
       "                left: 50% !important; /* Center horizontally */\n",
       "                transform: translateX(-100%) !important; /* Proper centering */\n",
       "                display: inline-block !important;\n",
       "                visibility: visible !important;\n",
       "                font-size: 20px !important; /* Adjust size as needed */\n",
       "                z-index: 2; /* Ensure it's above other elements */\n",
       "                color: blue !important; /* Adjust color */\n",
       "            }\n",
       "            \n",
       "            .Template ._rotate_ .slick-column-name {\n",
       "                display: inline-block !important;\n",
       "                transform-origin: bottom left !important;\n",
       "                white-space: nowrap !important;\n",
       "                transform: rotate(90deg) !important;\n",
       "                margin-top: 10px !important;\n",
       "            }\n",
       "        </style>\n",
       "        "
      ],
      "text/plain": [
       "<IPython.core.display.HTML object>"
      ]
     },
     "metadata": {},
     "output_type": "display_data"
    },
    {
     "data": {
      "application/vnd.jupyter.widget-view+json": {
       "model_id": "4b25770a5a204455a2799e49fdad41fa",
       "version_major": 2,
       "version_minor": 0
      },
      "text/plain": [
       "VBox(children=(HTML(value=\"<div style='padding:10px; color:white; background-color:#2E86AB; border:solid 2px #…"
      ]
     },
     "metadata": {},
     "output_type": "display_data"
    },
    {
     "name": "stdout",
     "output_type": "stream",
     "text": [
      "Entity with name = 1751 not found in the database common.\n",
      "Entity with name = 2835 not found in the database common.\n",
      "Deck with _id = Tempys Sealed Deck 155 not found in the database tmind.\n",
      "Deck with _id = Alloyin Sealed Deck 155 not found in the database tmind.\n",
      "Deck with _id = Tempys Sealed Deck 74 not found in the database tmind.\n",
      "Deck with _id = Nekrium Sealed Deck 110 not found in the database tmind.\n",
      "Deck with _id = Tempys Sealed Deck 133 not found in the database tmind.\n",
      "Deck with _id = Alloyin Sealed Deck 133 not found in the database tmind.\n",
      "Deck with _id = Nekrium Sealed Deck 133 not found in the database tmind.\n",
      "Deck with _id = Uterra Sealed Deck 133 not found in the database tmind.\n",
      "Deck with _id = Memorial Day Weekend Sealed 58 not found in the database tmind.\n",
      "Deck with _id = Alloyin Sealed Deck 74 not found in the database tmind.\n",
      "Deck with _id = Memorial Day Weekend Sealed 11 not found in the database tmind.\n",
      "Deck with _id = Nekrium Sealed Deck 74 not found in the database tmind.\n"
     ]
    }
   ],
   "source": [
    "import pygui as pgui\n",
    "pgui.setup_interface()\n",
    "#username_value = 'maru'\n",
    "#username_value = 'magiceden'\n",
    "#username_value = 'strudel'\n",
    "username_value = 'tmind'\n",
    "click_action = 'Update CM Sheet'\n",
    "click_action = 'Load Decks/Fusions'\n",
    "#click_action = 'Generate Dataframe'\n",
    "#click_action = 'Create all Fusions'\n",
    "#click_action = 'Find Combos'\n",
    "#pgui.db_list.value = username_value\n",
    "pgui.username_widget.value = username_value\n",
    "pgui.reload_data_on_click(None, click_action)\n",
    "#pgui.tab.selected_index = 1"
   ]
  }
 ],
 "metadata": {
  "language_info": {
   "name": "python"
  }
 },
 "nbformat": 4,
 "nbformat_minor": 2
}
