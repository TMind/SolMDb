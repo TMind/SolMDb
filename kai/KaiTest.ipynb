{
 "cells": [
  {
   "cell_type": "code",
   "execution_count": 1,
   "metadata": {},
   "outputs": [
    {
     "ename": "ModuleNotFoundError",
     "evalue": "No module named 'pygui'",
     "output_type": "error",
     "traceback": [
      "\u001b[0;31m---------------------------------------------------------------------------\u001b[0m",
      "\u001b[0;31mModuleNotFoundError\u001b[0m                       Traceback (most recent call last)",
      "Cell \u001b[0;32mIn[1], line 1\u001b[0m\n\u001b[0;32m----> 1\u001b[0m \u001b[38;5;28;01mimport\u001b[39;00m \u001b[38;5;21;01mpygui\u001b[39;00m \u001b[38;5;28;01mas\u001b[39;00m \u001b[38;5;21;01mpgui\u001b[39;00m\n\u001b[1;32m      2\u001b[0m pgui\u001b[38;5;241m.\u001b[39msetup_interface()\n\u001b[1;32m      3\u001b[0m \u001b[38;5;66;03m#username_value = 'maru'\u001b[39;00m\n\u001b[1;32m      4\u001b[0m \u001b[38;5;66;03m#username_value = 'magiceden'\u001b[39;00m\n\u001b[1;32m      5\u001b[0m \u001b[38;5;66;03m#username_value = 'strudel'\u001b[39;00m\n",
      "\u001b[0;31mModuleNotFoundError\u001b[0m: No module named 'pygui'"
     ]
    }
   ],
   "source": [
    "import pygui as pgui\n",
    "pgui.setup_interface()\n",
    "#username_value = 'maru'\n",
    "#username_value = 'magiceden'\n",
    "#username_value = 'strudel'\n",
    "username_value = 'tmind'\n",
    "click_action = 'Update CM Sheet'\n",
    "click_action = 'Load Decks/Fusions'\n",
    "#click_action = 'Generate Dataframe'\n",
    "#click_action = 'Create all Fusions'\n",
    "#click_action = 'Find Combos'\n",
    "#pgui.db_list.value = username_value\n",
    "pgui.username_widget.value = username_value\n",
    "pgui.reload_data_on_click(None, click_action)\n",
    "#pgui.tab.selected_index = 1"
   ]
  }
 ],
 "metadata": {
  "kernelspec": {
   "display_name": "Python 3",
   "language": "python",
   "name": "python3"
  },
  "language_info": {
   "codemirror_mode": {
    "name": "ipython",
    "version": 3
   },
   "file_extension": ".py",
   "mimetype": "text/x-python",
   "name": "python",
   "nbconvert_exporter": "python",
   "pygments_lexer": "ipython3",
   "version": "3.12.2"
  }
 },
 "nbformat": 4,
 "nbformat_minor": 2
}
