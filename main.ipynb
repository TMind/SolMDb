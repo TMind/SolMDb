{
    "cells": [
     {
      "cell_type": "code",
      "execution_count": null,
      "metadata": {},
      "outputs": [],
      "source": [
       "from soldb import main\n",
       "import argparse\n",
       "\n",
       "def parse_arguments(arguments) :\n",
       "    # Create an argument parser\n",
       "    parser = argparse.ArgumentParser(description=\"Script description\")\n",
       "\n",
       "    # Add command-line arguments\n",
       "    # Arguments for online use \n",
       "    parser.add_argument(\"--username\", default=\"\", help=\"Online account name or omit for offline use\")\n",
       "    parser.add_argument(\"--type\", default=\"deck\", choices=[\"deck\", \"fuseddeck\"], help=\"Decktype for user collection , default=deck\")\n",
       "    parser.add_argument(\"--id\", default=\"\", help=\"Specific Deck ID from solforgefusion website\")\n",
       "\n",
       "    # Arguments for general use \n",
       "    # If both username and file is given, export deckbase to file.json \n",
       "    # If only file is given import deckbase from file.json \n",
       "    parser.add_argument(\"--filename\",  default=None,  help=\"Offline Deck Database Name\")\n",
       "    parser.add_argument(\"--synergies\", default=None, help=\"CSV Filename for synergy lookup\")    \n",
       "\n",
       "    # Arguments for Evaluation\n",
       "\n",
       "    parser.add_argument(\"--eval\", nargs='?', const=True, action=\"store\",  help=\"Evaluate possible fusions. Optional filename for .csv export\")    \n",
       "    parser.add_argument(\"--graph\", action=\"store_true\",  help=\"Create Graph '.gefx'\")\n",
       "    parser.add_argument(\"--filter\", default=None, help=\"Filter by card names. Syntax: \\\"<cardname>+'<card name>'-<cardname>\\\" + = AND, - = OR \")\n",
       "    parser.add_argument(\"--select_pairs\", action=\"store_true\", help=\"Select top pairs\")\n",
       "\n",
       "    # Parse the command-line arguments\n",
       "\n",
       "    args = parser.parse_args(arguments)\n",
       "    return args"
      ]
     },
     {
      "cell_type": "code",
      "execution_count": null,
      "metadata": {},
      "outputs": [],
      "source": [
       "user = 'tmind'\n",
       "\n",
       "arguments = [\n",
       "    \"--username\" , user ,\n",
       "    \"--eval\" , user     \n",
       "]\n",
       "\n",
       "args = parse_arguments(arguments)\n",
       "main(args)"
      ]
     }
    ],
    "metadata": {
     "kernelspec": {
      "display_name": "Python 3 (ipykernel)",
      "language": "python",
      "name": "python3"
     },
     "language_info": {
      "codemirror_mode": {
       "name": "ipython",
       "version": 3
      },
      "file_extension": ".py",
      "mimetype": "text/x-python",
      "name": "python",
      "nbconvert_exporter": "python",
      "pygments_lexer": "ipython3",
      "version": "3.10.12"
     }
    },
    "nbformat": 4,
    "nbformat_minor": 4
   }
   