{
 "cells": [
  {
   "cell_type": "code",
   "execution_count": 1,
   "metadata": {
    "tags": []
   },
   "outputs": [],
   "source": [
    "from soldb import main\n",
    "\n",
    "user = 'tmind'\n",
    "\n",
    "arguments = [\n",
    "    \"--username\" , user ,\n",
    "    \"--eval\" , user     \n",
    "]\n",
    "\n",
    "args = parse_arguments(arguments)\n",
    "main(args)"
   ]
  },
  {
   "cell_type": "code",
   "execution_count": 2,
   "metadata": {
    "tags": []
   },
   "outputs": [
    {
     "name": "stderr",
     "output_type": "stream",
     "text": [
      "Write ucl.zpkl: 100%|\u001b[34m██████████\u001b[0m| 87.2k/87.2k [00:00<00:00, 69.9MB/s]\n"
     ]
    },
    {
     "ename": "AttributeError",
     "evalue": "'Namespace' object has no attribute 'offline'",
     "output_type": "error",
     "traceback": [
      "\u001b[0;31m---------------------------------------------------------------------------\u001b[0m",
      "\u001b[0;31mAttributeError\u001b[0m                            Traceback (most recent call last)",
      "Cell \u001b[0;32mIn[2], line 9\u001b[0m\n\u001b[1;32m      3\u001b[0m arguments \u001b[38;5;241m=\u001b[39m [\n\u001b[1;32m      4\u001b[0m     \u001b[38;5;124m\"\u001b[39m\u001b[38;5;124m--username\u001b[39m\u001b[38;5;124m\"\u001b[39m , user ,\n\u001b[1;32m      5\u001b[0m     \u001b[38;5;124m\"\u001b[39m\u001b[38;5;124m--eval\u001b[39m\u001b[38;5;124m\"\u001b[39m , user     \n\u001b[1;32m      6\u001b[0m ]\n\u001b[1;32m      8\u001b[0m args \u001b[38;5;241m=\u001b[39m parse_arguments(arguments)\n\u001b[0;32m----> 9\u001b[0m \u001b[43mmain\u001b[49m\u001b[43m(\u001b[49m\u001b[43margs\u001b[49m\u001b[43m)\u001b[49m\n",
      "File \u001b[0;32m~/soldb.py:46\u001b[0m, in \u001b[0;36mmain\u001b[0;34m(args)\u001b[0m\n\u001b[1;32m     43\u001b[0m DeckCollection \u001b[38;5;241m=\u001b[39m DeckLibrary([])\n\u001b[1;32m     44\u001b[0m net_decks \u001b[38;5;241m=\u001b[39m []\n\u001b[0;32m---> 46\u001b[0m \u001b[38;5;28;01mif\u001b[39;00m \u001b[43margs\u001b[49m\u001b[38;5;241;43m.\u001b[39;49m\u001b[43moffline\u001b[49m \u001b[38;5;129;01mor\u001b[39;00m SelectionType \u001b[38;5;241m==\u001b[39m \u001b[38;5;124m'\u001b[39m\u001b[38;5;124mCollection\u001b[39m\u001b[38;5;124m'\u001b[39m:\n\u001b[1;32m     47\u001b[0m     DeckCollection \u001b[38;5;241m=\u001b[39m cache_manager\u001b[38;5;241m.\u001b[39mload_or_create(\u001b[38;5;124m'\u001b[39m\u001b[38;5;124mDeckLib\u001b[39m\u001b[38;5;124m'\u001b[39m, \u001b[38;5;28;01mlambda\u001b[39;00m: DeckLibrary([]))    \n\u001b[1;32m     49\u001b[0m \u001b[38;5;28;01mif\u001b[39;00m \u001b[38;5;129;01mnot\u001b[39;00m args\u001b[38;5;241m.\u001b[39moffline:\n",
      "\u001b[0;31mAttributeError\u001b[0m: 'Namespace' object has no attribute 'offline'"
     ]
    }
   ],
   "source": []
  },
  {
   "cell_type": "code",
   "execution_count": null,
   "metadata": {},
   "outputs": [],
   "source": []
  }
 ],
 "metadata": {
  "kernelspec": {
   "display_name": "Python 3 (ipykernel)",
   "language": "python",
   "name": "python3"
  },
  "language_info": {
   "codemirror_mode": {
    "name": "ipython",
    "version": 3
   },
   "file_extension": ".py",
   "mimetype": "text/x-python",
   "name": "python",
   "nbconvert_exporter": "python",
   "pygments_lexer": "ipython3",
   "version": "3.10.12"
  }
 },
 "nbformat": 4,
 "nbformat_minor": 4
}
