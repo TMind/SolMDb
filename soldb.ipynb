{
 "cells": [
  {
   "cell_type": "code",
   "execution_count": 1,
   "metadata": {},
   "outputs": [],
   "source": [
    "#Imnpot all the necessary modules\n",
    "from DeckLibrary    import DeckLibrary\n",
    "from UniversalLibrary import UniversalLibrary\n",
    "#from CacheManager   import CacheManager\n",
    "from Synergy        import SynergyTemplate\n",
    "from NetApi         import NetApi\n",
    "from Filter import Filter\n",
    "import Evaluation as ev\n",
    "from Graph import MyGraph\n",
    "import argparse\n",
    "from tqdm import tqdm \n",
    "import os, time, re\n",
    "from pathlib import Path\n",
    "from multiprocessing import Pool, cpu_count,Event\n",
    "from MongoDB.DatabaseManager import DatabaseManager\n",
    "import GlobalVariables\n"
   ]
  },
  {
   "cell_type": "code",
   "execution_count": 2,
   "metadata": {},
   "outputs": [],
   "source": [
    "# Define functions to be used\n",
    "def parse_arguments(args):\n",
    "    # Define the command-line arguments\n",
    "# Create an argument parser\n",
    "    parser = argparse.ArgumentParser(description=\"Script description\")\n",
    "\n",
    "    # Add command-line arguments\n",
    "    # Arguments for online use \n",
    "    parser.add_argument(\"--username\", default=\"\", help=\"Online account name or omit for offline use\")\n",
    "    parser.add_argument(\"--type\", default=\"deck\", choices=[\"deck\", \"fuseddeck\"], help=\"Decktype for user collection , default=deck\")\n",
    "    parser.add_argument(\"--id\", default=\"\", help=\"Specific Deck ID from solforgefusion website\")\n",
    "    \n",
    "    # Arguments for general use \n",
    "    # If both username and file is given, export deckbase to file.json \n",
    "    # If only file is given import deckbase from file.json \n",
    "    parser.add_argument(\"--filename\",  default=None,  help=\"Offline Deck Database Name\")\n",
    "    parser.add_argument(\"--synergies\", default=None, help=\"CSV Filename for synergy lookup\")    \n",
    "    parser.add_argument(\"--offline\", default=None, help=\"Offline use only\")    \n",
    "\n",
    "    # Arguments for Evaluation\n",
    "    \n",
    "    parser.add_argument(\"--eval\", nargs='?', const=True, action=\"store\",  help=\"Evaluate possible fusions. Optional filename for .csv export\")    \n",
    "    parser.add_argument(\"--graph\", action=\"store_true\",  help=\"Create Graph '.gefx'\")\n",
    "    parser.add_argument(\"--filter\", default=None, help=\"Filter by card names. Syntax: \\\"<cardname>+'<card name>'-<cardname>\\\" + = AND, - = OR \")\n",
    "    parser.add_argument(\"--select_pairs\", action=\"store_true\", help=\"Select top pairs\")\n",
    "    \n",
    "    # Parse the command-line arguments\n",
    "    return parser.parse_args(args)\n",
    "    \n",
    "\n"
   ]
  },
  {
   "cell_type": "code",
   "execution_count": 6,
   "metadata": {},
   "outputs": [
    {
     "name": "stdout",
     "output_type": "stream",
     "text": [
      "Requesting Data from Website: namrog,deck,\n"
     ]
    },
    {
     "name": "stderr",
     "output_type": "stream",
     "text": [
      "Fetching Data: 100%|\u001b[33m██████████\u001b[0m| 2794/2794 [00:21<00:00, 120.82it/s]\n"
     ]
    },
    {
     "name": "stdout",
     "output_type": "stream",
     "text": [
      "Requesting Data from Website: namrog,fuseddeck,\n"
     ]
    },
    {
     "name": "stderr",
     "output_type": "stream",
     "text": [
      "Fetching Data: 100%|\u001b[33m██████████\u001b[0m| 199/199 [00:00<?, ?it/s]\n",
      "Loading Decks: 2794it [00:09, 300.25it/s]\n",
      "Saving Fusions: 100%|\u001b[33m██████████\u001b[0m| 199/199 [00:00<00:00, 4411.16it/s]\n",
      " 75%|███████▍  | 5851162/7803642 [03:20<01:06, 29188.42it/s]\n"
     ]
    }
   ],
   "source": [
    "from soldb import main\n",
    "import os\n",
    "\n",
    "# Define Variables\n",
    "os.environ['PYDEVD_DISABLE_FILE_VALIDATION'] = '1'\n",
    "\n",
    "username = 'namrog'\n",
    "param_eval = 'namrog'\n",
    "\n",
    "arguments = [\"--username\" , username,\n",
    "              \"--eval\" , param_eval    ]\n",
    "\n",
    "args = parse_arguments(arguments)\n",
    "\n",
    "main(args)\n",
    "\n"
   ]
  },
  {
   "cell_type": "code",
   "execution_count": null,
   "metadata": {},
   "outputs": [],
   "source": [
    " "
   ]
  },
  {
   "cell_type": "code",
   "execution_count": null,
   "metadata": {},
   "outputs": [],
   "source": []
  }
 ],
 "metadata": {
  "kernelspec": {
   "display_name": "Python 3",
   "language": "python",
   "name": "python3"
  },
  "language_info": {
   "codemirror_mode": {
    "name": "ipython",
    "version": 3
   },
   "file_extension": ".py",
   "mimetype": "text/x-python",
   "name": "python",
   "nbconvert_exporter": "python",
   "pygments_lexer": "ipython3",
   "version": "3.11.6"
  }
 },
 "nbformat": 4,
 "nbformat_minor": 2
}
