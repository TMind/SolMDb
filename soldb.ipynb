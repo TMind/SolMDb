{
 "cells": [
  {
   "cell_type": "code",
   "execution_count": null,
   "metadata": {},
   "outputs": [],
   "source": []
  },
  {
   "cell_type": "markdown",
   "metadata": {},
   "source": [
    "## How to Use This Notebook\n",
    "\n",
    "This Jupyter notebook uses the `ipywidgets` module to create a graphical user interface. Here's how to use it:\n",
    "\n",
    "1. **Run the interface**: The cell below imports the `pygui` module and calls the `create_interface` function. This function creates the graphical user interface. To run this cell, click on it to select it, then click the \"Run\" button or use the `Shift + Enter` shortcut or the Play button in the top menu.\n",
    "\n",
    "2. **First steps**: To import data , you need to first replace `user` with your Solforge Fusion `username` in the box below. Then click the `Load` button on the bottom of the notebook. "
   ]
  },
  {
   "cell_type": "code",
   "execution_count": null,
   "metadata": {},
   "outputs": [],
   "source": [
    "import pygui as pgui\n",
    "pgui.setup_interface()\n",
    "pgui.db_list.value = 'tmind'\n",
    "pgui.tab.selected_index = 1\n",
    "\n",
    "\n",
    "#TODO: Fix the operator logic \n",
    "#TODO: Let the CSSManager handle the css attributes "
   ]
  }
 ],
 "metadata": {
  "kernelspec": {
   "display_name": "SolDB-Conda",
   "language": "python",
   "name": "python3"
  },
  "language_info": {
   "codemirror_mode": {
    "name": "ipython",
    "version": 3
   },
   "file_extension": ".py",
   "mimetype": "text/x-python",
   "name": "python",
   "nbconvert_exporter": "python",
   "pygments_lexer": "ipython3",
   "version": "3.11.10"
  }
 },
 "nbformat": 4,
 "nbformat_minor": 4
}
