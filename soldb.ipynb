{
 "cells": [
  {
   "cell_type": "markdown",
   "metadata": {},
   "source": [
    "## How to Use This Notebook\n",
    "\n",
    "This Jupyter notebook uses the `ipywidgets` module to create a graphical user interface. Here's how to use it:\n",
    "\n",
    "1. **Run the interface**: The cell below imports the `pygui` module and calls the `create_interface` function. This function creates the graphical user interface. To run this cell, click on it to select it, then click the \"Run\" button or use the `Shift + Enter` shortcut or the Play button in the top menu.\n",
    "\n",
    "2. **First steps**: To import data , you need to first replace `user` with your Solforge Fusion `username` in the box below. Then click the `Load` button on the bottom of the notebook. "
   ]
  },
  {
   "cell_type": "code",
   "execution_count": 1,
   "metadata": {},
   "outputs": [
    {
     "name": "stdout",
     "output_type": "stream",
     "text": [
      "Getting entity names for Modifier\n",
      "Entity names for Modifier: ['Abetting', 'Abyssal', 'Adaptive', 'Ardent', 'Armored', 'Arrogant', 'Assailing', 'Biding', 'Blitzing', 'Bolstering', 'Brashful', 'Camouflaged', 'Chaining', 'Charge Plated', 'Combat', 'Commanding', 'Corrupt', 'Cutthroat', 'Devouring', 'Doom', 'Ferocious', 'Fleet', 'Forsaken', 'Ghoulish', 'Hematophagic', 'Hibernating', 'Howling', 'Inflaming', 'Kindred', 'Magnivorous', 'Mystical', 'Necrotic', 'Pack', 'Petrifying', 'Piercing', 'Prepared', 'Progressive', 'Protective', 'Pyromantic', 'Quaking', 'Raging', 'Rallying', 'Reckless', 'Recycling', 'Refreshing', 'Regenerating', 'Reinforced', 'Roaring', 'Rooted', 'Salvage', 'Sated', 'Shambling', 'Shieldbearing', 'Shifting', 'Solemn', 'Soothing', 'Sparking', 'Stabilizing', 'Stampeding', 'Steadfast', 'Stout', 'Summoning', 'Suppressing', 'Synapse', 'Taunting', 'Tormenting', 'Toxic', 'Unstable', 'Vampiric', 'Venerable', 'Vile', 'Volcanic']\n",
      "Adding Modifier widget\n",
      "Getting entity names for Creature\n",
      "Entity names for Creature: ['Adept', 'Aegis Knight', 'Aetherforge Oracle', 'Aetheroot', 'Allomancer', 'Alluvian', 'Apocymancer', 'Apparition', 'Asir Mechamage', 'Assassin', 'Ator, Thunder Titan', 'Banshee', 'Bartok', 'Basher', 'Batterhide', 'Bear', 'Blight Witch', 'Blizzard Shaman', 'Bonescythe Reaver', 'Breaker', 'Bride of Frankenbaum', 'Brightsteel Gargoyle', 'Brightsteel Sentinel', 'Broodfang', 'Cacklebones', 'Caller', 'Captain', 'Chrogias', 'Colossus', 'Creeper', 'Darkheart Sorcerer', 'Decayasaur', 'Demon', 'Devourer', 'Dr. Frankenbaum', 'Drake', 'Drix', 'Drone', 'Druid', 'Elk', 'Engineer', 'Epoch Hawk', 'Epoch Soldier', 'Esperian Steelplate', 'Everflame Phoenix', 'Everflow Eidolon', 'Featherfang', 'Fiend', 'Firefist Uranti', 'Flamebreak Invoker', 'Flameshaper Savant', 'Forgeplate Yeti', 'Geist', 'Giant', 'Gizzy Mo', 'Glider', 'Glitch Scout', 'Gloomreaper Hag', 'Glowhive Siren', 'Grimgaunt Predator', 'Grove Mother', 'Hawkrider', 'Herald of Fury', 'Hunter', 'Icecrusher', 'Indomitable Fiend', 'Inventor', 'Invokist', 'Justicar', 'Keeper', 'Keeper of the Damned', 'Lasher', 'Leyline Vermin', 'Lightning Tamer', 'Lyria', 'Mad LeWinter', 'Mantis', 'Master', 'Matriarch', 'Medic', 'Metamind Overseer', 'Moeba', 'Musthic Megatha', 'Mystic', 'Mystical Tanglesprout', 'Mystical Teacher', 'Necromancer', 'Operator', 'Oreian Battledroid', 'Ossuary Mech', 'Oxidon Rager', 'Packmaster', 'Palladium Hindermind', 'Palladium Pulsemage', 'Palladium Simulacrum', 'Patriarch', 'Patron', 'Plague Spewer', 'Polymorpher', 'Portal Shade', 'Portotron 2000', 'Prophet', 'Rageborn Eruptor', 'Ranger', 'Raptor', 'Ravager', 'Razortooth', 'Reaper', 'Reinforcements', 'Relentless Wanderers', 'Researcher', 'Reveler', 'Revenant', 'Rex', 'Rimehorn Charger', 'Safeguard', 'Scavenger', 'Scorchmane Dragon', 'Scourge Hydra', 'Scrapper', 'Sculptor', 'Sentinel', 'Sentry', 'Shambler', 'Shardplate Delver', 'Shroudthorn Splicer', 'Sigmund Fraud', 'Skeleton', 'Slayer', 'Slime', 'Smash Fist', 'Sparking Omni', 'Specimen', 'Spectre', 'Spellknight', 'Spirit', 'Spirit Reaver', 'Spiritforge Sentinel', 'Spite Hydra', 'Spitemaiden', 'Spring Dryad', 'Stampeding Mongosaur', 'Steeleye Researcher', 'Steggadon Alpha', 'Stitcher', 'Stonefist', 'Storm Caller', 'Stormling', 'Stouthide Stegadon', 'Summoner', 'Swampmoss Lurker', 'Talisan', 'Technohulk', 'Techtician', 'Thundersaur', 'Thunderstomper', 'Toorgmai Guardian', 'Tortoise Colossus', 'Transcendent Biologist', 'Undeati', 'Uranti Elementalist', 'Uranti Heartseeker', 'Uterra Charger', 'Uterradon Mauler', 'Virtuoso', 'Voltaic Magus', 'Voltaic Prophet', 'Walker', 'War Machine', 'Warcharger', 'Warden', 'Warhound', 'Warstoker', 'Wartusk', 'Windspark Elemental', 'Wrecks', 'Wurm', 'Xithian Dreadmaw', 'Zimus']\n",
      "Getting entity names for Spell\n",
      "Entity names for Spell: ['Aegis Wings', 'Blightskull Bomb', 'Botanimate', 'Bulwark Bash', 'Burnout', \"Cercee's Call\", 'Chant of Umbruk', 'Conflagrate', 'Cypien Augmentation', 'Cypien Experimentation', 'Death Current', 'Dendrify', 'Digitize', 'Disintegrate', 'Dreadbolt', \"Druid's Chant\", 'Duplication Dome', 'Dysian Syphon', 'Electronet', 'Elementalist Ritual', 'Energy Prison', 'Energy Surge', 'Epidemic', 'Everflame Aura', 'Feral Instinct', 'Ferocious Roar', 'Fireheart Idol', 'Firestorm', 'Fit of Rage', 'Flame Jet', \"Flamesculptor's Seal\", 'Forcefield', 'Forge Seal', 'Gauntlets of Sulgrim', 'Ghastly Renewal', 'Glowhive Nursery', 'Grave Pact', 'Group Meal', 'Heart Tree', 'Heavy Artillery', 'Howl of Xith', 'Ice Storm', 'Infernal Ritual', 'Lead the Charge', 'Lightning Brand', 'Lightning Charge', 'Lightning Ritual', 'Lightning Spark', 'Lucid Echoes', 'Lysian Rain', 'Metasight', 'Might of the Herd', 'Nanoswarm', 'Naptime', 'Necrovive', 'Omnomnom', \"Pack's Blessing\", \"Patriarch's Binding\", 'Primal Surge', 'Primordial Slam', 'Pyre Song', 'Redact', 'Savage Oath', \"Shadow's Strength\", 'Shield Node', 'Sonic Burst', 'Soulreap', 'Spiked Carapice', 'Spiritleash', 'Staff of Vaerus', 'Steelgraft', 'Stone Skin', 'Summoning Council', \"Synteta's Laboratory\", 'Tech Upgrade', 'Toxic Spores', 'Turnabout', \"Varna's Pact\", 'Venom Chalice', 'Vine Lash', \"Vyric's Embrace\", 'Warbringer Ritual', 'Warmonger Mod', \"Xrath's Will\"]\n",
      "Adding Creature/Spell widget\n"
     ]
    },
    {
     "data": {
      "application/vnd.jupyter.widget-view+json": {
       "model_id": "afbe81b4827848be965a36c804a29433",
       "version_major": 2,
       "version_minor": 0
      },
      "text/plain": [
       "VBox(children=(ToggleButtons(description='Reload:', options=('Decks', 'Fusions', 'Entities', 'Forgeborns'), to…"
      ]
     },
     "metadata": {},
     "output_type": "display_data"
    },
    {
     "data": {
      "application/vnd.jupyter.widget-view+json": {
       "model_id": "adec68db7a314b2f86e0e5b8d37eccd6",
       "version_major": 2,
       "version_minor": 0
      },
      "text/plain": [
       "Output()"
      ]
     },
     "metadata": {},
     "output_type": "display_data"
    },
    {
     "data": {
      "application/vnd.jupyter.widget-view+json": {
       "model_id": "ce8f01e6998b4892bbfb4ca746aa099e",
       "version_major": 2,
       "version_minor": 0
      },
      "text/plain": [
       "Output()"
      ]
     },
     "metadata": {},
     "output_type": "display_data"
    },
    {
     "data": {
      "application/vnd.jupyter.widget-view+json": {
       "model_id": "4f0609e71bee4def84bd628bcb8babaa",
       "version_major": 2,
       "version_minor": 0
      },
      "text/plain": [
       "HBox(children=(ToggleButtons(button_style='info', options=('Alloyin', 'Nekrium', 'Tempys', 'Uterra'), tooltips…"
      ]
     },
     "metadata": {},
     "output_type": "display_data"
    },
    {
     "data": {
      "application/vnd.jupyter.widget-view+json": {
       "model_id": "e26f7720c2ae42028aebe6fb6cf2b63d",
       "version_major": 2,
       "version_minor": 0
      },
      "text/plain": [
       "HBox(children=(ToggleButtons(button_style='info', options=('Alloyin', 'Nekrium', 'Tempys', 'Uterra'), tooltips…"
      ]
     },
     "metadata": {},
     "output_type": "display_data"
    },
    {
     "data": {
      "application/vnd.jupyter.widget-view+json": {
       "model_id": "d511b5e275a646f6b9dd2b37b4e6b9e7",
       "version_major": 2,
       "version_minor": 0
      },
      "text/plain": [
       "Button(description='Show Graph', style=ButtonStyle())"
      ]
     },
     "metadata": {},
     "output_type": "display_data"
    },
    {
     "name": "stdout",
     "output_type": "stream",
     "text": [
      "Getting entity names for Modifier\n",
      "Entity names for Modifier: ['Abetting', 'Abyssal', 'Adaptive', 'Ardent', 'Armored', 'Arrogant', 'Assailing', 'Biding', 'Blitzing', 'Bolstering', 'Brashful', 'Camouflaged', 'Chaining', 'Charge Plated', 'Combat', 'Commanding', 'Corrupt', 'Cutthroat', 'Devouring', 'Doom', 'Ferocious', 'Fleet', 'Forsaken', 'Ghoulish', 'Hematophagic', 'Hibernating', 'Howling', 'Inflaming', 'Kindred', 'Magnivorous', 'Mystical', 'Necrotic', 'Pack', 'Petrifying', 'Piercing', 'Prepared', 'Progressive', 'Protective', 'Pyromantic', 'Quaking', 'Raging', 'Rallying', 'Reckless', 'Recycling', 'Refreshing', 'Regenerating', 'Reinforced', 'Roaring', 'Rooted', 'Salvage', 'Sated', 'Shambling', 'Shieldbearing', 'Shifting', 'Solemn', 'Soothing', 'Sparking', 'Stabilizing', 'Stampeding', 'Steadfast', 'Stout', 'Summoning', 'Suppressing', 'Synapse', 'Taunting', 'Tormenting', 'Toxic', 'Unstable', 'Vampiric', 'Venerable', 'Vile', 'Volcanic']\n",
      "Filtered options for Blight Witch: []\n"
     ]
    },
    {
     "name": "stdout",
     "output_type": "stream",
     "text": [
      "Getting entity names for Modifier\n",
      "Entity names for Modifier: ['Abetting', 'Abyssal', 'Adaptive', 'Ardent', 'Armored', 'Arrogant', 'Assailing', 'Biding', 'Blitzing', 'Bolstering', 'Brashful', 'Camouflaged', 'Chaining', 'Charge Plated', 'Combat', 'Commanding', 'Corrupt', 'Cutthroat', 'Devouring', 'Doom', 'Ferocious', 'Fleet', 'Forsaken', 'Ghoulish', 'Hematophagic', 'Hibernating', 'Howling', 'Inflaming', 'Kindred', 'Magnivorous', 'Mystical', 'Necrotic', 'Pack', 'Petrifying', 'Piercing', 'Prepared', 'Progressive', 'Protective', 'Pyromantic', 'Quaking', 'Raging', 'Rallying', 'Reckless', 'Recycling', 'Refreshing', 'Regenerating', 'Reinforced', 'Roaring', 'Rooted', 'Salvage', 'Sated', 'Shambling', 'Shieldbearing', 'Shifting', 'Solemn', 'Soothing', 'Sparking', 'Stabilizing', 'Stampeding', 'Steadfast', 'Stout', 'Summoning', 'Suppressing', 'Synapse', 'Taunting', 'Tormenting', 'Toxic', 'Unstable', 'Vampiric', 'Venerable', 'Vile', 'Volcanic']\n",
      "Filtered options for Bear: ['Camouflaged', 'Combat', 'Magnivorous']\n"
     ]
    },
    {
     "name": "stdout",
     "output_type": "stream",
     "text": [
      "Getting entity names for Modifier\n",
      "Entity names for Modifier: ['Abetting', 'Abyssal', 'Adaptive', 'Ardent', 'Armored', 'Arrogant', 'Assailing', 'Biding', 'Blitzing', 'Bolstering', 'Brashful', 'Camouflaged', 'Chaining', 'Charge Plated', 'Combat', 'Commanding', 'Corrupt', 'Cutthroat', 'Devouring', 'Doom', 'Ferocious', 'Fleet', 'Forsaken', 'Ghoulish', 'Hematophagic', 'Hibernating', 'Howling', 'Inflaming', 'Kindred', 'Magnivorous', 'Mystical', 'Necrotic', 'Pack', 'Petrifying', 'Piercing', 'Prepared', 'Progressive', 'Protective', 'Pyromantic', 'Quaking', 'Raging', 'Rallying', 'Reckless', 'Recycling', 'Refreshing', 'Regenerating', 'Reinforced', 'Roaring', 'Rooted', 'Salvage', 'Sated', 'Shambling', 'Shieldbearing', 'Shifting', 'Solemn', 'Soothing', 'Sparking', 'Stabilizing', 'Stampeding', 'Steadfast', 'Stout', 'Summoning', 'Suppressing', 'Synapse', 'Taunting', 'Tormenting', 'Toxic', 'Unstable', 'Vampiric', 'Venerable', 'Vile', 'Volcanic']\n",
      "Filtered options for Blight Witch: []\n"
     ]
    },
    {
     "name": "stdout",
     "output_type": "stream",
     "text": [
      "Getting entity names for Modifier\n",
      "Entity names for Modifier: ['Abetting', 'Abyssal', 'Adaptive', 'Ardent', 'Armored', 'Arrogant', 'Assailing', 'Biding', 'Blitzing', 'Bolstering', 'Brashful', 'Camouflaged', 'Chaining', 'Charge Plated', 'Combat', 'Commanding', 'Corrupt', 'Cutthroat', 'Devouring', 'Doom', 'Ferocious', 'Fleet', 'Forsaken', 'Ghoulish', 'Hematophagic', 'Hibernating', 'Howling', 'Inflaming', 'Kindred', 'Magnivorous', 'Mystical', 'Necrotic', 'Pack', 'Petrifying', 'Piercing', 'Prepared', 'Progressive', 'Protective', 'Pyromantic', 'Quaking', 'Raging', 'Rallying', 'Reckless', 'Recycling', 'Refreshing', 'Regenerating', 'Reinforced', 'Roaring', 'Rooted', 'Salvage', 'Sated', 'Shambling', 'Shieldbearing', 'Shifting', 'Solemn', 'Soothing', 'Sparking', 'Stabilizing', 'Stampeding', 'Steadfast', 'Stout', 'Summoning', 'Suppressing', 'Synapse', 'Taunting', 'Tormenting', 'Toxic', 'Unstable', 'Vampiric', 'Venerable', 'Vile', 'Volcanic']\n",
      "Filtered options for Blizzard Shaman: []\n"
     ]
    },
    {
     "name": "stdout",
     "output_type": "stream",
     "text": [
      "Getting entity names for Modifier\n",
      "Entity names for Modifier: ['Abetting', 'Abyssal', 'Adaptive', 'Ardent', 'Armored', 'Arrogant', 'Assailing', 'Biding', 'Blitzing', 'Bolstering', 'Brashful', 'Camouflaged', 'Chaining', 'Charge Plated', 'Combat', 'Commanding', 'Corrupt', 'Cutthroat', 'Devouring', 'Doom', 'Ferocious', 'Fleet', 'Forsaken', 'Ghoulish', 'Hematophagic', 'Hibernating', 'Howling', 'Inflaming', 'Kindred', 'Magnivorous', 'Mystical', 'Necrotic', 'Pack', 'Petrifying', 'Piercing', 'Prepared', 'Progressive', 'Protective', 'Pyromantic', 'Quaking', 'Raging', 'Rallying', 'Reckless', 'Recycling', 'Refreshing', 'Regenerating', 'Reinforced', 'Roaring', 'Rooted', 'Salvage', 'Sated', 'Shambling', 'Shieldbearing', 'Shifting', 'Solemn', 'Soothing', 'Sparking', 'Stabilizing', 'Stampeding', 'Steadfast', 'Stout', 'Summoning', 'Suppressing', 'Synapse', 'Taunting', 'Tormenting', 'Toxic', 'Unstable', 'Vampiric', 'Venerable', 'Vile', 'Volcanic']\n",
      "Filtered options for Bride of Frankenbaum: []\n"
     ]
    },
    {
     "name": "stdout",
     "output_type": "stream",
     "text": [
      "Getting entity names for Modifier\n",
      "Entity names for Modifier: ['Abetting', 'Abyssal', 'Adaptive', 'Ardent', 'Armored', 'Arrogant', 'Assailing', 'Biding', 'Blitzing', 'Bolstering', 'Brashful', 'Camouflaged', 'Chaining', 'Charge Plated', 'Combat', 'Commanding', 'Corrupt', 'Cutthroat', 'Devouring', 'Doom', 'Ferocious', 'Fleet', 'Forsaken', 'Ghoulish', 'Hematophagic', 'Hibernating', 'Howling', 'Inflaming', 'Kindred', 'Magnivorous', 'Mystical', 'Necrotic', 'Pack', 'Petrifying', 'Piercing', 'Prepared', 'Progressive', 'Protective', 'Pyromantic', 'Quaking', 'Raging', 'Rallying', 'Reckless', 'Recycling', 'Refreshing', 'Regenerating', 'Reinforced', 'Roaring', 'Rooted', 'Salvage', 'Sated', 'Shambling', 'Shieldbearing', 'Shifting', 'Solemn', 'Soothing', 'Sparking', 'Stabilizing', 'Stampeding', 'Steadfast', 'Stout', 'Summoning', 'Suppressing', 'Synapse', 'Taunting', 'Tormenting', 'Toxic', 'Unstable', 'Vampiric', 'Venerable', 'Vile', 'Volcanic']\n",
      "Filtered options for Caller: ['Assailing', 'Raging', 'Reckless', 'Stout', 'Summoning']\n"
     ]
    },
    {
     "name": "stdout",
     "output_type": "stream",
     "text": [
      "Getting entity names for Creature\n",
      "Entity names for Creature: ['Adept', 'Aegis Knight', 'Aetherforge Oracle', 'Aetheroot', 'Allomancer', 'Alluvian', 'Apocymancer', 'Apparition', 'Asir Mechamage', 'Assassin', 'Ator, Thunder Titan', 'Banshee', 'Bartok', 'Basher', 'Batterhide', 'Bear', 'Blight Witch', 'Blizzard Shaman', 'Bonescythe Reaver', 'Breaker', 'Bride of Frankenbaum', 'Brightsteel Gargoyle', 'Brightsteel Sentinel', 'Broodfang', 'Cacklebones', 'Caller', 'Captain', 'Chrogias', 'Colossus', 'Creeper', 'Darkheart Sorcerer', 'Decayasaur', 'Demon', 'Devourer', 'Dr. Frankenbaum', 'Drake', 'Drix', 'Drone', 'Druid', 'Elk', 'Engineer', 'Epoch Hawk', 'Epoch Soldier', 'Esperian Steelplate', 'Everflame Phoenix', 'Everflow Eidolon', 'Featherfang', 'Fiend', 'Firefist Uranti', 'Flamebreak Invoker', 'Flameshaper Savant', 'Forgeplate Yeti', 'Geist', 'Giant', 'Gizzy Mo', 'Glider', 'Glitch Scout', 'Gloomreaper Hag', 'Glowhive Siren', 'Grimgaunt Predator', 'Grove Mother', 'Hawkrider', 'Herald of Fury', 'Hunter', 'Icecrusher', 'Indomitable Fiend', 'Inventor', 'Invokist', 'Justicar', 'Keeper', 'Keeper of the Damned', 'Lasher', 'Leyline Vermin', 'Lightning Tamer', 'Lyria', 'Mad LeWinter', 'Mantis', 'Master', 'Matriarch', 'Medic', 'Metamind Overseer', 'Moeba', 'Musthic Megatha', 'Mystic', 'Mystical Tanglesprout', 'Mystical Teacher', 'Necromancer', 'Operator', 'Oreian Battledroid', 'Ossuary Mech', 'Oxidon Rager', 'Packmaster', 'Palladium Hindermind', 'Palladium Pulsemage', 'Palladium Simulacrum', 'Patriarch', 'Patron', 'Plague Spewer', 'Polymorpher', 'Portal Shade', 'Portotron 2000', 'Prophet', 'Rageborn Eruptor', 'Ranger', 'Raptor', 'Ravager', 'Razortooth', 'Reaper', 'Reinforcements', 'Relentless Wanderers', 'Researcher', 'Reveler', 'Revenant', 'Rex', 'Rimehorn Charger', 'Safeguard', 'Scavenger', 'Scorchmane Dragon', 'Scourge Hydra', 'Scrapper', 'Sculptor', 'Sentinel', 'Sentry', 'Shambler', 'Shardplate Delver', 'Shroudthorn Splicer', 'Sigmund Fraud', 'Skeleton', 'Slayer', 'Slime', 'Smash Fist', 'Sparking Omni', 'Specimen', 'Spectre', 'Spellknight', 'Spirit', 'Spirit Reaver', 'Spiritforge Sentinel', 'Spite Hydra', 'Spitemaiden', 'Spring Dryad', 'Stampeding Mongosaur', 'Steeleye Researcher', 'Steggadon Alpha', 'Stitcher', 'Stonefist', 'Storm Caller', 'Stormling', 'Stouthide Stegadon', 'Summoner', 'Swampmoss Lurker', 'Talisan', 'Technohulk', 'Techtician', 'Thundersaur', 'Thunderstomper', 'Toorgmai Guardian', 'Tortoise Colossus', 'Transcendent Biologist', 'Undeati', 'Uranti Elementalist', 'Uranti Heartseeker', 'Uterra Charger', 'Uterradon Mauler', 'Virtuoso', 'Voltaic Magus', 'Voltaic Prophet', 'Walker', 'War Machine', 'Warcharger', 'Warden', 'Warhound', 'Warstoker', 'Wartusk', 'Windspark Elemental', 'Wrecks', 'Wurm', 'Xithian Dreadmaw', 'Zimus']\n",
      "Getting entity names for Spell\n",
      "Entity names for Spell: ['Aegis Wings', 'Blightskull Bomb', 'Botanimate', 'Bulwark Bash', 'Burnout', \"Cercee's Call\", 'Chant of Umbruk', 'Conflagrate', 'Cypien Augmentation', 'Cypien Experimentation', 'Death Current', 'Dendrify', 'Digitize', 'Disintegrate', 'Dreadbolt', \"Druid's Chant\", 'Duplication Dome', 'Dysian Syphon', 'Electronet', 'Elementalist Ritual', 'Energy Prison', 'Energy Surge', 'Epidemic', 'Everflame Aura', 'Feral Instinct', 'Ferocious Roar', 'Fireheart Idol', 'Firestorm', 'Fit of Rage', 'Flame Jet', \"Flamesculptor's Seal\", 'Forcefield', 'Forge Seal', 'Gauntlets of Sulgrim', 'Ghastly Renewal', 'Glowhive Nursery', 'Grave Pact', 'Group Meal', 'Heart Tree', 'Heavy Artillery', 'Howl of Xith', 'Ice Storm', 'Infernal Ritual', 'Lead the Charge', 'Lightning Brand', 'Lightning Charge', 'Lightning Ritual', 'Lightning Spark', 'Lucid Echoes', 'Lysian Rain', 'Metasight', 'Might of the Herd', 'Nanoswarm', 'Naptime', 'Necrovive', 'Omnomnom', \"Pack's Blessing\", \"Patriarch's Binding\", 'Primal Surge', 'Primordial Slam', 'Pyre Song', 'Redact', 'Savage Oath', \"Shadow's Strength\", 'Shield Node', 'Sonic Burst', 'Soulreap', 'Spiked Carapice', 'Spiritleash', 'Staff of Vaerus', 'Steelgraft', 'Stone Skin', 'Summoning Council', \"Synteta's Laboratory\", 'Tech Upgrade', 'Toxic Spores', 'Turnabout', \"Varna's Pact\", 'Venom Chalice', 'Vine Lash', \"Vyric's Embrace\", 'Warbringer Ritual', 'Warmonger Mod', \"Xrath's Will\"]\n",
      "Filtered options for Reckless: ['Caller', 'Colossus', 'Giant', 'Warhound']\n"
     ]
    },
    {
     "name": "stdout",
     "output_type": "stream",
     "text": [
      "Getting entity names for Creature\n",
      "Entity names for Creature: ['Adept', 'Aegis Knight', 'Aetherforge Oracle', 'Aetheroot', 'Allomancer', 'Alluvian', 'Apocymancer', 'Apparition', 'Asir Mechamage', 'Assassin', 'Ator, Thunder Titan', 'Banshee', 'Bartok', 'Basher', 'Batterhide', 'Bear', 'Blight Witch', 'Blizzard Shaman', 'Bonescythe Reaver', 'Breaker', 'Bride of Frankenbaum', 'Brightsteel Gargoyle', 'Brightsteel Sentinel', 'Broodfang', 'Cacklebones', 'Caller', 'Captain', 'Chrogias', 'Colossus', 'Creeper', 'Darkheart Sorcerer', 'Decayasaur', 'Demon', 'Devourer', 'Dr. Frankenbaum', 'Drake', 'Drix', 'Drone', 'Druid', 'Elk', 'Engineer', 'Epoch Hawk', 'Epoch Soldier', 'Esperian Steelplate', 'Everflame Phoenix', 'Everflow Eidolon', 'Featherfang', 'Fiend', 'Firefist Uranti', 'Flamebreak Invoker', 'Flameshaper Savant', 'Forgeplate Yeti', 'Geist', 'Giant', 'Gizzy Mo', 'Glider', 'Glitch Scout', 'Gloomreaper Hag', 'Glowhive Siren', 'Grimgaunt Predator', 'Grove Mother', 'Hawkrider', 'Herald of Fury', 'Hunter', 'Icecrusher', 'Indomitable Fiend', 'Inventor', 'Invokist', 'Justicar', 'Keeper', 'Keeper of the Damned', 'Lasher', 'Leyline Vermin', 'Lightning Tamer', 'Lyria', 'Mad LeWinter', 'Mantis', 'Master', 'Matriarch', 'Medic', 'Metamind Overseer', 'Moeba', 'Musthic Megatha', 'Mystic', 'Mystical Tanglesprout', 'Mystical Teacher', 'Necromancer', 'Operator', 'Oreian Battledroid', 'Ossuary Mech', 'Oxidon Rager', 'Packmaster', 'Palladium Hindermind', 'Palladium Pulsemage', 'Palladium Simulacrum', 'Patriarch', 'Patron', 'Plague Spewer', 'Polymorpher', 'Portal Shade', 'Portotron 2000', 'Prophet', 'Rageborn Eruptor', 'Ranger', 'Raptor', 'Ravager', 'Razortooth', 'Reaper', 'Reinforcements', 'Relentless Wanderers', 'Researcher', 'Reveler', 'Revenant', 'Rex', 'Rimehorn Charger', 'Safeguard', 'Scavenger', 'Scorchmane Dragon', 'Scourge Hydra', 'Scrapper', 'Sculptor', 'Sentinel', 'Sentry', 'Shambler', 'Shardplate Delver', 'Shroudthorn Splicer', 'Sigmund Fraud', 'Skeleton', 'Slayer', 'Slime', 'Smash Fist', 'Sparking Omni', 'Specimen', 'Spectre', 'Spellknight', 'Spirit', 'Spirit Reaver', 'Spiritforge Sentinel', 'Spite Hydra', 'Spitemaiden', 'Spring Dryad', 'Stampeding Mongosaur', 'Steeleye Researcher', 'Steggadon Alpha', 'Stitcher', 'Stonefist', 'Storm Caller', 'Stormling', 'Stouthide Stegadon', 'Summoner', 'Swampmoss Lurker', 'Talisan', 'Technohulk', 'Techtician', 'Thundersaur', 'Thunderstomper', 'Toorgmai Guardian', 'Tortoise Colossus', 'Transcendent Biologist', 'Undeati', 'Uranti Elementalist', 'Uranti Heartseeker', 'Uterra Charger', 'Uterradon Mauler', 'Virtuoso', 'Voltaic Magus', 'Voltaic Prophet', 'Walker', 'War Machine', 'Warcharger', 'Warden', 'Warhound', 'Warstoker', 'Wartusk', 'Windspark Elemental', 'Wrecks', 'Wurm', 'Xithian Dreadmaw', 'Zimus']\n",
      "Getting entity names for Spell\n",
      "Entity names for Spell: ['Aegis Wings', 'Blightskull Bomb', 'Botanimate', 'Bulwark Bash', 'Burnout', \"Cercee's Call\", 'Chant of Umbruk', 'Conflagrate', 'Cypien Augmentation', 'Cypien Experimentation', 'Death Current', 'Dendrify', 'Digitize', 'Disintegrate', 'Dreadbolt', \"Druid's Chant\", 'Duplication Dome', 'Dysian Syphon', 'Electronet', 'Elementalist Ritual', 'Energy Prison', 'Energy Surge', 'Epidemic', 'Everflame Aura', 'Feral Instinct', 'Ferocious Roar', 'Fireheart Idol', 'Firestorm', 'Fit of Rage', 'Flame Jet', \"Flamesculptor's Seal\", 'Forcefield', 'Forge Seal', 'Gauntlets of Sulgrim', 'Ghastly Renewal', 'Glowhive Nursery', 'Grave Pact', 'Group Meal', 'Heart Tree', 'Heavy Artillery', 'Howl of Xith', 'Ice Storm', 'Infernal Ritual', 'Lead the Charge', 'Lightning Brand', 'Lightning Charge', 'Lightning Ritual', 'Lightning Spark', 'Lucid Echoes', 'Lysian Rain', 'Metasight', 'Might of the Herd', 'Nanoswarm', 'Naptime', 'Necrovive', 'Omnomnom', \"Pack's Blessing\", \"Patriarch's Binding\", 'Primal Surge', 'Primordial Slam', 'Pyre Song', 'Redact', 'Savage Oath', \"Shadow's Strength\", 'Shield Node', 'Sonic Burst', 'Soulreap', 'Spiked Carapice', 'Spiritleash', 'Staff of Vaerus', 'Steelgraft', 'Stone Skin', 'Summoning Council', \"Synteta's Laboratory\", 'Tech Upgrade', 'Toxic Spores', 'Turnabout', \"Varna's Pact\", 'Venom Chalice', 'Vine Lash', \"Vyric's Embrace\", 'Warbringer Ritual', 'Warmonger Mod', \"Xrath's Will\"]\n",
      "Filtered options for Assailing: ['Caller', 'Stormling', 'Warhound', 'Warstoker']\n"
     ]
    }
   ],
   "source": [
    "import pygui as pgui\n",
    "pgui.setup_interface()"
   ]
  }
 ],
 "metadata": {
  "kernelspec": {
   "display_name": "Python 3 (ipykernel)",
   "language": "python",
   "name": "python3"
  },
  "language_info": {
   "codemirror_mode": {
    "name": "ipython",
    "version": 3
   },
   "file_extension": ".py",
   "mimetype": "text/x-python",
   "name": "python",
   "nbconvert_exporter": "python",
   "pygments_lexer": "ipython3",
   "version": "3.11.6"
  }
 },
 "nbformat": 4,
 "nbformat_minor": 4
}
