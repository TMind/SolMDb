{
 "cells": [
  {
   "cell_type": "code",
   "execution_count": 1,
   "metadata": {},
   "outputs": [],
   "source": [
    "from soldb import main, parse_arguments\n",
    "import os\n",
    "\n",
    "# Define Variables\n",
    "os.environ['PYDEVD_DISABLE_FILE_VALIDATION'] = '1'\n",
    "\n",
    "username = 'ironbrice'\n",
    "param_eval = 'ironbrice'\n",
    "mode = 'update'\n",
    "\n",
    "arguments = [\"--username\" , username,\n",
    "              \"--eval\" , param_eval,\n",
    "              #\"--filter\", \"C~Biologist\" \n",
    "                  #\"--type\", \"fuseddeck\"  \n",
    "]\n",
    "\n",
    "# Now you can use the imported functions\n",
    "args = parse_arguments(arguments)\n",
    "\n",
    "# Example usage:\n",
    "\n",
    "        # F =>  String: Faction                  'Alloyn'              F=Alloyn\n",
    "        # D =>  String: Deckname                 'Insane'              D~Forge\n",
    "        # FB => String: Forgeborn               'Ironbeard'            FB=Ironbeard\n",
    "        # C  => List:   Cardnames               'Digitize'             C~Digitize\n",
    "        # A  => List:   Forgeborn - Ability     'Army Commander'       A~'Army Commander'\n",
    "        # K  => Dict:   Composition             'Robot'                K:Robot > 3\n"
   ]
  },
  {
   "cell_type": "code",
   "execution_count": 2,
   "metadata": {},
   "outputs": [
    {
     "name": "stdout",
     "output_type": "stream",
     "text": [
      "nodes.html\n"
     ]
    },
    {
     "data": {
      "text/html": [
       "\n",
       "        <iframe\n",
       "            width=\"100%\"\n",
       "            height=\"600px\"\n",
       "            src=\"nodes.html\"\n",
       "            frameborder=\"0\"\n",
       "            allowfullscreen\n",
       "            \n",
       "        ></iframe>\n",
       "        "
      ],
      "text/plain": [
       "<IPython.lib.display.IFrame at 0x11099dad0>"
      ]
     },
     "execution_count": 2,
     "metadata": {},
     "output_type": "execute_result"
    }
   ],
   "source": [
    "from networkx import descendants\n",
    "from pyvis.network import Network\n",
    "from CardLibrary import Deck\n",
    "import GlobalVariables\n",
    "\n",
    "GlobalVariables.username = 'tmind'\n",
    "myDeck = Deck.lookup(\"The Upstaging Eternity Worms\")\n",
    "if myDeck is not None:\n",
    "    MyG = myDeck.create_graph_children()\n",
    "\n",
    "net = Network(notebook=True, cdn_resources='remote')\n",
    "net.force_atlas_2based()\n",
    "net.from_nx(MyG.G)\n",
    "# Display the network\n",
    "net.show_buttons(filter_=['physics'])\n",
    "net.show(\"nodes.html\")"
   ]
  }
 ],
 "metadata": {
  "kernelspec": {
   "display_name": "Python 3",
   "language": "python",
   "name": "python3"
  },
  "language_info": {
   "codemirror_mode": {
    "name": "ipython",
    "version": 3
   },
   "file_extension": ".py",
   "mimetype": "text/x-python",
   "name": "python",
   "nbconvert_exporter": "python",
   "pygments_lexer": "ipython3",
   "version": "3.11.6"
  }
 },
 "nbformat": 4,
 "nbformat_minor": 2
}
