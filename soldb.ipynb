{
 "cells": [
  {
   "cell_type": "markdown",
   "metadata": {},
   "source": [
    "## How to Use This Notebook\n",
    "\n",
    "This Jupyter notebook uses the `pygui` module to create a graphical user interface. Here's how to use it:\n",
    "\n",
    "1. **Run the notebook**: To run the notebook, you can click on the \"Run\" button in the toolbar at the top of the page, or use the keyboard shortcut `Shift + Enter`. This will run the currently selected cell.\n",
    "\n",
    "2. **Run the interface**: The cell below imports the `pygui` module and calls the `create_interface` function. This function creates the graphical user interface. To run this cell, click on it to select it, then click the \"Run\" button or use the `Shift + Enter` shortcut.\n"
   ]
  },
  {
   "cell_type": "code",
   "execution_count": 1,
   "metadata": {},
   "outputs": [
    {
     "data": {
      "application/vnd.jupyter.widget-view+json": {
       "model_id": "16c0d35b20f240cf9cab5cf039b0e032",
       "version_major": 2,
       "version_minor": 0
      },
      "text/plain": [
       "Dropdown(description='Card Title:', layout=Layout(width='200px'), options=('-', 'Adaptive Prophet', 'Aegis Win…"
      ]
     },
     "metadata": {},
     "output_type": "display_data"
    },
    {
     "data": {
      "application/vnd.jupyter.widget-view+json": {
       "model_id": "1852af005cb04ec3a6974ee2bdec4672",
       "version_major": 2,
       "version_minor": 0
      },
      "text/plain": [
       "VBox(children=(Text(value='flavasava', description='Username:'), VBox(children=(RadioButtons(description='Data…"
      ]
     },
     "metadata": {},
     "output_type": "display_data"
    },
    {
     "data": {
      "application/vnd.jupyter.widget-view+json": {
       "model_id": "e85456e6e99746299419008d7c0df4cd",
       "version_major": 2,
       "version_minor": 0
      },
      "text/plain": [
       "Output()"
      ]
     },
     "metadata": {},
     "output_type": "display_data"
    }
   ],
   "source": [
    "import pygui as pgui\n",
    "pgui.create_interface()"
   ]
  }
 ],
 "metadata": {
  "kernelspec": {
   "display_name": "Python 3 (ipykernel)",
   "language": "python",
   "name": "python3"
  },
  "language_info": {
   "codemirror_mode": {
    "name": "ipython",
    "version": 3
   },
   "file_extension": ".py",
   "mimetype": "text/x-python",
   "name": "python",
   "nbconvert_exporter": "python",
   "pygments_lexer": "ipython3",
   "version": "3.11.6"
  }
 },
 "nbformat": 4,
 "nbformat_minor": 4
}
