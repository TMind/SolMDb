{
 "cells": [
  {
   "cell_type": "markdown",
   "metadata": {},
   "source": [
    "## How to Use This Notebook\n",
    "\n",
    "This Jupyter notebook uses the `ipywidgets` module to create a graphical user interface. Here's how to use it:\n",
    "\n",
    "1. **Run the interface**: The cell below imports the `pygui` module and calls the `create_interface` function. This function creates the graphical user interface. To run this cell, click on it to select it, then click the \"Run\" button or use the `Shift + Enter` shortcut or the Play button in the top menu.\n",
    "\n",
    "2. **First steps**: To import data , you need to first replace `user` with your Solforge Fusion `username` in the box below. Then click the `Load` button on the bottom of the notebook. "
   ]
  },
  {
   "cell_type": "code",
   "execution_count": 1,
   "metadata": {},
   "outputs": [
    {
     "data": {
      "text/html": [
       "<style>/* Customizes the scrollbar within qgrid */\n",
       ".q-grid ::-webkit-scrollbar {\n",
       "    width: 5px;  /* Smaller width for vertical scrollbar */\n",
       "    height: 5px; /* Smaller height for horizontal scrollbar */\n",
       "}\n",
       "\n",
       ".q-grid ::-webkit-scrollbar-track {\n",
       "    border-radius: 10px;\n",
       "    background: rgba(0,0,0,0.1); /* Light background for the track */\n",
       "}\n",
       "\n",
       ".q-grid ::-webkit-scrollbar-thumb {\n",
       "    border-radius: 10px;\n",
       "    background: rgba(128,128,128,0.8); /* Lighter gray color for the thumb */\n",
       "}\n",
       "\n",
       ".q-grid ::-webkit-scrollbar-thumb:hover {\n",
       "    background: rgba(90,90,90,0.8); /* Slightly darker gray on hover */\n",
       "}\n",
       "\n",
       "/* Static color for sorted column headers */\n",
       ".sorted-column-header-ascending {\n",
       "    background: linear-gradient(to bottom, #b3e5fc, #0288d1) !important;\n",
       "    color: white;\n",
       "}\n",
       "\n",
       "/* Static color for sorted column headers */\n",
       ".sorted-column-header-descending {\n",
       "    background: linear-gradient(to top, #b3e5fc, #0288d1) !important;\n",
       "    color: white;\n",
       "}\n",
       "\n",
       "/* General sorted column style (optional for borders) */\n",
       ".sorted-column {\n",
       "    border: 1px solid #0288d1;\n",
       "}\n",
       "\n",
       "/* CSS for filtered columns */\n",
       ".filtered-column {\n",
       "    background-color: #fcf8e3;  /* Light yellow */\n",
       "    border: 2px solid #f0ad4e;  /* Orange border */\n",
       "}</style>"
      ],
      "text/plain": [
       "<IPython.core.display.HTML object>"
      ]
     },
     "metadata": {},
     "output_type": "display_data"
    },
    {
     "data": {
      "text/html": [
       "\n",
       "<style>\n",
       "    .custom-select-multiple option:checked {\n",
       "        background-color: lightgreen !important;\n",
       "        color: black !important;\n",
       "    }\n",
       "    .custom-select-multiple option.active {\n",
       "        background-color: lightgreen !important;\n",
       "    }\n",
       "</style>\n"
      ],
      "text/plain": [
       "<IPython.core.display.HTML object>"
      ]
     },
     "metadata": {},
     "output_type": "display_data"
    },
    {
     "data": {
      "text/html": [
       "\n",
       "        <style>\n",
       "            .filter_grids .slick-header-column {\n",
       "                height: 140px !important;\n",
       "                text-align: left !important;\n",
       "                vertical-align: bottom !important;\n",
       "            }\n",
       "            .filter_grids ._rotate_ .slick-column-name {\n",
       "                display: inline-block !important;\n",
       "                transform-origin: bottom left !important;\n",
       "                white-space: nowrap !important;\n",
       "                transform: rotate(90deg) !important;\n",
       "                margin-top: 10px !important;\n",
       "            }\n",
       "        </style>\n",
       "        "
      ],
      "text/plain": [
       "<IPython.core.display.HTML object>"
      ]
     },
     "metadata": {},
     "output_type": "display_data"
    },
    {
     "data": {
      "text/html": [
       "\n",
       "        <style>\n",
       "            .filter_grids .slick-header-column {\n",
       "                height: 140px !important;\n",
       "                text-align: left !important;\n",
       "                vertical-align: bottom !important;\n",
       "            }\n",
       "            .filter_grids ._rotate_ .slick-column-name {\n",
       "                display: inline-block !important;\n",
       "                transform-origin: bottom left !important;\n",
       "                white-space: nowrap !important;\n",
       "                transform: rotate(90deg) !important;\n",
       "                margin-top: 10px !important;\n",
       "            }\n",
       "        </style>\n",
       "        "
      ],
      "text/plain": [
       "<IPython.core.display.HTML object>"
      ]
     },
     "metadata": {},
     "output_type": "display_data"
    },
    {
     "data": {
      "text/html": [
       "\n",
       "        <style>\n",
       "            .deck_content .slick-header-column {\n",
       "                height: 140px !important;\n",
       "                text-align: left !important;\n",
       "                vertical-align: bottom !important;\n",
       "            }\n",
       "            .deck_content ._rotate_ .slick-column-name {\n",
       "                display: inline-block !important;\n",
       "                transform-origin: bottom left !important;\n",
       "                white-space: nowrap !important;\n",
       "                transform: rotate(90deg) !important;\n",
       "                margin-top: 10px !important;\n",
       "            }\n",
       "        </style>\n",
       "        "
      ],
      "text/plain": [
       "<IPython.core.display.HTML object>"
      ]
     },
     "metadata": {},
     "output_type": "display_data"
    },
    {
     "data": {
      "text/html": [
       "\n",
       "        <style>\n",
       "            .Template .slick-header-column {\n",
       "                height: 140px !important;\n",
       "                text-align: left !important;\n",
       "                vertical-align: bottom !important;\n",
       "            }\n",
       "            .Template ._rotate_ .slick-column-name {\n",
       "                display: inline-block !important;\n",
       "                transform-origin: bottom left !important;\n",
       "                white-space: nowrap !important;\n",
       "                transform: rotate(90deg) !important;\n",
       "                margin-top: 10px !important;\n",
       "            }\n",
       "        </style>\n",
       "        "
      ],
      "text/plain": [
       "<IPython.core.display.HTML object>"
      ]
     },
     "metadata": {},
     "output_type": "display_data"
    },
    {
     "data": {
      "application/vnd.jupyter.widget-view+json": {
       "model_id": "233df3c7cd7049ac99d3f9f7ea1d5ae9",
       "version_major": 2,
       "version_minor": 0
      },
      "text/plain": [
       "VBox(children=(HTML(value=\"<div style='padding:10px; color:white; background-color:#2E86AB; border:solid 2px #…"
      ]
     },
     "metadata": {},
     "output_type": "display_data"
    }
   ],
   "source": [
    "import pygui as pgui\n",
    "pgui.setup_interface()\n",
    "pgui.db_list.value = 'tmind'\n",
    "pgui.tab.selected_index = 1\n",
    "\n",
    "\n",
    "#TODO: Fix the operator logic \n",
    "#TODO Account for the extra height in the header for QGrid \n",
    "#TODO: Let the CSSManager handle the css attributes "
   ]
  },
  {
   "cell_type": "code",
   "execution_count": null,
   "metadata": {},
   "outputs": [],
   "source": []
  }
 ],
 "metadata": {
  "kernelspec": {
   "display_name": "Python 3 (ipykernel)",
   "language": "python",
   "name": "python3"
  },
  "language_info": {
   "codemirror_mode": {
    "name": "ipython",
    "version": 3
   },
   "file_extension": ".py",
   "mimetype": "text/x-python",
   "name": "python",
   "nbconvert_exporter": "python",
   "pygments_lexer": "ipython3",
   "version": "3.11.10"
  }
 },
 "nbformat": 4,
 "nbformat_minor": 4
}
