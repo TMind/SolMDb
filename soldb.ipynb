{
 "cells": [
  {
   "cell_type": "code",
   "execution_count": 1,
   "metadata": {},
   "outputs": [
    {
     "data": {
      "application/vnd.jupyter.widget-view+json": {
       "model_id": "489357b18666402b9dc2b4a66619408a",
       "version_major": 2,
       "version_minor": 0
      },
      "text/plain": [
       "Text(value='tmind', description='Username:')"
      ]
     },
     "metadata": {},
     "output_type": "display_data"
    },
    {
     "data": {
      "application/vnd.jupyter.widget-view+json": {
       "model_id": "5b08a2e74d84416f9c72a2d2ced922e3",
       "version_major": 2,
       "version_minor": 0
      },
      "text/plain": [
       "Combobox(value='', description='Databases:', options=('config', 'flavasava', 'ironbrice', 'kckid', 'maru', 'na…"
      ]
     },
     "metadata": {},
     "output_type": "display_data"
    },
    {
     "data": {
      "application/vnd.jupyter.widget-view+json": {
       "model_id": "a82234eeb52643db96e2be0aadf66b79",
       "version_major": 2,
       "version_minor": 0
      },
      "text/plain": [
       "ToggleButtons(description='Reload:', options=('Decks', 'Fusions', 'Entities', 'Forgeborns'), tooltips=('Decks …"
      ]
     },
     "metadata": {},
     "output_type": "display_data"
    },
    {
     "data": {
      "application/vnd.jupyter.widget-view+json": {
       "model_id": "e76592394d844d9c8f0b666b0fe46d13",
       "version_major": 2,
       "version_minor": 0
      },
      "text/plain": [
       "Button(description='Load Decks', style=ButtonStyle())"
      ]
     },
     "metadata": {},
     "output_type": "display_data"
    },
    {
     "data": {
      "application/vnd.jupyter.widget-view+json": {
       "model_id": "b483cb0baf2742a1a0df503ee4977997",
       "version_major": 2,
       "version_minor": 0
      },
      "text/plain": [
       "ToggleButtons(button_style='info', description='Faction:', options=('Alloyin', 'Nekrium', 'Tempys', 'Uterra'),…"
      ]
     },
     "metadata": {},
     "output_type": "display_data"
    },
    {
     "data": {
      "application/vnd.jupyter.widget-view+json": {
       "model_id": "a8437f48be7b4180ba4d7f0f3d005942",
       "version_major": 2,
       "version_minor": 0
      },
      "text/plain": [
       "Dropdown(options=('The Square Proposing Sentry Angels', 'The Raiders of Leading Capitals', 'The Common Wrench …"
      ]
     },
     "metadata": {},
     "output_type": "display_data"
    },
    {
     "data": {
      "application/vnd.jupyter.widget-view+json": {
       "model_id": "327ca221b47048e98921a08b47dc80a1",
       "version_major": 2,
       "version_minor": 0
      },
      "text/plain": [
       "ToggleButtons(button_style='info', description='Faction:', options=('Alloyin', 'Nekrium', 'Tempys', 'Uterra'),…"
      ]
     },
     "metadata": {},
     "output_type": "display_data"
    },
    {
     "data": {
      "application/vnd.jupyter.widget-view+json": {
       "model_id": "9850d62b8d0a4d77ba95a26cdf7ea733",
       "version_major": 2,
       "version_minor": 0
      },
      "text/plain": [
       "Dropdown(options=('The Square Proposing Sentry Angels', 'The Raiders of Leading Capitals', 'The Common Wrench …"
      ]
     },
     "metadata": {},
     "output_type": "display_data"
    },
    {
     "data": {
      "application/vnd.jupyter.widget-view+json": {
       "model_id": "0769c1dab90b4108bc8eca962685b391",
       "version_major": 2,
       "version_minor": 0
      },
      "text/plain": [
       "Button(description='Show Graph', style=ButtonStyle())"
      ]
     },
     "metadata": {},
     "output_type": "display_data"
    },
    {
     "data": {
      "application/vnd.jupyter.widget-view+json": {
       "model_id": "4ecfdd31af5f4ea69fa974b38f7c614e",
       "version_major": 2,
       "version_minor": 0
      },
      "text/plain": [
       "Output()"
      ]
     },
     "metadata": {},
     "output_type": "display_data"
    },
    {
     "name": "stderr",
     "output_type": "stream",
     "text": [
      "INFO:root:on_username_change started\n",
      "INFO:root:on_username_change finished, took 0.011217117309570312 seconds\n"
     ]
    }
   ],
   "source": [
    "import pygui as pgui\n",
    "pgui.create_interface()\n",
    "\n",
    "\n",
    "# Example usage:\n",
    "\n",
    "        # F =>  String: Faction                  'Alloyn'              F=Alloyn\n",
    "        # D =>  String: Deckname                 'Insane'              D~Forge\n",
    "        # FB => String: Forgeborn               'Ironbeard'            FB=Ironbeard\n",
    "        # C  => List:   Cardnames               'Digitize'             C~Digitize\n",
    "        # A  => List:   Forgeborn - Ability     'Army Commander'       A~'Army Commander'\n",
    "        # K  => Dict:   Composition             'Robot'                K:Robot > 3"
   ]
  }
 ],
 "metadata": {
  "kernelspec": {
   "display_name": "Python 3 (ipykernel)",
   "language": "python",
   "name": "python3"
  },
  "language_info": {
   "codemirror_mode": {
    "name": "ipython",
    "version": 3
   },
   "file_extension": ".py",
   "mimetype": "text/x-python",
   "name": "python",
   "nbconvert_exporter": "python",
   "pygments_lexer": "ipython3",
   "version": "3.11.6"
  }
 },
 "nbformat": 4,
 "nbformat_minor": 4
}
