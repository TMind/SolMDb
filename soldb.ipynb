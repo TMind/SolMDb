{
 "cells": [
  {
   "cell_type": "code",
   "execution_count": 1,
   "metadata": {},
   "outputs": [],
   "source": [
    "#Import all the necessary modules\n",
    "from DeckLibrary    import DeckLibrary\n",
    "from Card_Library   import UniversalCardLibrary\n",
    "from CacheManager   import CacheManager\n",
    "from Synergy        import SynergyTemplate\n",
    "from NetApi         import NetApi\n",
    "from Filter import Filter\n",
    "import Evaluation as ev\n",
    "from Graph import MyGraph\n",
    "import argparse\n",
    "from tqdm import tqdm \n",
    "import os, time, re\n",
    "from appdirs import user_data_dir\n",
    "from pathlib import Path\n",
    "from multiprocessing import Pool, cpu_count,Event\n"
   ]
  },
  {
   "cell_type": "code",
   "execution_count": 2,
   "metadata": {},
   "outputs": [],
   "source": [
    " # Define functions to be used\n",
    "def parse_arguments(args):\n",
    "    # Define the command-line arguments\n",
    "# Create an argument parser\n",
    "    parser = argparse.ArgumentParser(description=\"Script description\")\n",
    "\n",
    "    # Add command-line arguments\n",
    "    # Arguments for online use \n",
    "    parser.add_argument(\"--username\", default=\"\", help=\"Online account name or omit for offline use\")\n",
    "    parser.add_argument(\"--type\", default=\"deck\", choices=[\"deck\", \"fuseddeck\"], help=\"Decktype for user collection , default=deck\")\n",
    "    parser.add_argument(\"--id\", default=\"\", help=\"Specific Deck ID from solforgefusion website\")\n",
    "    \n",
    "    # Arguments for general use \n",
    "    # If both username and file is given, export deckbase to file.json \n",
    "    # If only file is given import deckbase from file.json \n",
    "    parser.add_argument(\"--filename\",  default=None,  help=\"Offline Deck Database Name\")\n",
    "    parser.add_argument(\"--synergies\", default=None, help=\"CSV Filename for synergy lookup\")    \n",
    "    parser.add_argument(\"--offline\", default=None, help=\"Offline use only\")    \n",
    "\n",
    "    # Arguments for Evaluation\n",
    "    \n",
    "    parser.add_argument(\"--eval\", nargs='?', const=True, action=\"store\",  help=\"Evaluate possible fusions. Optional filename for .csv export\")    \n",
    "    parser.add_argument(\"--graph\", action=\"store_true\",  help=\"Create Graph '.gefx'\")\n",
    "    parser.add_argument(\"--filter\", default=None, help=\"Filter by card names. Syntax: \\\"<cardname>+'<card name>'-<cardname>\\\" + = AND, - = OR \")\n",
    "    parser.add_argument(\"--select_pairs\", action=\"store_true\", help=\"Select top pairs\")\n",
    "    \n",
    "    # Parse the command-line arguments\n",
    "    return parser.parse_args(args)\n",
    "    \n",
    "\n"
   ]
  },
  {
   "cell_type": "code",
   "execution_count": 3,
   "metadata": {},
   "outputs": [
    {
     "name": "stderr",
     "output_type": "stream",
     "text": [
      "Decompressing: 100%|\u001b[31m██████████\u001b[0m| 65.4k/65.4k [00:00<00:00, 32.7MB/s]\n",
      "Unpickle ucl.zpkl: 100%|\u001b[34m██████████\u001b[0m| 616k/616k [00:00<00:00, 110MB/s]\n",
      "Write deck_library_korsis.zpkl: 100%|\u001b[34m██████████\u001b[0m| 88.0/88.0 [00:00<?, ?B/s]\n"
     ]
    },
    {
     "name": "stdout",
     "output_type": "stream",
     "text": [
      "Requesting Data from Website: korsis,deck,\n"
     ]
    },
    {
     "name": "stderr",
     "output_type": "stream",
     "text": [
      "Fetching Data: 100%|\u001b[33m██████████\u001b[0m| 8/8 [00:00<?, ?it/s]\n",
      "Updating Library: 100%|\u001b[35m██████████\u001b[0m| 8/8 [00:00<?, ?it/s]\n",
      "Fusioning: 100%|\u001b[34m██████████\u001b[0m| 24/24 [00:01<00:00, 12.13it/s]\n",
      "Write deck_library_korsis.zpkl: 100%|\u001b[34m██████████\u001b[0m| 320k/320k [00:00<00:00, 76.1MB/s]\n",
      "Write eval_graphs_korsis.zpkl: 100%|\u001b[34m██████████\u001b[0m| 20.0/20.0 [00:00<?, ?B/s]\n",
      "Checking Fusions: 100%|\u001b[32m██████████\u001b[0m| 48/48 [00:00<?, ?it/s]\n",
      "Create Graphs: 100%|\u001b[34m██████████\u001b[0m| 48/48 [00:10<00:00,  4.47it/s]\n",
      "Write eval_graphs_korsis.zpkl: 100%|\u001b[34m██████████\u001b[0m| 730k/730k [00:00<00:00, 37.6MB/s]\n",
      "Creating Deck Graphs: 100%|\u001b[36m██████████\u001b[0m| 8/8 [00:00<00:00,  8.77it/s]\n",
      "Printing Fusion Graphs: 100%|\u001b[33m██████████\u001b[0m| 48/48 [00:00<00:00, 184.50it/s]\n",
      "Exporting CSV korsis_tmind_korsis_interfaction_only: 100%|\u001b[31m██████████\u001b[0m| 48/48 [00:00<00:00, 99.49it/s] \n",
      "Exporting CSV korsis_tmind_korsis: 100%|\u001b[31m██████████\u001b[0m| 48/48 [00:00<00:00, 94.20it/s] \n",
      "Exporting CSV korsis_tmind_korsis.halfdecks_only: 100%|\u001b[31m██████████\u001b[0m| 8/8 [00:00<00:00, 174.00it/s]\n"
     ]
    }
   ],
   "source": [
    "# Set variables \n",
    "\n",
    "from soldb import main\n",
    "import os\n",
    "\n",
    "# Define Variables\n",
    "os.environ['PYDEVD_DISABLE_FILE_VALIDATION'] = '1'\n",
    "\n",
    "username = 'tmind'\n",
    "param_eval = 'korsis_tmind'\n",
    "type = 'deck'\n",
    "id = ''\n",
    "offline = False\n",
    "fileName = None\n",
    "filter = None\n",
    "\n",
    "arguments = [\"--username\" , username,\n",
    "              \"--eval\" , param_eval    ]\n",
    "\n",
    "args = parse_arguments(arguments)\n",
    "\n",
    "main(args)"
   ]
  }
 ],
 "metadata": {
  "kernelspec": {
   "display_name": "Python 3",
   "language": "python",
   "name": "python3"
  },
  "language_info": {
   "codemirror_mode": {
    "name": "ipython",
    "version": 3
   },
   "file_extension": ".py",
   "mimetype": "text/x-python",
   "name": "python",
   "nbconvert_exporter": "python",
   "pygments_lexer": "ipython3",
   "version": "3.10.10"
  }
 },
 "nbformat": 4,
 "nbformat_minor": 2
}
