{
 "cells": [
  {
   "cell_type": "code",
   "execution_count": null,
   "metadata": {},
   "outputs": [],
   "source": [
    "import pygui as pgui\n",
    "pgui.create_interface()\n",
    "\n",
    "\n",
    "# Example usage:\n",
    "\n",
    "        # F =>  String: Faction                  'Alloyn'              F=Alloyn\n",
    "        # D =>  String: Deckname                 'Insane'              D~Forge\n",
    "        # FB => String: Forgeborn               'Ironbeard'            FB=Ironbeard\n",
    "        # C  => List:   Cardnames               'Digitize'             C~Digitize\n",
    "        # A  => List:   Forgeborn - Ability     'Army Commander'       A~'Army Commander'\n",
    "        # K  => Dict:   Composition             'Robot'                K:Robot > 3"
   ]
  },
  {
   "cell_type": "code",
   "execution_count": 7,
   "metadata": {},
   "outputs": [
    {
     "data": {
      "application/vnd.jupyter.widget-view+json": {
       "model_id": "71c8db03b0354d10998fc4b9c494636a",
       "version_major": 2,
       "version_minor": 0
      },
      "text/plain": [
       "QgridWidget(grid_options={'fullWidthRows': True, 'syncColumnCellResize': True, 'forceFitColumns': False, 'defa…"
      ]
     },
     "metadata": {},
     "output_type": "display_data"
    }
   ],
   "source": [
    "import pygui as pgui\n",
    "import pandas as pd\n",
    "import buckaroo  \n",
    "import qgrid\n",
    "from IPython.display import display\n",
    "from MongoDB.DatabaseManager import DatabaseManager\n",
    "import GlobalVariables\n",
    "from icecream import ic\n",
    "\n",
    "def qgrid_show(df):\n",
    "    grid_options = {\n",
    "    'fullWidthRows': True,\n",
    "    'syncColumnCellResize': True,\n",
    "    'forceFitColumns': True,\n",
    "    'defaultColumnWidth': 200,\n",
    "    'rowHeight': 28,\n",
    "    'enableColumnReorder': True,\n",
    "    'enableTextSelectionOnCells': True,\n",
    "    'editable': False,\n",
    "    'autoEdit': False,\n",
    "    'explicitInitialization': True,\n",
    "    'maxVisibleRows': 15,\n",
    "    'minVisibleRows': 8,\n",
    "    'sortable': True,\n",
    "    'filterable': True,\n",
    "    'highlightSelectedCell': False,\n",
    "    'highlightSelectedRow': True\n",
    "    }    \n",
    "\n",
    "    col_options =           { 'width': 50, }\n",
    "    col_defs = {        \n",
    "        'name':             { 'width': 250, },\n",
    "        'registeredDate':   { 'width': 200, },\n",
    "        'cardSetNo':        { 'width': 50,  },\n",
    "        'faction':          { 'width': 100,  },\n",
    "        'forgebornId':      { 'width': 100,  },\n",
    "    }\n",
    "\n",
    "    qgrid_df = qgrid.show_grid(df,\n",
    "                               column_options=col_options,\n",
    "                               column_definitions=col_defs,\n",
    "                               grid_options={'forceFitColumns': False},\n",
    "                               show_toolbar=True)\n",
    "    display(qgrid_df)\n",
    "\n",
    "df = pgui.collection_to_df('Deck')\n",
    "\n",
    "GlobalVariables.username = 'tmind'\n",
    "myDB = DatabaseManager(GlobalVariables.username)\n",
    "commonDB = DatabaseManager('common')\n",
    "db_name = myDB.get_current_db_name()\n",
    "\n",
    "# Get all Decks from the database\n",
    "deck_cursor = myDB.find('Deck', {})\n",
    "df_decks = pd.DataFrame(list(deck_cursor))\n",
    "df_decks_filtered = df_decks[[ 'registeredDate', 'name', 'cardSetNo', 'faction', 'forgebornId']].copy()\n",
    "\n",
    "additional_columns = ['A1', 'A2', 'A3', 'H1', 'H2', 'H3']\n",
    "for column in additional_columns:\n",
    "    df_decks_filtered.loc[:,column] = 0.0\n",
    "\n",
    "df_decks_filtered.set_index('name', inplace=True)\n",
    "\n",
    "# Create a DataFrame from the 'stats' sub-dictionary\n",
    "\n",
    "for deck in myDB.find('Deck', {}):\n",
    "    if 'stats' in deck:\n",
    "        \n",
    "        stats = deck.get('stats', {})\n",
    "        # Convert the 'card_types' sub-dictionary into a DataFrame\n",
    "        card_types_df = pd.DataFrame.from_dict(stats['card_types'], orient='index')\n",
    "        creature_averages_df = pd.DataFrame.from_dict(stats['creature_averages'], orient='index')\n",
    "           \n",
    "        # Flatten the 'creature_averages' sub-dictionaries into a single-row DataFrame\n",
    "        # Convert the dictionary into a DataFrame\n",
    "        attack_dict = stats['creature_averages']['attack']\n",
    "        attack_df = pd.DataFrame([attack_dict], columns=attack_dict.keys())\n",
    "        attack_df.columns = ['A1', 'A2', 'A3']\n",
    "\n",
    "        defense_dict = stats['creature_averages']['health']\n",
    "        defense_df = pd.DataFrame([defense_dict], columns=defense_dict.keys())\n",
    "        defense_df.columns = ['H1', 'H2', 'H3']\n",
    "        \n",
    "        # Combine the attack and defense DataFrames into a single DataFrame\n",
    "        deck_stats_df = pd.concat([attack_df, defense_df], axis=1)\n",
    "        deck_stats_df['name'] = deck['name']\n",
    "        \n",
    "        # Round each value in the DataFrame\n",
    "        deck_stats_df = deck_stats_df.round(2)\n",
    "                                        \n",
    "        # Set the common column as the index in both dataframes\n",
    "        deck_stats_df.set_index('name', inplace=True)\n",
    "\n",
    "        # Update the corresponding row in df_decks_filtered with the stats from deck_stats_df\n",
    "        df_decks_filtered.update(deck_stats_df)\n",
    "\n",
    "    # Replace forgebornId with the forgeborn name from the database     \n",
    "    forgeborn = commonDB.find('Forgeborn', {'_id': deck['forgebornId']})\n",
    "    \n",
    "    if forgeborn:        \n",
    "        df_decks_filtered.loc[deck['name'], 'forgebornId'] = forgeborn[0]['name']\n",
    "    \n",
    "# Reset the index in df_decks_filtered\n",
    "df_decks_filtered.reset_index(inplace=True)\n",
    "qgrid_show(df_decks_filtered)  \n",
    "\n"
   ]
  },
  {
   "cell_type": "code",
   "execution_count": null,
   "metadata": {},
   "outputs": [],
   "source": [
    "import pandas as pd\n",
    "import buckaroo\n",
    "pd.DataFrame({'a':[1, 2, 10, 30, 50, 60, 50], 'b': ['foo', 'foo', 'bar', pd.NA, pd.NA, pd.NA, pd. NA]})\n"
   ]
  },
  {
   "cell_type": "code",
   "execution_count": null,
   "metadata": {},
   "outputs": [],
   "source": [
    "buckaroo.disable()"
   ]
  }
 ],
 "metadata": {
  "kernelspec": {
   "display_name": "Python 3 (ipykernel)",
   "language": "python",
   "name": "python3"
  },
  "language_info": {
   "codemirror_mode": {
    "name": "ipython",
    "version": 3
   },
   "file_extension": ".py",
   "mimetype": "text/x-python",
   "name": "python",
   "nbconvert_exporter": "python",
   "pygments_lexer": "ipython3",
   "version": "3.11.6"
  }
 },
 "nbformat": 4,
 "nbformat_minor": 4
}
