{
 "cells": [
  {
   "cell_type": "code",
<<<<<<< HEAD
   "execution_count": 1,
   "metadata": {},
   "outputs": [],
   "source": [
=======
   "execution_count": 2,
   "metadata": {},
   "outputs": [
    {
     "data": {
      "application/vnd.jupyter.widget-view+json": {
       "model_id": "01393151c139495ea69219b00ce71113",
       "version_major": 2,
       "version_minor": 0
      },
      "text/plain": [
       "IntSlider(value=0)"
      ]
     },
     "execution_count": 2,
     "metadata": {},
     "output_type": "execute_result"
    }
   ],
   "source": [
    "import ipywidgets as widgets\n",
    "\n",
    "widgets.IntSlider()\n",
>>>>>>> 36d5767222c698411b6d7a4c71a77a3260a0de70
    "\n"
   ]
  },
  {
   "cell_type": "code",
   "execution_count": 2,
   "metadata": {},
   "outputs": [],
   "source": [
<<<<<<< HEAD
    "# Define functions to be used\n",
    "import argparse\n",
=======
    " import argparse\n",
    " # Define functions to be used\n",
>>>>>>> 36d5767222c698411b6d7a4c71a77a3260a0de70
    "def parse_arguments(args):\n",
    "    # Define the command-line arguments\n",
    "# Create an argument parser\n",
    "    parser = argparse.ArgumentParser(description=\"Script description\")\n",
    "\n",
    "    # Add command-line arguments\n",
    "    # Arguments for online use \n",
    "    parser.add_argument(\"--username\", default=\"\", help=\"Online account name or omit for offline use\")\n",
    "    parser.add_argument(\"--type\", default=\"deck\", choices=[\"deck\", \"fuseddeck\"], help=\"Decktype for user collection , default=deck\")\n",
    "    parser.add_argument(\"--id\", default=\"\", help=\"Specific Deck ID from solforgefusion website\")\n",
    "    \n",
    "    # Arguments for general use \n",
    "    # If both username and file is given, export deckbase to file.json \n",
    "    # If only file is given import deckbase from file.json \n",
    "    parser.add_argument(\"--filename\",  default=None,  help=\"Offline Deck Database Name\")\n",
    "    parser.add_argument(\"--synergies\", default=None, help=\"CSV Filename for synergy lookup\")    \n",
    "    parser.add_argument(\"--offline\", default=None, help=\"Offline use only\")    \n",
    "\n",
    "    # Arguments for Evaluation\n",
    "    \n",
    "    parser.add_argument(\"--eval\", nargs='?', const=True, action=\"store\",  help=\"Evaluate possible fusions. Optional filename for .csv export\")    \n",
    "    parser.add_argument(\"--graph\", action=\"store_true\",  help=\"Create Graph '.gefx'\")\n",
    "    parser.add_argument(\"--filter\", default=None, help=\"Filter by card names. Syntax: \\\"<cardname>+'<card name>'-<cardname>\\\" + = AND, - = OR \")\n",
    "    parser.add_argument(\"--select_pairs\", action=\"store_true\", help=\"Select top pairs\")\n",
    "    \n",
    "    # Parse the command-line arguments\n",
    "    return parser.parse_args(args)\n",
    "    \n",
    "\n"
   ]
  },
  {
   "cell_type": "code",
<<<<<<< HEAD
   "execution_count": 1,
   "metadata": {},
   "outputs": [
    {
     "ename": "NameError",
     "evalue": "name 'parse_arguments' is not defined",
     "output_type": "error",
     "traceback": [
      "\u001b[0;31m---------------------------------------------------------------------------\u001b[0m",
      "\u001b[0;31mNameError\u001b[0m                                 Traceback (most recent call last)",
      "Cell \u001b[0;32mIn[1], line 27\u001b[0m\n\u001b[1;32m     19\u001b[0m param_eval \u001b[38;5;241m=\u001b[39m \u001b[38;5;124m'\u001b[39m\u001b[38;5;124mironbrice\u001b[39m\u001b[38;5;124m'\u001b[39m\n\u001b[1;32m     21\u001b[0m arguments \u001b[38;5;241m=\u001b[39m [\u001b[38;5;124m\"\u001b[39m\u001b[38;5;124m--username\u001b[39m\u001b[38;5;124m\"\u001b[39m , username,\n\u001b[1;32m     22\u001b[0m               \u001b[38;5;124m\"\u001b[39m\u001b[38;5;124m--eval\u001b[39m\u001b[38;5;124m\"\u001b[39m , param_eval,\n\u001b[1;32m     23\u001b[0m               \u001b[38;5;66;03m#\"--filter\", \"C~Biologist\" \u001b[39;00m\n\u001b[1;32m     24\u001b[0m                   \u001b[38;5;66;03m#\"--type\", \"fuseddeck\"    \u001b[39;00m\n\u001b[1;32m     25\u001b[0m                   ]\n\u001b[0;32m---> 27\u001b[0m args \u001b[38;5;241m=\u001b[39m \u001b[43mparse_arguments\u001b[49m(arguments)\n\u001b[1;32m     29\u001b[0m main(args)\n",
      "\u001b[0;31mNameError\u001b[0m: name 'parse_arguments' is not defined"
=======
   "execution_count": 3,
   "metadata": {},
   "outputs": [
    {
     "name": "stderr",
     "output_type": "stream",
     "text": [
      "Decompressing: 100%|\u001b[31m██████████\u001b[0m| 65.4k/65.4k [00:00<00:00, 32.7MB/s]\n",
      "Unpickle ucl.zpkl: 100%|\u001b[34m██████████\u001b[0m| 616k/616k [00:00<00:00, 110MB/s]\n",
      "Write deck_library_korsis.zpkl: 100%|\u001b[34m██████████\u001b[0m| 88.0/88.0 [00:00<?, ?B/s]\n"
     ]
    },
    {
     "name": "stdout",
     "output_type": "stream",
     "text": [
      "Requesting Data from Website: korsis,deck,\n"
     ]
    },
    {
     "name": "stderr",
     "output_type": "stream",
     "text": [
      "Fetching Data: 100%|\u001b[33m██████████\u001b[0m| 8/8 [00:00<?, ?it/s]\n",
      "Updating Library: 100%|\u001b[35m██████████\u001b[0m| 8/8 [00:00<?, ?it/s]\n",
      "Fusioning: 100%|\u001b[34m██████████\u001b[0m| 24/24 [00:01<00:00, 12.13it/s]\n",
      "Write deck_library_korsis.zpkl: 100%|\u001b[34m██████████\u001b[0m| 320k/320k [00:00<00:00, 76.1MB/s]\n",
      "Write eval_graphs_korsis.zpkl: 100%|\u001b[34m██████████\u001b[0m| 20.0/20.0 [00:00<?, ?B/s]\n",
      "Checking Fusions: 100%|\u001b[32m██████████\u001b[0m| 48/48 [00:00<?, ?it/s]\n",
      "Create Graphs: 100%|\u001b[34m██████████\u001b[0m| 48/48 [00:10<00:00,  4.47it/s]\n",
      "Write eval_graphs_korsis.zpkl: 100%|\u001b[34m██████████\u001b[0m| 730k/730k [00:00<00:00, 37.6MB/s]\n",
      "Creating Deck Graphs: 100%|\u001b[36m██████████\u001b[0m| 8/8 [00:00<00:00,  8.77it/s]\n",
      "Printing Fusion Graphs: 100%|\u001b[33m██████████\u001b[0m| 48/48 [00:00<00:00, 184.50it/s]\n",
      "Exporting CSV korsis_tmind_korsis_interfaction_only: 100%|\u001b[31m██████████\u001b[0m| 48/48 [00:00<00:00, 99.49it/s] \n",
      "Exporting CSV korsis_tmind_korsis: 100%|\u001b[31m██████████\u001b[0m| 48/48 [00:00<00:00, 94.20it/s] \n",
      "Exporting CSV korsis_tmind_korsis.halfdecks_only: 100%|\u001b[31m██████████\u001b[0m| 8/8 [00:00<00:00, 174.00it/s]\n"
>>>>>>> 36d5767222c698411b6d7a4c71a77a3260a0de70
     ]
    }
   ],
   "source": [
<<<<<<< HEAD
    "from soldb import main\n",
    "import os\n",
    "\n",
    "\n",
    "# Example usage:\n",
    "\n",
    "        # F =>  String: Faction                  'Alloyn'              F=Alloyn\n",
    "        # D =>  String: Deckname                 'Insane'              D~Forge\n",
    "        # FB => String: Forgeborn               'Ironbeard'            FB=Ironbeard\n",
    "        # C  => List:   Cardnames               'Digitize'             C~Digitize\n",
    "        # A  => List:   Forgeborn - Ability     'Army Commander'       A~'Army Commander'\n",
    "        # K  => Dict:   Composition             'Robot'                K:Robot > 3\n",
    "\n",
    "\n",
    "# Define Variables\n",
    "os.environ['PYDEVD_DISABLE_FILE_VALIDATION'] = '1'\n",
    "\n",
    "username = 'ironbrice'\n",
    "param_eval = 'ironbrice'\n",
    "\n",
    "arguments = [\"--username\" , username,\n",
    "              \"--eval\" , param_eval,\n",
    "              #\"--filter\", \"C~Biologist\" \n",
    "                  #\"--type\", \"fuseddeck\"    \n",
    "                  ]\n",
    "\n",
    "args = parse_arguments(arguments)\n",
    "\n",
    "main(args)\n",
    "\n"
=======
    "# Set variables \n",
    "\n",
    "from soldb import main\n",
    "import os\n",
    "\n",
    "# Define Variables\n",
    "os.environ['PYDEVD_DISABLE_FILE_VALIDATION'] = '1'\n",
    "\n",
    "username = 'tmind'\n",
    "param_eval = 'korsis_tmind'\n",
    "type = 'deck'\n",
    "id = ''\n",
    "offline = False\n",
    "fileName = None\n",
    "filter = None\n",
    "\n",
    "arguments = [\"--username\" , username,\n",
    "              \"--eval\" , param_eval    ]\n",
    "\n",
    "args = parse_arguments(arguments)\n",
    "\n",
    "main(args)"
>>>>>>> 36d5767222c698411b6d7a4c71a77a3260a0de70
   ]
  }
 ],
 "metadata": {
  "kernelspec": {
   "display_name": "Python 3",
   "language": "python",
   "name": "python3"
  },
  "language_info": {
   "codemirror_mode": {
    "name": "ipython",
    "version": 3
   },
   "file_extension": ".py",
   "mimetype": "text/x-python",
   "name": "python",
   "nbconvert_exporter": "python",
   "pygments_lexer": "ipython3",
<<<<<<< HEAD
   "version": "3.11.6"
=======
   "version": "3.10.10"
>>>>>>> 36d5767222c698411b6d7a4c71a77a3260a0de70
  }
 },
 "nbformat": 4,
 "nbformat_minor": 2
}
