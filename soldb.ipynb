{
 "cells": [
  {
   "cell_type": "code",
   "execution_count": null,
   "metadata": {},
   "outputs": [],
   "source": [
    "from soldb import main, parse_arguments\n",
    "import os\n",
    "\n",
    "# Define Variables\n",
    "os.environ['PYDEVD_DISABLE_FILE_VALIDATION'] = '1'\n",
    "\n",
    "username = 'tmind'\n",
    "param_eval = 'tmind'\n",
    "mode = 'update'\n",
    "\n",
    "arguments = [\"--username\" , username,\n",
    "              \"--eval\" , param_eval,\n",
    "              #\"--filter\", \"C~Biologist\" \n",
    "                  #\"--type\", \"fuseddeck\"  \n",
    "]\n",
    "\n",
    "# Now you can use the imported functions\n",
    "args = parse_arguments(arguments)\n",
    "\n",
    "# Example usage:\n",
    "\n",
    "        # F =>  String: Faction                  'Alloyn'              F=Alloyn\n",
    "        # D =>  String: Deckname                 'Insane'              D~Forge\n",
    "        # FB => String: Forgeborn               'Ironbeard'            FB=Ironbeard\n",
    "        # C  => List:   Cardnames               'Digitize'             C~Digitize\n",
    "        # A  => List:   Forgeborn - Ability     'Army Commander'       A~'Army Commander'\n",
    "        # K  => Dict:   Composition             'Robot'                K:Robot > 3\n"
   ]
  },
  {
   "cell_type": "code",
   "execution_count": 1,
   "metadata": {},
   "outputs": [],
   "source": [
    "from pyvis.network import Network\n",
    "\n",
    "def graphToNet(graph):\n",
    "    net = Network(notebook=True, directed=True, height=\"1500px\", width=\"2000px\", cdn_resources='in_line')\n",
    "    net.force_atlas_2based()\n",
    "    net.from_nx(graph)\n",
    "    # Display the network\n",
    "    net.show_buttons(filter_=['physics'])\n",
    "    print(\"Displaying Graph!\")\n",
    "    #display(net.show('graph.html'))\n",
    "    return net"
   ]
  },
  {
   "cell_type": "code",
   "execution_count": 7,
   "metadata": {},
   "outputs": [
    {
     "data": {
      "application/vnd.jupyter.widget-view+json": {
       "model_id": "16d3489aa9194f0d8108528d6bec76d7",
       "version_major": 2,
       "version_minor": 0
      },
      "text/plain": [
       "ToggleButtons(button_style='success', description='Faction:', options=('Alloyin', 'Nekrium', 'Tempys', 'Uterra…"
      ]
     },
     "metadata": {},
     "output_type": "display_data"
    },
    {
     "data": {
      "application/vnd.jupyter.widget-view+json": {
       "model_id": "0655c844b9dd4112a479434cb887b1cb",
       "version_major": 2,
       "version_minor": 0
      },
      "text/plain": [
       "Dropdown(options=('The Square Proposing Sentry Angels', 'The Raiders of Leading Capitals', 'The Common Wrench …"
      ]
     },
     "metadata": {},
     "output_type": "display_data"
    },
    {
     "data": {
      "application/vnd.jupyter.widget-view+json": {
       "model_id": "78ed0f48eab44f039bbbd7177be6fdd0",
       "version_major": 2,
       "version_minor": 0
      },
      "text/plain": [
       "Button(description='Show Graph', style=ButtonStyle())"
      ]
     },
     "metadata": {},
     "output_type": "display_data"
    },
    {
     "data": {
      "application/vnd.jupyter.widget-view+json": {
       "model_id": "21aac7ba9ab243599a27da51df145efd",
       "version_major": 2,
       "version_minor": 0
      },
      "text/plain": [
       "Output()"
      ]
     },
     "metadata": {},
     "output_type": "display_data"
    }
   ],
   "source": [
    "import ipywidgets as widgets\n",
    "from IPython.display import display, HTML, IFrame\n",
    "\n",
    "from MongoDB.DatabaseManager import DatabaseManager\n",
    "import GlobalVariables\n",
    "\n",
    "from networkx import descendants\n",
    "from pyvis.network import Network\n",
    "from CardLibrary import Deck\n",
    "\n",
    "GlobalVariables.username = 'tmind'\n",
    "myDB = DatabaseManager(GlobalVariables.username)\n",
    "\n",
    "factionNames = ['Alloyin', 'Nekrium', 'Tempys', 'Uterra']\n",
    "deckNames = []\n",
    "\n",
    "out = widgets.Output()\n",
    "\n",
    "factionToggleA = widgets.ToggleButtons(\n",
    "    options=factionNames,\n",
    "    description='Faction:',\n",
    "    disabled=False,\n",
    "    button_style='info',  # Remove the initial button_style\n",
    "    tooltips=['Description of slow', 'Description of regular', 'Description of fast'],\n",
    ") \n",
    "\n",
    "def update_button_style(change):\n",
    "    if change['new'] == 'Alloyin':\n",
    "        factionToggleA.button_style = 'info'\n",
    "    elif change['new'] == 'Nekrium':\n",
    "        factionToggleA.button_style = 'warning'\n",
    "    elif change['new'] == 'Tempys':\n",
    "        factionToggleA.button_style = 'danger'\n",
    "    elif change['new'] == 'Uterra':\n",
    "        factionToggleA.button_style = 'success'\n",
    "\n",
    "factionToggleA.observe(update_button_style, 'value')\n",
    "\n",
    "dropdown = widgets.Dropdown()\n",
    "def button_on_click(button):\n",
    "    myDeck = Deck.lookup(dropdown.value)\n",
    "    myGraph = myDeck.create_graph_children()\n",
    "    net = graphToNet(myGraph.G)\n",
    "    with out:\n",
    "        out.clear_output() \n",
    "        display(net.show(f\"{dropdown.value}.html\"))\n",
    "    \n",
    "        \n",
    "button = widgets.Button(description=\"Show Graph\")\n",
    "button.on_click(button_on_click)\n",
    "\n",
    "def update_items(*args):\n",
    "    \n",
    "    deckCursor = myDB.find('Deck', {'faction' : factionToggleA.value})\n",
    "    deckNames = [deck['name'] for deck in deckCursor]\n",
    "    dropdown.options = deckNames\n",
    "\n",
    "# Call update items once to set the initial items \n",
    "update_items()\n",
    "\n",
    "factionToggleA.observe(update_items, 'value')\n",
    "\n",
    "\n",
    "display(factionToggleA, dropdown, button)\n",
    "display(out)\n",
    "\n",
    "\n"
   ]
  },
  {
   "cell_type": "code",
   "execution_count": null,
   "metadata": {},
   "outputs": [],
   "source": []
  }
 ],
 "metadata": {
  "kernelspec": {
   "display_name": "Python 3 (ipykernel)",
   "language": "python",
   "name": "python3"
  },
  "language_info": {
   "codemirror_mode": {
    "name": "ipython",
    "version": 3
   },
   "file_extension": ".py",
   "mimetype": "text/x-python",
   "name": "python",
   "nbconvert_exporter": "python",
   "pygments_lexer": "ipython3",
   "version": "3.11.6"
  }
 },
 "nbformat": 4,
 "nbformat_minor": 4
}
