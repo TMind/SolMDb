{
 "cells": [
  {
   "cell_type": "markdown",
   "metadata": {},
   "source": [
    "## How to Use This Notebook\n",
    "\n",
    "This Jupyter notebook uses the `ipywidgets` module to create a graphical user interface. Here's how to use it:\n",
    "\n",
    "1. **Run the interface**: The cell below imports the `pygui` module and calls the `create_interface` function. This function creates the graphical user interface. To run this cell, click on it to select it, then click the \"Run\" button or use the `Shift + Enter` shortcut or the Play button in the top menu.\n",
    "\n",
    "2. **First steps**: To import data , you need to first replace `user` with your Solforge Fusion `username` in the box below. Then click the `Load` button on the bottom of the notebook. "
   ]
  },
  {
   "cell_type": "code",
   "execution_count": 1,
   "metadata": {},
   "outputs": [
    {
     "data": {
      "text/html": [
       "\n",
       "<style>\n",
       "/* Customizes the scrollbar within qgrid */\n",
       ".q-grid ::-webkit-scrollbar {\n",
       "    width: 5px;  /* Smaller width for vertical scrollbar */\n",
       "    height: 5px; /* Smaller height for horizontal scrollbar */\n",
       "}\n",
       "\n",
       ".q-grid ::-webkit-scrollbar-track {\n",
       "    border-radius: 10px;\n",
       "    background: rgba(0,0,0,0.1); /* Light background for the track */\n",
       "}\n",
       "\n",
       ".q-grid ::-webkit-scrollbar-thumb {\n",
       "    border-radius: 10px;\n",
       "    background: rgba(128,128,128,0.8); /* Lighter gray color for the thumb */\n",
       "}\n",
       "\n",
       ".q-grid ::-webkit-scrollbar-thumb:hover {\n",
       "    background: rgba(90,90,90,0.8); /* Slightly darker gray on hover */\n",
       "}\n",
       "</style>\n"
      ],
      "text/plain": [
       "<IPython.core.display.HTML object>"
      ]
     },
     "metadata": {},
     "output_type": "display_data"
    },
    {
     "data": {
      "application/vnd.jupyter.widget-view+json": {
       "model_id": "8bc117f26c72458c95a25c954bb04660",
       "version_major": 2,
       "version_minor": 0
      },
      "text/plain": [
       "Output()"
      ]
     },
     "metadata": {},
     "output_type": "display_data"
    },
    {
     "data": {
      "application/vnd.jupyter.widget-view+json": {
       "model_id": "fb99d770b5e2456e933a455544ef1a6f",
       "version_major": 2,
       "version_minor": 0
      },
      "text/plain": [
       "VBox(children=(ToggleButtons(description='Reload:', options=('Decks', 'Fusions', 'Entities', 'Forgeborns'), to…"
      ]
     },
     "metadata": {},
     "output_type": "display_data"
    },
    {
     "data": {
      "application/vnd.jupyter.widget-view+json": {
       "model_id": "1e62fff4186b4067a5cc733f983102a8",
       "version_major": 2,
       "version_minor": 0
      },
      "text/plain": [
       "VBox(children=(HBox(children=(VBox(children=(Label(value='( Modifier'), SelectMultiple(options=('',), value=()…"
      ]
     },
     "metadata": {},
     "output_type": "display_data"
    },
    {
     "data": {
      "application/vnd.jupyter.widget-view+json": {
       "model_id": "b2c4a9e887274ecf81e5d854273bd293",
       "version_major": 2,
       "version_minor": 0
      },
      "text/plain": [
       "Output(outputs=({'output_type': 'display_data', 'data': {'text/plain': 'Output(outputs=({\\'output_type\\': \\'di…"
      ]
     },
     "metadata": {},
     "output_type": "display_data"
    }
   ],
   "source": [
    "import pygui as pgui\n",
    "pgui.setup_interface()\n",
    "#pgui.username.value = 'tmind'\n",
    "pgui.db_list.value = 'tmind'\n",
    "#pgui.reload_data_on_click(None,'Decks')\n",
    "debug = False\n",
    "if debug:\n",
    "    pgui.db_list.value = 'tmind'\n",
    "    event = {'name': 'selection_changed', 'old': [], 'new': [1], 'source': 'gui'}\n",
    "    collection_grid = pgui.qm.grids.get('collection')\n",
    "    df = pgui.generate_deck_content_dataframe(event, collection_grid.main_widget)\n",
    "    #df = pgui.generate_deck_statistics_dataframe()"
   ]
  }
 ],
 "metadata": {
  "kernelspec": {
   "display_name": "Python 3 (ipykernel)",
   "language": "python",
   "name": "python3"
  },
  "language_info": {
   "codemirror_mode": {
    "name": "ipython",
    "version": 3
   },
   "file_extension": ".py",
   "mimetype": "text/x-python",
   "name": "python",
   "nbconvert_exporter": "python",
   "pygments_lexer": "ipython3",
   "version": "3.11.9"
  }
 },
 "nbformat": 4,
 "nbformat_minor": 4
}
