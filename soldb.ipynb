{
 "cells": [
  {
   "cell_type": "code",
   "execution_count": 3,
   "metadata": {},
   "outputs": [
    {
     "ename": "NameError",
     "evalue": "name 'factionNames' is not defined",
     "output_type": "error",
     "traceback": [
      "\u001b[0;31m---------------------------------------------------------------------------\u001b[0m",
      "\u001b[0;31mNameError\u001b[0m                                 Traceback (most recent call last)",
      "Cell \u001b[0;32mIn[3], line 2\u001b[0m\n\u001b[1;32m      1\u001b[0m \u001b[38;5;28;01mimport\u001b[39;00m \u001b[38;5;21;01mpygui\u001b[39;00m \u001b[38;5;28;01mas\u001b[39;00m \u001b[38;5;21;01mpgui\u001b[39;00m\n\u001b[0;32m----> 2\u001b[0m \u001b[43mpgui\u001b[49m\u001b[38;5;241;43m.\u001b[39;49m\u001b[43mcreate_interface\u001b[49m\u001b[43m(\u001b[49m\u001b[43m)\u001b[49m\n\u001b[1;32m      4\u001b[0m \u001b[38;5;66;03m# Example usage:\u001b[39;00m\n\u001b[1;32m      5\u001b[0m \n\u001b[1;32m      6\u001b[0m         \u001b[38;5;66;03m# F =>  String: Faction                  'Alloyn'              F=Alloyn\u001b[39;00m\n\u001b[0;32m   (...)\u001b[0m\n\u001b[1;32m     12\u001b[0m \n\u001b[1;32m     13\u001b[0m \u001b[38;5;66;03m#main(args)\u001b[39;00m\n",
      "File \u001b[0;32m~/Documents/Code/GitLab/SolDB/pygui.py:141\u001b[0m, in \u001b[0;36mcreate_interface\u001b[0;34m()\u001b[0m\n\u001b[1;32m    137\u001b[0m deckNames \u001b[38;5;241m=\u001b[39m []\n\u001b[1;32m    139\u001b[0m out \u001b[38;5;241m=\u001b[39m widgets\u001b[38;5;241m.\u001b[39mOutput()\n\u001b[0;32m--> 141\u001b[0m factionToggle1, dropdown1 \u001b[38;5;241m=\u001b[39m \u001b[43mcreate_widgets\u001b[49m\u001b[43m(\u001b[49m\u001b[38;5;124;43m'\u001b[39;49m\u001b[38;5;124;43mFirst\u001b[39;49m\u001b[38;5;124;43m'\u001b[39;49m\u001b[43m)\u001b[49m       \n\u001b[1;32m    142\u001b[0m factionToggle2, dropdown2 \u001b[38;5;241m=\u001b[39m create_widgets(\u001b[38;5;124m'\u001b[39m\u001b[38;5;124mSecond\u001b[39m\u001b[38;5;124m'\u001b[39m)       \n\u001b[1;32m    144\u001b[0m button_graph \u001b[38;5;241m=\u001b[39m widgets\u001b[38;5;241m.\u001b[39mButton(description\u001b[38;5;241m=\u001b[39m\u001b[38;5;124m\"\u001b[39m\u001b[38;5;124mShow Graph\u001b[39m\u001b[38;5;124m\"\u001b[39m)\n",
      "File \u001b[0;32m~/Documents/Code/GitLab/SolDB/pygui.py:128\u001b[0m, in \u001b[0;36mcreate_widgets\u001b[0;34m(name)\u001b[0m\n\u001b[1;32m    127\u001b[0m \u001b[38;5;28;01mdef\u001b[39;00m \u001b[38;5;21mcreate_widgets\u001b[39m(name) :\n\u001b[0;32m--> 128\u001b[0m     factionToggle \u001b[38;5;241m=\u001b[39m create_faction_toggle(\u001b[43mfactionNames\u001b[49m)\n\u001b[1;32m    129\u001b[0m     dropdown \u001b[38;5;241m=\u001b[39m widgets\u001b[38;5;241m.\u001b[39mDropdown()\n\u001b[1;32m    130\u001b[0m     update_items(factionToggle, dropdown)\n",
      "\u001b[0;31mNameError\u001b[0m: name 'factionNames' is not defined"
     ]
    }
   ],
   "source": [
    "import pygui as pgui\n",
    "pgui.create_interface()\n",
    "\n",
    "# Example usage:\n",
    "\n",
    "        # F =>  String: Faction                  'Alloyn'              F=Alloyn\n",
    "        # D =>  String: Deckname                 'Insane'              D~Forge\n",
    "        # FB => String: Forgeborn               'Ironbeard'            FB=Ironbeard\n",
    "        # C  => List:   Cardnames               'Digitize'             C~Digitize\n",
    "        # A  => List:   Forgeborn - Ability     'Army Commander'       A~'Army Commander'\n",
    "        # K  => Dict:   Composition             'Robot'                K:Robot > 3"
   ]
  },
  {
   "cell_type": "code",
   "execution_count": 1,
   "metadata": {},
   "outputs": [],
   "source": [
    "from __future__ import print_function\n",
    "import ipywidgets as widgets\n",
    "from ipywidgets import interact, interactive, fixed, interact_manual\n",
    "\n",
    "from MongoDB.DatabaseManager import DatabaseManager\n",
    "import GlobalVariables\n",
    "\n",
    "from pyvis.network import Network\n",
    "import networkx as nx\n",
    "import math \n",
    "from CardLibrary import Deck\n",
    "def graphToNet(graph,size=10):\n",
    "    # Modify the labels of the nodes to include the length of the parents list\n",
    "    degree_centrality = nx.degree_centrality(graph)\n",
    "    betweenness_centrality = nx.betweenness_centrality(graph)\n",
    "    #partition = nx.community.label_propagation_communities(graph)\n",
    "\n",
    "    metric = betweenness_centrality\n",
    "\n",
    "    for node, value in metric.items() :\n",
    "        decimal = value * size * 1000\n",
    "        graph.nodes[node]['value'] = decimal\n",
    "        graph.nodes[node]['label'] = node\n",
    "\n",
    "    for node, data in graph.nodes(data=True):\n",
    "        num_parents = len(data.get('parents', []))        \n",
    "        graph.nodes[node]['label'] += f\"[{num_parents}]\"\n",
    "        \n",
    "    net = Network(notebook=True, directed=True, height=\"1500px\", width=\"2000px\", cdn_resources='in_line')    \n",
    "    net.from_nx(graph)\n",
    "    net.force_atlas_2based()\n",
    "    net.show_buttons()\n",
    "    print(\"Displaying Graph!\")\n",
    "    #display(net.show('graph.html'))\n",
    "    return net\n"
   ]
  },
  {
   "cell_type": "code",
   "execution_count": null,
   "metadata": {},
   "outputs": [
    {
     "data": {
      "application/vnd.jupyter.widget-view+json": {
       "model_id": "6d691c27de6f49d69449a1e6be1de842",
       "version_major": 2,
       "version_minor": 0
      },
      "text/plain": [
       "Text(value='tmind', description='Username:')"
      ]
     },
     "metadata": {},
     "output_type": "display_data"
    },
    {
     "data": {
      "application/vnd.jupyter.widget-view+json": {
       "model_id": "4a547f794bad48dfb133afb644d3e86e",
       "version_major": 2,
       "version_minor": 0
      },
      "text/plain": [
       "Button(description='Load Decks', style=ButtonStyle())"
      ]
     },
     "metadata": {},
     "output_type": "display_data"
    },
    {
     "data": {
      "application/vnd.jupyter.widget-view+json": {
       "model_id": "bca4b411a8454e21a7a09f6232e65680",
       "version_major": 2,
       "version_minor": 0
      },
      "text/plain": [
       "ToggleButtons(button_style='info', description='Faction:', options=('Alloyin', 'Nekrium', 'Tempys', 'Uterra'),…"
      ]
     },
     "metadata": {},
     "output_type": "display_data"
    },
    {
     "data": {
      "application/vnd.jupyter.widget-view+json": {
       "model_id": "adeb0a6dad7645ff99550b4aa6ed37de",
       "version_major": 2,
       "version_minor": 0
      },
      "text/plain": [
       "Dropdown(options=('The Square Proposing Sentry Angels', 'The Raiders of Leading Capitals', 'The Common Wrench …"
      ]
     },
     "metadata": {},
     "output_type": "display_data"
    },
    {
     "data": {
      "application/vnd.jupyter.widget-view+json": {
       "model_id": "3eea65c2098b4fd0a1978ecb12f76937",
       "version_major": 2,
       "version_minor": 0
      },
      "text/plain": [
       "ToggleButtons(button_style='info', description='Faction:', options=('Alloyin', 'Nekrium', 'Tempys', 'Uterra'),…"
      ]
     },
     "metadata": {},
     "output_type": "display_data"
    },
    {
     "data": {
      "application/vnd.jupyter.widget-view+json": {
       "model_id": "783358c27886459293c3f0782a74e314",
       "version_major": 2,
       "version_minor": 0
      },
      "text/plain": [
       "Dropdown(options=('The Square Proposing Sentry Angels', 'The Raiders of Leading Capitals', 'The Common Wrench …"
      ]
     },
     "metadata": {},
     "output_type": "display_data"
    },
    {
     "data": {
      "application/vnd.jupyter.widget-view+json": {
       "model_id": "b3ead61e2e7749bcb7101b1e199a58ce",
       "version_major": 2,
       "version_minor": 0
      },
      "text/plain": [
       "Button(description='Show Graph', style=ButtonStyle())"
      ]
     },
     "metadata": {},
     "output_type": "display_data"
    },
    {
     "data": {
      "application/vnd.jupyter.widget-view+json": {
       "model_id": "fd60025f0e314562bad6ca69ab83d2a3",
       "version_major": 2,
       "version_minor": 0
      },
      "text/plain": [
       "Output()"
      ]
     },
     "metadata": {},
     "output_type": "display_data"
    },
    {
     "name": "stdout",
     "output_type": "stream",
     "text": [
      "Requesting Data from Website: tmind,deck,\n"
     ]
    },
    {
     "name": "stderr",
     "output_type": "stream",
     "text": [
      "Fetching Data: 100%|\u001b[33m██████████\u001b[0m| 163/163 [00:00<?, ?it/s]\n"
     ]
    },
    {
     "name": "stdout",
     "output_type": "stream",
     "text": [
      "Requesting Data from Website: tmind,fuseddeck,\n"
     ]
    },
    {
     "name": "stderr",
     "output_type": "stream",
     "text": [
      "Fetching Data: 100%|\u001b[33m██████████\u001b[0m| 124/124 [00:00<?, ?it/s]\n",
      "Loading Decks: 100%|\u001b[34m██████████\u001b[0m| 163/163 [00:00<00:00, 251.02it/s]\n",
      "Saving Fusions: 100%|\u001b[33m██████████\u001b[0m| 124/124 [00:00<00:00, 5611.90it/s]\n",
      " 75%|███████▌  | 19924/26406 [02:54<00:56, 114.00it/s]\n"
     ]
    },
    {
     "name": "stdout",
     "output_type": "stream",
     "text": [
      "<CardLibrary.Deck object at 0x118ea50d0>\n",
      "Displaying Graph!\n",
      "The Mutant Constructing Gang.html\n"
     ]
    },
    {
     "data": {
      "text/html": [
       "\n",
       "        <iframe\n",
       "            width=\"2000px\"\n",
       "            height=\"1500px\"\n",
       "            src=\"The Mutant Constructing Gang.html\"\n",
       "            frameborder=\"0\"\n",
       "            allowfullscreen\n",
       "            \n",
       "        ></iframe>\n",
       "        "
      ],
      "text/plain": [
       "<IPython.lib.display.IFrame at 0x11c8fa990>"
      ]
     },
     "metadata": {},
     "output_type": "display_data"
    },
    {
     "name": "stdout",
     "output_type": "stream",
     "text": [
      "None\n"
     ]
    }
   ],
   "source": [
    "from ast import Global\n",
    "from CardLibrary import FusionData, Fusion\n",
    "import GlobalVariables\n",
    "from MongoDB.DatabaseManager import DatabaseManager\n",
    "from MyGraph import MyGraph\n",
    "\n",
    "from soldb import main, parse_arguments\n",
    "import os\n",
    "\n",
    "# Define Variables\n",
    "os.environ['PYDEVD_DISABLE_FILE_VALIDATION'] = '1'\n",
    "\n",
    "def create_faction_toggle(faction_names, initial_style='info'):\n",
    "    faction_toggle = widgets.ToggleButtons(\n",
    "        options=faction_names,\n",
    "        description='Faction:',\n",
    "        disabled=False,\n",
    "        button_style=initial_style,\n",
    "        tooltips=['Description of slow', 'Description of regular', 'Description of fast'],\n",
    "    )\n",
    "\n",
    "    def update_button_style(change):\n",
    "        if change['new'] == 'Alloyin':\n",
    "            faction_toggle.button_style = 'info'\n",
    "        elif change['new'] == 'Nekrium':\n",
    "            faction_toggle.button_style = 'warning'\n",
    "        elif change['new'] == 'Tempys':\n",
    "            faction_toggle.button_style = 'danger'\n",
    "        elif change['new'] == 'Uterra':\n",
    "            faction_toggle.button_style = 'success'\n",
    "\n",
    "    faction_toggle.observe(update_button_style, 'value')\n",
    "\n",
    "    return faction_toggle\n",
    "\n",
    "def button_load_decks(button):\n",
    "\n",
    "    arguments = [\"--username\" , GlobalVariables.username, \n",
    "                 \"--mode\", 'update' ]\n",
    "                    #\"--filter\", \"C~Biologist\" \n",
    "                    #\"--type\", \"fuseddeck\"  \n",
    "                    \n",
    "    args = parse_arguments(arguments)\n",
    "    main(args)    \n",
    "\n",
    "def button_on_click(button):\n",
    "    myDeckA = Deck.lookup(dropdown1.value)\n",
    "    myDeckB = Deck.lookup(dropdown2.value)\n",
    "\n",
    "    if myDeckA and myDeckB:\n",
    "        fusionName = f\"{myDeckA.name}_{myDeckB.name}\"\n",
    "        fusionCursor = myDB.find('Fusion', {'name' : fusionName})\n",
    "        if fusionCursor: \n",
    "            for fusion in fusionCursor:\n",
    "                myFusion = Fusion.from_data(fusion)\n",
    "                display_graph(myFusion)\n",
    "        else:\n",
    "            # Create a new fusion based on the decknames\n",
    "            newFusionData = FusionData(name=fusionName, myDecks=[myDeckA, myDeckB],tags=['forged'] )\n",
    "            newFusion = Fusion(newFusionData)\n",
    "            display_graph(newFusion)\n",
    "                \n",
    "    else: \n",
    "        for deck in [myDeckA , myDeckB] :\n",
    "            print(deck)\n",
    "            if deck:\n",
    "                myGraph = MyGraph()\n",
    "                myGraph.create_graph_children(deck)\n",
    "                net = graphToNet(myGraph.G)\n",
    "                display(net.show(f\"{deck.name}.html\"))\n",
    "def on_username_change(change):\n",
    "    new_username = change['new']\n",
    "    if new_username:  # Check that the username is not empty\n",
    "        #print(f\"Changing username -> {new_username}\")\n",
    "        GlobalVariables.username = new_username\n",
    "        myDB.set_database_name(GlobalVariables.username)\n",
    "        update_items(factionToggle1, dropdown1)\n",
    "        update_items(factionToggle2, dropdown2)\n",
    "    else:\n",
    "        print(\"Username cannot be an empty string\")\n",
    "\n",
    "def display_graph(deck):\n",
    "    myGraph = MyGraph()\n",
    "    myGraph.create_graph_children(deck)\n",
    "    net = graphToNet(myGraph.G)\n",
    "    with out:\n",
    "        out.clear_output() \n",
    "        display(net.show(f\"{deck.name}.html\"))\n",
    "def update_items(faction_toggle, dropdown):\n",
    "    #print(f\"Updating items for {faction_toggle.value} , username = {GlobalVariables.username}\")\n",
    "    myDB.set_database_name(GlobalVariables.username)\n",
    "    deckCursor = myDB.find('Deck', {'faction' : faction_toggle.value})\n",
    "    deckNames = [deck['name'] for deck in deckCursor]\n",
    "    dropdown.options = deckNames        \n",
    "\n",
    "def create_widgets(name) :\n",
    "    factionToggle = create_faction_toggle(factionNames)\n",
    "    dropdown = widgets.Dropdown()\n",
    "    update_items(factionToggle, dropdown)\n",
    "    factionToggle.observe(lambda change: update_items(factionToggle, dropdown), 'value')\n",
    "    return factionToggle, dropdown\n",
    "\n",
    "def create_interface():\n",
    "\n",
    "    GlobalVariables.username = 'tmind'\n",
    "    myDB = DatabaseManager(GlobalVariables.username)\n",
    "\n",
    "factionNames = ['Alloyin', 'Nekrium', 'Tempys', 'Uterra']\n",
    "deckNames = []\n",
    "\n",
    "out = widgets.Output()\n",
    "\n",
    "factionToggle1, dropdown1 = create_widgets('First')       \n",
    "factionToggle2, dropdown2 = create_widgets('Second')       \n",
    "\n",
    "button_graph = widgets.Button(description=\"Show Graph\")\n",
    "button_graph.on_click(button_on_click)\n",
    "\n",
    "button_load = widgets.Button(description=\"Load Decks\" )\n",
    "button_load.on_click(button_load_decks)\n",
    "\n",
    "username = widgets.Text(value='tmind', description='Username:', disabled=False)\n",
    "username.observe(on_username_change, 'value')\n",
    "\n",
    "display(username, button_load, factionToggle1, dropdown1, factionToggle2, dropdown2, button_graph)\n",
    "display(out)    \n",
    "\n"
   ]
  },
  {
   "cell_type": "code",
   "execution_count": null,
   "metadata": {},
   "outputs": [],
   "source": [
    "from CardLibrary import Fusion, Deck\n",
    "from MyGraph import MyGraph\n",
    "from MongoDB.DatabaseManager import DatabaseManager\n",
    "import GlobalVariables\n",
    "GlobalVariables.username = 'tmind'\n",
    "myDB = DatabaseManager(GlobalVariables.username)\n",
    "\n",
    "fusionCursor = myDB.find('Fusion', {'name' : 'Simian - Sailors'})\n",
    "\n",
    "deckCursor  = myDB.find('Deck', {'name' : 'The Armoring Studious Power Cult'})\n",
    "\n",
    "for deck in deckCursor:\n",
    "    myDeck = Deck.from_data(deck)\n",
    "    #myDeck.calculate_stats()   \n",
    " \n",
    "    # CardSetName \n",
    "# for fusion in fusionCursor:\n",
    "#     myFusion = Fusion.from_data(fusion)\n",
    "#     myGraph = MyGraph()\n",
    "#     myGraph.create_graph_children(myFusion)\n",
    "#     net = graphToNet(myGraph.G)\n",
    "#     display(net.show(f\"{myFusion.name}.html\"))\n",
    "    \n"
   ]
  }
 ],
 "metadata": {
  "kernelspec": {
   "display_name": "Python 3 (ipykernel)",
   "language": "python",
   "name": "python3"
  },
  "language_info": {
   "codemirror_mode": {
    "name": "ipython",
    "version": 3
   },
   "file_extension": ".py",
   "mimetype": "text/x-python",
   "name": "python",
   "nbconvert_exporter": "python",
   "pygments_lexer": "ipython3",
   "version": "3.11.6"
  }
 },
 "nbformat": 4,
 "nbformat_minor": 4
}
