{
 "cells": [
  {
   "cell_type": "code",
   "execution_count": 1,
   "metadata": {},
   "outputs": [],
   "source": [
    "#Imnpot all the necessary modules\n",
    "from DeckLibrary    import DeckLibrary\n",
    "from UniversalLibrary import UniversalLibrary\n",
    "#from CacheManager   import CacheManager\n",
    "from Synergy        import SynergyTemplate\n",
    "from NetApi         import NetApi\n",
    "from Filter import Filter\n",
    "import Evaluation as ev\n",
    "from Graph import MyGraph\n",
    "import argparse\n",
    "from tqdm import tqdm \n",
    "import os, time, re\n",
    "from pathlib import Path\n",
    "from multiprocessing import Pool, cpu_count,Event\n",
    "from MongoDB.DatabaseManager import DatabaseManager\n",
    "import GlobalVariables\n"
   ]
  },
  {
   "cell_type": "code",
   "execution_count": 2,
   "metadata": {},
   "outputs": [],
   "source": [
    "# Define functions to be used\n",
    "def parse_arguments(args):\n",
    "    # Define the command-line arguments\n",
    "# Create an argument parser\n",
    "    parser = argparse.ArgumentParser(description=\"Script description\")\n",
    "\n",
    "    # Add command-line arguments\n",
    "    # Arguments for online use \n",
    "    parser.add_argument(\"--username\", default=\"\", help=\"Online account name or omit for offline use\")\n",
    "    parser.add_argument(\"--type\", default=\"deck\", choices=[\"deck\", \"fuseddeck\"], help=\"Decktype for user collection , default=deck\")\n",
    "    parser.add_argument(\"--id\", default=\"\", help=\"Specific Deck ID from solforgefusion website\")\n",
    "    \n",
    "    # Arguments for general use \n",
    "    # If both username and file is given, export deckbase to file.json \n",
    "    # If only file is given import deckbase from file.json \n",
    "    parser.add_argument(\"--filename\",  default=None,  help=\"Offline Deck Database Name\")\n",
    "    parser.add_argument(\"--synergies\", default=None, help=\"CSV Filename for synergy lookup\")    \n",
    "    parser.add_argument(\"--offline\", default=None, help=\"Offline use only\")    \n",
    "\n",
    "    # Arguments for Evaluation\n",
    "    \n",
    "    parser.add_argument(\"--eval\", nargs='?', const=True, action=\"store\",  help=\"Evaluate possible fusions. Optional filename for .csv export\")    \n",
    "    parser.add_argument(\"--graph\", action=\"store_true\",  help=\"Create Graph '.gefx'\")\n",
    "    parser.add_argument(\"--filter\", default=None, help=\"Filter by card names. Syntax: \\\"<cardname>+'<card name>'-<cardname>\\\" + = AND, - = OR \")\n",
    "    parser.add_argument(\"--select_pairs\", action=\"store_true\", help=\"Select top pairs\")\n",
    "    \n",
    "    # Parse the command-line arguments\n",
    "    return parser.parse_args(args)\n",
    "    \n",
    "\n"
   ]
  },
  {
   "cell_type": "code",
   "execution_count": 5,
   "metadata": {},
   "outputs": [
    {
     "name": "stdout",
     "output_type": "stream",
     "text": [
      "Requesting Data from Website: tmind,deck,\n"
     ]
    },
    {
     "name": "stderr",
     "output_type": "stream",
     "text": [
      "Fetching Data: 100%|\u001b[33m██████████\u001b[0m| 137/137 [00:00<?, ?it/s]\n"
     ]
    },
    {
     "name": "stdout",
     "output_type": "stream",
     "text": [
      "Requesting Data from Website: tmind,fuseddeck,\n"
     ]
    },
    {
     "name": "stderr",
     "output_type": "stream",
     "text": [
      "Fetching Data: 100%|\u001b[33m██████████\u001b[0m| 112/112 [00:00<?, ?it/s]\n",
      "Loading Decks: 137it [00:00, 281.46it/s]\n",
      "Saving Fusions: 100%|\u001b[33m██████████\u001b[0m| 112/112 [00:00<00:00, 6922.42it/s]\n",
      " 76%|███████▌  | 14072/18632 [00:00<00:00, 24112.24it/s]\n"
     ]
    }
   ],
   "source": [
    "from soldb import main\n",
    "import os\n",
    "\n",
    "# Define Variables\n",
    "os.environ['PYDEVD_DISABLE_FILE_VALIDATION'] = '1'\n",
    "\n",
    "username = 'namrog'\n",
    "param_eval = 'namrog'\n",
    "\n",
    "arguments = [\"--username\" , username,\n",
    "              \"--eval\" , param_eval    ]\n",
    "\n",
    "args = parse_arguments(arguments)\n",
    "\n",
    "main(args)\n",
    "\n"
   ]
  },
  {
   "cell_type": "code",
   "execution_count": null,
   "metadata": {},
   "outputs": [],
   "source": [
    " "
   ]
  },
  {
   "cell_type": "code",
   "execution_count": null,
   "metadata": {},
   "outputs": [],
   "source": []
  }
 ],
 "metadata": {
  "kernelspec": {
   "display_name": "Python 3",
   "language": "python",
   "name": "python3"
  },
  "language_info": {
   "codemirror_mode": {
    "name": "ipython",
    "version": 3
   },
   "file_extension": ".py",
   "mimetype": "text/x-python",
   "name": "python",
   "nbconvert_exporter": "python",
   "pygments_lexer": "ipython3",
   "version": "3.11.6"
  }
 },
 "nbformat": 4,
 "nbformat_minor": 2
}
