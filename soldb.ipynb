{
 "cells": [
  {
   "cell_type": "markdown",
   "metadata": {},
   "source": [
    "## How to Use This Notebook\n",
    "\n",
    "This Jupyter notebook uses the `ipywidgets` module to create a graphical user interface. Here's how to use it:\n",
    "\n",
    "1. **Run the interface**: The cell below imports the `pygui` module and calls the `create_interface` function. This function creates the graphical user interface. To run this cell, click on it to select it, then click the \"Run\" button or use the `Shift + Enter` shortcut or the Play button in the top menu.\n",
    "\n",
    "2. **First steps**: To import data , you need to first replace `user` with your Solforge Fusion `username` in the box below. Then click the `Load` button on the bottom of the notebook. "
   ]
  },
  {
   "cell_type": "code",
   "execution_count": 1,
   "metadata": {},
   "outputs": [
    {
     "name": "stdout",
     "output_type": "stream",
     "text": [
      "Getting entity names for Modifier\n",
      "Entity names for Modifier: ['Abetting', 'Abyssal', 'Adaptive', 'Ardent', 'Armored', 'Arrogant', 'Assailing', 'Biding', 'Blitzing', 'Bolstering', 'Brashful', 'Camouflaged', 'Chaining', 'Charge Plated', 'Combat', 'Commanding', 'Corrupt', 'Cutthroat', 'Devouring', 'Doom', 'Ferocious', 'Fleet', 'Forsaken', 'Ghoulish', 'Hematophagic', 'Hibernating', 'Howling', 'Inflaming', 'Kindred', 'Magnivorous', 'Mystical', 'Necrotic', 'Pack', 'Petrifying', 'Piercing', 'Prepared', 'Progressive', 'Protective', 'Pyromantic', 'Quaking', 'Raging', 'Rallying', 'Reckless', 'Recycling', 'Refreshing', 'Regenerating', 'Reinforced', 'Roaring', 'Rooted', 'Salvage', 'Sated', 'Shambling', 'Shieldbearing', 'Shifting', 'Solemn', 'Soothing', 'Sparking', 'Stabilizing', 'Stampeding', 'Steadfast', 'Stout', 'Summoning', 'Suppressing', 'Synapse', 'Taunting', 'Tormenting', 'Toxic', 'Unstable', 'Vampiric', 'Venerable', 'Vile', 'Volcanic']\n",
      "Adding Modifier widget\n",
      "Getting entity names for Creature\n",
      "Entity names for Creature: ['Adept', 'Aegis Knight', 'Aetherforge Oracle', 'Aetheroot', 'Allomancer', 'Alluvian', 'Apocymancer', 'Apparition', 'Asir Mechamage', 'Assassin', 'Ator, Thunder Titan', 'Banshee', 'Bartok', 'Basher', 'Batterhide', 'Bear', 'Blight Witch', 'Blizzard Shaman', 'Bonescythe Reaver', 'Breaker', 'Bride of Frankenbaum', 'Brightsteel Gargoyle', 'Brightsteel Sentinel', 'Broodfang', 'Cacklebones', 'Caller', 'Captain', 'Chrogias', 'Colossus', 'Creeper', 'Darkheart Sorcerer', 'Decayasaur', 'Demon', 'Devourer', 'Dr. Frankenbaum', 'Drake', 'Drix', 'Drone', 'Druid', 'Elk', 'Engineer', 'Epoch Hawk', 'Epoch Soldier', 'Esperian Steelplate', 'Everflame Phoenix', 'Everflow Eidolon', 'Featherfang', 'Fiend', 'Firefist Uranti', 'Flamebreak Invoker', 'Flameshaper Savant', 'Forgeplate Yeti', 'Geist', 'Giant', 'Gizzy Mo', 'Glider', 'Glitch Scout', 'Gloomreaper Hag', 'Glowhive Siren', 'Grimgaunt Predator', 'Grove Mother', 'Hawkrider', 'Herald of Fury', 'Hunter', 'Icecrusher', 'Indomitable Fiend', 'Inventor', 'Invokist', 'Justicar', 'Keeper', 'Keeper of the Damned', 'Lasher', 'Leyline Vermin', 'Lightning Tamer', 'Lyria', 'Mad LeWinter', 'Mantis', 'Master', 'Matriarch', 'Medic', 'Metamind Overseer', 'Moeba', 'Musthic Megatha', 'Mystic', 'Mystical Tanglesprout', 'Mystical Teacher', 'Necromancer', 'Operator', 'Oreian Battledroid', 'Ossuary Mech', 'Oxidon Rager', 'Packmaster', 'Palladium Hindermind', 'Palladium Pulsemage', 'Palladium Simulacrum', 'Patriarch', 'Patron', 'Plague Spewer', 'Polymorpher', 'Portal Shade', 'Portotron 2000', 'Prophet', 'Rageborn Eruptor', 'Ranger', 'Raptor', 'Ravager', 'Razortooth', 'Reaper', 'Reinforcements', 'Relentless Wanderers', 'Researcher', 'Reveler', 'Revenant', 'Rex', 'Rimehorn Charger', 'Safeguard', 'Scavenger', 'Scorchmane Dragon', 'Scourge Hydra', 'Scrapper', 'Sculptor', 'Sentinel', 'Sentry', 'Shambler', 'Shardplate Delver', 'Shroudthorn Splicer', 'Sigmund Fraud', 'Skeleton', 'Slayer', 'Slime', 'Smash Fist', 'Sparking Omni', 'Specimen', 'Spectre', 'Spellknight', 'Spirit', 'Spirit Reaver', 'Spiritforge Sentinel', 'Spite Hydra', 'Spitemaiden', 'Spring Dryad', 'Stampeding Mongosaur', 'Steeleye Researcher', 'Steggadon Alpha', 'Stitcher', 'Stonefist', 'Storm Caller', 'Stormling', 'Stouthide Stegadon', 'Summoner', 'Swampmoss Lurker', 'Talisan', 'Technohulk', 'Techtician', 'Thundersaur', 'Thunderstomper', 'Toorgmai Guardian', 'Tortoise Colossus', 'Transcendent Biologist', 'Undeati', 'Uranti Elementalist', 'Uranti Heartseeker', 'Uterra Charger', 'Uterradon Mauler', 'Virtuoso', 'Voltaic Magus', 'Voltaic Prophet', 'Walker', 'War Machine', 'Warcharger', 'Warden', 'Warhound', 'Warstoker', 'Wartusk', 'Windspark Elemental', 'Wrecks', 'Wurm', 'Xithian Dreadmaw', 'Zimus']\n",
      "Getting entity names for Spell\n",
      "Entity names for Spell: ['Aegis Wings', 'Blightskull Bomb', 'Botanimate', 'Bulwark Bash', 'Burnout', \"Cercee's Call\", 'Chant of Umbruk', 'Conflagrate', 'Cypien Augmentation', 'Cypien Experimentation', 'Death Current', 'Dendrify', 'Digitize', 'Disintegrate', 'Dreadbolt', \"Druid's Chant\", 'Duplication Dome', 'Dysian Syphon', 'Electronet', 'Elementalist Ritual', 'Energy Prison', 'Energy Surge', 'Epidemic', 'Everflame Aura', 'Feral Instinct', 'Ferocious Roar', 'Fireheart Idol', 'Firestorm', 'Fit of Rage', 'Flame Jet', \"Flamesculptor's Seal\", 'Forcefield', 'Forge Seal', 'Gauntlets of Sulgrim', 'Ghastly Renewal', 'Glowhive Nursery', 'Grave Pact', 'Group Meal', 'Heart Tree', 'Heavy Artillery', 'Howl of Xith', 'Ice Storm', 'Infernal Ritual', 'Lead the Charge', 'Lightning Brand', 'Lightning Charge', 'Lightning Ritual', 'Lightning Spark', 'Lucid Echoes', 'Lysian Rain', 'Metasight', 'Might of the Herd', 'Nanoswarm', 'Naptime', 'Necrovive', 'Omnomnom', \"Pack's Blessing\", \"Patriarch's Binding\", 'Primal Surge', 'Primordial Slam', 'Pyre Song', 'Redact', 'Savage Oath', \"Shadow's Strength\", 'Shield Node', 'Sonic Burst', 'Soulreap', 'Spiked Carapice', 'Spiritleash', 'Staff of Vaerus', 'Steelgraft', 'Stone Skin', 'Summoning Council', \"Synteta's Laboratory\", 'Tech Upgrade', 'Toxic Spores', 'Turnabout', \"Varna's Pact\", 'Venom Chalice', 'Vine Lash', \"Vyric's Embrace\", 'Warbringer Ritual', 'Warmonger Mod', \"Xrath's Will\"]\n",
      "Adding Creature/Spell widget\n"
     ]
    },
    {
     "data": {
      "application/vnd.jupyter.widget-view+json": {
       "model_id": "687dde3be1f84274b0ac4c6e2ac0e84a",
       "version_major": 2,
       "version_minor": 0
      },
      "text/plain": [
       "VBox(children=(ToggleButtons(description='Reload:', options=('Decks', 'Fusions', 'Entities', 'Forgeborns'), to…"
      ]
     },
     "metadata": {},
     "output_type": "display_data"
    },
    {
     "data": {
      "application/vnd.jupyter.widget-view+json": {
       "model_id": "51a8812c2ca344bc8f1bb7f5c8698f59",
       "version_major": 2,
       "version_minor": 0
      },
      "text/plain": [
       "Output()"
      ]
     },
     "metadata": {},
     "output_type": "display_data"
    },
    {
     "data": {
      "application/vnd.jupyter.widget-view+json": {
       "model_id": "1d4cb65a55c94259b58cc068984efd0a",
       "version_major": 2,
       "version_minor": 0
      },
      "text/plain": [
       "Output()"
      ]
     },
     "metadata": {},
     "output_type": "display_data"
    },
    {
     "data": {
      "application/vnd.jupyter.widget-view+json": {
       "model_id": "c4d905adb8424259a17d2e0b2d79b436",
       "version_major": 2,
       "version_minor": 0
      },
      "text/plain": [
       "HBox(children=(ToggleButtons(button_style='info', options=('Alloyin', 'Nekrium', 'Tempys', 'Uterra'), tooltips…"
      ]
     },
     "metadata": {},
     "output_type": "display_data"
    },
    {
     "data": {
      "application/vnd.jupyter.widget-view+json": {
       "model_id": "30cd48758a4442768860a213e35607a6",
       "version_major": 2,
       "version_minor": 0
      },
      "text/plain": [
       "HBox(children=(ToggleButtons(button_style='info', options=('Alloyin', 'Nekrium', 'Tempys', 'Uterra'), tooltips…"
      ]
     },
     "metadata": {},
     "output_type": "display_data"
    },
    {
     "data": {
      "application/vnd.jupyter.widget-view+json": {
       "model_id": "0da6b552787a407699a20b28066f843e",
       "version_major": 2,
       "version_minor": 0
      },
      "text/plain": [
       "Button(description='Show Graph', style=ButtonStyle())"
      ]
     },
     "metadata": {},
     "output_type": "display_data"
    },
    {
     "name": "stdout",
     "output_type": "stream",
     "text": [
      "Getting entity names for Modifier\n",
      "Entity names for Modifier: ['Abetting', 'Abyssal', 'Adaptive', 'Ardent', 'Armored', 'Arrogant', 'Assailing', 'Biding', 'Blitzing', 'Bolstering', 'Brashful', 'Camouflaged', 'Chaining', 'Charge Plated', 'Combat', 'Commanding', 'Corrupt', 'Cutthroat', 'Devouring', 'Doom', 'Ferocious', 'Fleet', 'Forsaken', 'Ghoulish', 'Hematophagic', 'Hibernating', 'Howling', 'Inflaming', 'Kindred', 'Magnivorous', 'Mystical', 'Necrotic', 'Pack', 'Petrifying', 'Piercing', 'Prepared', 'Progressive', 'Protective', 'Pyromantic', 'Quaking', 'Raging', 'Rallying', 'Reckless', 'Recycling', 'Refreshing', 'Regenerating', 'Reinforced', 'Roaring', 'Rooted', 'Salvage', 'Sated', 'Shambling', 'Shieldbearing', 'Shifting', 'Solemn', 'Soothing', 'Sparking', 'Stabilizing', 'Stampeding', 'Steadfast', 'Stout', 'Summoning', 'Suppressing', 'Synapse', 'Taunting', 'Tormenting', 'Toxic', 'Unstable', 'Vampiric', 'Venerable', 'Vile', 'Volcanic']\n",
      "Filtered options for Spellknight: ['Chaining', 'Venerable']\n"
     ]
    },
    {
     "ename": "RecursionError",
     "evalue": "maximum recursion depth exceeded while calling a Python object",
     "output_type": "error",
     "traceback": [
      "\u001b[0;31m---------------------------------------------------------------------------\u001b[0m",
      "\u001b[0;31mRecursionError\u001b[0m                            Traceback (most recent call last)",
      "Cell \u001b[0;32mIn[1], line 6\u001b[0m\n\u001b[1;32m      4\u001b[0m change2 \u001b[38;5;241m=\u001b[39m {\u001b[38;5;124m'\u001b[39m\u001b[38;5;124mname\u001b[39m\u001b[38;5;124m'\u001b[39m: \u001b[38;5;124m'\u001b[39m\u001b[38;5;124mvalue\u001b[39m\u001b[38;5;124m'\u001b[39m, \u001b[38;5;124m'\u001b[39m\u001b[38;5;124mold\u001b[39m\u001b[38;5;124m'\u001b[39m: \u001b[38;5;124m'\u001b[39m\u001b[38;5;124mChaining\u001b[39m\u001b[38;5;124m'\u001b[39m, \u001b[38;5;124m'\u001b[39m\u001b[38;5;124mnew\u001b[39m\u001b[38;5;124m'\u001b[39m: \u001b[38;5;124m'\u001b[39m\u001b[38;5;124m'\u001b[39m, \u001b[38;5;124m'\u001b[39m\u001b[38;5;124mowner\u001b[39m\u001b[38;5;124m'\u001b[39m: pgui\u001b[38;5;241m.\u001b[39mcardTypes_names_widget[\u001b[38;5;124m'\u001b[39m\u001b[38;5;124mModifier\u001b[39m\u001b[38;5;124m'\u001b[39m]}\n\u001b[1;32m      5\u001b[0m pgui\u001b[38;5;241m.\u001b[39mupdate_filter_widget(change1)\n\u001b[0;32m----> 6\u001b[0m \u001b[43mpgui\u001b[49m\u001b[38;5;241;43m.\u001b[39;49m\u001b[43mupdate_filter_widget\u001b[49m\u001b[43m(\u001b[49m\u001b[43mchange2\u001b[49m\u001b[43m)\u001b[49m\n",
      "File \u001b[0;32m~/Documents/Code/GitLab/SolDB/pygui.py:374\u001b[0m, in \u001b[0;36mupdate_filter_widget\u001b[0;34m(change)\u001b[0m\n\u001b[1;32m    372\u001b[0m             change[\u001b[38;5;124m'\u001b[39m\u001b[38;5;124mnew\u001b[39m\u001b[38;5;124m'\u001b[39m] \u001b[38;5;241m=\u001b[39m cardType_widget\u001b[38;5;241m.\u001b[39mvalue\n\u001b[1;32m    373\u001b[0m             change[\u001b[38;5;124m'\u001b[39m\u001b[38;5;124mowner\u001b[39m\u001b[38;5;124m'\u001b[39m] \u001b[38;5;241m=\u001b[39m cardType_widget                        \n\u001b[0;32m--> 374\u001b[0m     \u001b[43mupdate_filter_widget\u001b[49m\u001b[43m(\u001b[49m\u001b[43mchange\u001b[49m\u001b[43m)\u001b[49m            \n\u001b[1;32m    375\u001b[0m \u001b[38;5;28;01melse\u001b[39;00m:\n\u001b[1;32m    376\u001b[0m     \u001b[38;5;28;01mfor\u001b[39;00m cardTypesString, cardType_widget \u001b[38;5;129;01min\u001b[39;00m cardTypes_names_widget\u001b[38;5;241m.\u001b[39mitems():\n",
      "File \u001b[0;32m~/Documents/Code/GitLab/SolDB/pygui.py:374\u001b[0m, in \u001b[0;36mupdate_filter_widget\u001b[0;34m(change)\u001b[0m\n\u001b[1;32m    372\u001b[0m             change[\u001b[38;5;124m'\u001b[39m\u001b[38;5;124mnew\u001b[39m\u001b[38;5;124m'\u001b[39m] \u001b[38;5;241m=\u001b[39m cardType_widget\u001b[38;5;241m.\u001b[39mvalue\n\u001b[1;32m    373\u001b[0m             change[\u001b[38;5;124m'\u001b[39m\u001b[38;5;124mowner\u001b[39m\u001b[38;5;124m'\u001b[39m] \u001b[38;5;241m=\u001b[39m cardType_widget                        \n\u001b[0;32m--> 374\u001b[0m     \u001b[43mupdate_filter_widget\u001b[49m\u001b[43m(\u001b[49m\u001b[43mchange\u001b[49m\u001b[43m)\u001b[49m            \n\u001b[1;32m    375\u001b[0m \u001b[38;5;28;01melse\u001b[39;00m:\n\u001b[1;32m    376\u001b[0m     \u001b[38;5;28;01mfor\u001b[39;00m cardTypesString, cardType_widget \u001b[38;5;129;01min\u001b[39;00m cardTypes_names_widget\u001b[38;5;241m.\u001b[39mitems():\n",
      "    \u001b[0;31m[... skipping similar frames: update_filter_widget at line 374 (2957 times)]\u001b[0m\n",
      "File \u001b[0;32m~/Documents/Code/GitLab/SolDB/pygui.py:374\u001b[0m, in \u001b[0;36mupdate_filter_widget\u001b[0;34m(change)\u001b[0m\n\u001b[1;32m    372\u001b[0m             change[\u001b[38;5;124m'\u001b[39m\u001b[38;5;124mnew\u001b[39m\u001b[38;5;124m'\u001b[39m] \u001b[38;5;241m=\u001b[39m cardType_widget\u001b[38;5;241m.\u001b[39mvalue\n\u001b[1;32m    373\u001b[0m             change[\u001b[38;5;124m'\u001b[39m\u001b[38;5;124mowner\u001b[39m\u001b[38;5;124m'\u001b[39m] \u001b[38;5;241m=\u001b[39m cardType_widget                        \n\u001b[0;32m--> 374\u001b[0m     \u001b[43mupdate_filter_widget\u001b[49m\u001b[43m(\u001b[49m\u001b[43mchange\u001b[49m\u001b[43m)\u001b[49m            \n\u001b[1;32m    375\u001b[0m \u001b[38;5;28;01melse\u001b[39;00m:\n\u001b[1;32m    376\u001b[0m     \u001b[38;5;28;01mfor\u001b[39;00m cardTypesString, cardType_widget \u001b[38;5;129;01min\u001b[39;00m cardTypes_names_widget\u001b[38;5;241m.\u001b[39mitems():\n",
      "File \u001b[0;32m~/Documents/Code/GitLab/SolDB/pygui.py:372\u001b[0m, in \u001b[0;36mupdate_filter_widget\u001b[0;34m(change)\u001b[0m\n\u001b[1;32m    370\u001b[0m \u001b[38;5;28;01mfor\u001b[39;00m cardTypesString, cardType_widget \u001b[38;5;129;01min\u001b[39;00m cardTypes_names_widget\u001b[38;5;241m.\u001b[39mitems():\n\u001b[1;32m    371\u001b[0m     \u001b[38;5;28;01mif\u001b[39;00m cardType_widget \u001b[38;5;129;01mand\u001b[39;00m cardType_widget \u001b[38;5;241m!=\u001b[39m changed_widget:                    \n\u001b[0;32m--> 372\u001b[0m         change[\u001b[38;5;124m'\u001b[39m\u001b[38;5;124mnew\u001b[39m\u001b[38;5;124m'\u001b[39m] \u001b[38;5;241m=\u001b[39m \u001b[43mcardType_widget\u001b[49m\u001b[38;5;241;43m.\u001b[39;49m\u001b[43mvalue\u001b[49m\n\u001b[1;32m    373\u001b[0m         change[\u001b[38;5;124m'\u001b[39m\u001b[38;5;124mowner\u001b[39m\u001b[38;5;124m'\u001b[39m] \u001b[38;5;241m=\u001b[39m cardType_widget                        \n\u001b[1;32m    374\u001b[0m update_filter_widget(change)            \n",
      "File \u001b[0;32m~/Documents/Code/GitLab/SolDB/myenv/lib/python3.11/site-packages/traitlets/traitlets.py:687\u001b[0m, in \u001b[0;36mTraitType.__get__\u001b[0;34m(self, obj, cls)\u001b[0m\n\u001b[1;32m    685\u001b[0m     \u001b[38;5;28;01mreturn\u001b[39;00m \u001b[38;5;28mself\u001b[39m\n\u001b[1;32m    686\u001b[0m \u001b[38;5;28;01melse\u001b[39;00m:\n\u001b[0;32m--> 687\u001b[0m     \u001b[38;5;28;01mreturn\u001b[39;00m t\u001b[38;5;241m.\u001b[39mcast(G, \u001b[38;5;28;43mself\u001b[39;49m\u001b[38;5;241;43m.\u001b[39;49m\u001b[43mget\u001b[49m\u001b[43m(\u001b[49m\u001b[43mobj\u001b[49m\u001b[43m,\u001b[49m\u001b[43m \u001b[49m\u001b[38;5;28;43mcls\u001b[39;49m\u001b[43m)\u001b[49m)\n",
      "File \u001b[0;32m~/Documents/Code/GitLab/SolDB/myenv/lib/python3.11/site-packages/traitlets/traitlets.py:666\u001b[0m, in \u001b[0;36mTraitType.get\u001b[0;34m(self, obj, cls)\u001b[0m\n\u001b[1;32m    664\u001b[0m     \u001b[38;5;28;01mraise\u001b[39;00m TraitError(\u001b[38;5;124m\"\u001b[39m\u001b[38;5;124mUnexpected error in TraitType: default value not set properly\u001b[39m\u001b[38;5;124m\"\u001b[39m) \u001b[38;5;28;01mfrom\u001b[39;00m \u001b[38;5;21;01me\u001b[39;00m\n\u001b[1;32m    665\u001b[0m \u001b[38;5;28;01melse\u001b[39;00m:\n\u001b[0;32m--> 666\u001b[0m     \u001b[38;5;28;01mreturn\u001b[39;00m \u001b[43mt\u001b[49m\u001b[38;5;241;43m.\u001b[39;49m\u001b[43mcast\u001b[49m\u001b[43m(\u001b[49m\u001b[43mG\u001b[49m\u001b[43m,\u001b[49m\u001b[43m \u001b[49m\u001b[43mvalue\u001b[49m\u001b[43m)\u001b[49m\n",
      "File \u001b[0;32m/opt/homebrew/Cellar/python@3.11/3.11.6_1/Frameworks/Python.framework/Versions/3.11/lib/python3.11/typing.py:2256\u001b[0m, in \u001b[0;36mcast\u001b[0;34m(typ, val)\u001b[0m\n\u001b[1;32m   2252\u001b[0m     \u001b[38;5;28mcls\u001b[39m\u001b[38;5;241m.\u001b[39m_is_runtime_protocol \u001b[38;5;241m=\u001b[39m \u001b[38;5;28;01mTrue\u001b[39;00m\n\u001b[1;32m   2253\u001b[0m     \u001b[38;5;28;01mreturn\u001b[39;00m \u001b[38;5;28mcls\u001b[39m\n\u001b[0;32m-> 2256\u001b[0m \u001b[38;5;28;01mdef\u001b[39;00m \u001b[38;5;21mcast\u001b[39m(typ, val):\n\u001b[1;32m   2257\u001b[0m \u001b[38;5;250m    \u001b[39m\u001b[38;5;124;03m\"\"\"Cast a value to a type.\u001b[39;00m\n\u001b[1;32m   2258\u001b[0m \n\u001b[1;32m   2259\u001b[0m \u001b[38;5;124;03m    This returns the value unchanged.  To the type checker this\u001b[39;00m\n\u001b[0;32m   (...)\u001b[0m\n\u001b[1;32m   2262\u001b[0m \u001b[38;5;124;03m    to be as fast as possible).\u001b[39;00m\n\u001b[1;32m   2263\u001b[0m \u001b[38;5;124;03m    \"\"\"\u001b[39;00m\n\u001b[1;32m   2264\u001b[0m     \u001b[38;5;28;01mreturn\u001b[39;00m val\n",
      "File \u001b[0;32m_pydevd_bundle/pydevd_cython.pyx:1457\u001b[0m, in \u001b[0;36m_pydevd_bundle.pydevd_cython.SafeCallWrapper.__call__\u001b[0;34m()\u001b[0m\n",
      "\u001b[0;31mRecursionError\u001b[0m: maximum recursion depth exceeded while calling a Python object"
     ]
    }
   ],
   "source": [
    "import pygui as pgui\n",
    "pgui.setup_interface()\n",
    "change1 = {'name': 'value', 'old': '', 'new': 'Spellknight', 'owner': pgui.cardTypes_names_widget['Creature/Spell']}\n",
    "change2 = {'name': 'value', 'old': 'Chaining', 'new': '', 'owner': pgui.cardTypes_names_widget['Modifier']}\n",
    "#pgui.update_filter_widget(change1)\n",
    "#pgui.update_filter_widget(change2)"
   ]
  }
 ],
 "metadata": {
  "kernelspec": {
   "display_name": "Python 3 (ipykernel)",
   "language": "python",
   "name": "python3"
  },
  "language_info": {
   "codemirror_mode": {
    "name": "ipython",
    "version": 3
   },
   "file_extension": ".py",
   "mimetype": "text/x-python",
   "name": "python",
   "nbconvert_exporter": "python",
   "pygments_lexer": "ipython3",
   "version": "3.11.6"
  }
 },
 "nbformat": 4,
 "nbformat_minor": 4
}
