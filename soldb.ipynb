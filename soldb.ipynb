{
 "cells": [
  {
   "cell_type": "code",
   "execution_count": null,
   "metadata": {},
   "outputs": [
    {
     "data": {
      "application/vnd.jupyter.widget-view+json": {
       "model_id": "41b1c2e106094d09a572c35b41d184c5",
       "version_major": 2,
       "version_minor": 0
      },
      "text/plain": [
       "VBox(children=(Text(value='flavasava', description='Username:'), HBox(children=(RadioButtons(description='Data…"
      ]
     },
     "metadata": {},
     "output_type": "display_data"
    },
    {
     "data": {
      "application/vnd.jupyter.widget-view+json": {
       "model_id": "1a91d499e6db43cb9a693a684fffd15b",
       "version_major": 2,
       "version_minor": 0
      },
      "text/plain": [
       "Output()"
      ]
     },
     "metadata": {},
     "output_type": "display_data"
    },
    {
     "name": "stdout",
     "output_type": "stream",
     "text": [
      "Reloading Decks\n",
      "Loading Decks with arguments ['--username', 'tmind', '--mode', 'update']\n",
      "Requesting Data from Website: tmind,deck,\n"
     ]
    },
    {
     "name": "stderr",
     "output_type": "stream",
     "text": [
      "Fetching Data: 100%|\u001b[33m██████████\u001b[0m| 185/185 [00:00<00:00, 36.06it/s]\n",
      "Saving Decks: 100%|\u001b[34m██████████\u001b[0m| 185/185 [00:02<00:00, 73.24it/s]\n"
     ]
    },
    {
     "ename": "BulkWriteError",
     "evalue": "batch op errors occurred, full error: {'writeErrors': [{'index': 0, 'code': 11000, 'errmsg': 'E11000 duplicate key error collection: tmind.Card index: _id_ dup key: { _id: \"s1aa1aetherforge-oracle\" }', 'keyPattern': {'_id': 1}, 'keyValue': {'_id': 's1aa1aetherforge-oracle'}, 'op': {'name': 'Aetherforge Oracle', 'title': 'Aetherforge Oracle', 'faction': '', 'cardType': 'Creature', 'cardSubType': 'Mage', 'betrayer': False, 'sortValue': '', 'crossFaction': '', 'cardSetId': '', '_id': 's1aa1aetherforge-oracle', 'rarity': 'Common', 'levels': {'1': {'health': 5, 'attack': 3, 'text': '<b>Deploy:</b> <b>Upgrade</b> a card in your hand, then discard it.'}, '2': {'health': 10, 'attack': 6, 'text': '<b>Deploy:</b> <b>Upgrade</b> a card in your hand, then discard it.'}, '3': {'health': 13, 'attack': 9, 'text': '<b>Deploy:</b> <b>Upgrade</b> a card in your hand. \\n \\n When you <b>Upgrade</b> a card, you may <b>Upgrade</b> it up to two times instead.'}}, 'attack': {}, 'health': {}, 'children_data': {'Oracle': 'CardLibrary.Entity'}}}], 'writeConcernErrors': [], 'nInserted': 0, 'nUpserted': 0, 'nMatched': 0, 'nModified': 0, 'nRemoved': 0, 'upserted': []}",
     "output_type": "error",
     "traceback": [
      "\u001b[0;31m---------------------------------------------------------------------------\u001b[0m",
      "\u001b[0;31mBulkWriteError\u001b[0m                            Traceback (most recent call last)",
      "File \u001b[0;32m~/Documents/Code/GitLab/SolDB/pygui.py:378\u001b[0m, in \u001b[0;36mcreate_interface.<locals>.<lambda>\u001b[0;34m(button)\u001b[0m\n\u001b[1;32m    376\u001b[0m  \u001b[38;5;66;03m# Button to load decks / fusions / forgborns \u001b[39;00m\n\u001b[1;32m    377\u001b[0m  button_load \u001b[38;5;241m=\u001b[39m widgets\u001b[38;5;241m.\u001b[39mButton(description\u001b[38;5;241m=\u001b[39m\u001b[38;5;124m\"\u001b[39m\u001b[38;5;124mLoad\u001b[39m\u001b[38;5;124m\"\u001b[39m )\n\u001b[0;32m--> 378\u001b[0m  button_load\u001b[38;5;241m.\u001b[39mon_click(\u001b[38;5;28;01mlambda\u001b[39;00m button: \u001b[43mbutton_reload\u001b[49m\u001b[43m(\u001b[49m\u001b[43mbutton\u001b[49m\u001b[43m,\u001b[49m\u001b[43m \u001b[49m\u001b[43mloadToggle\u001b[49m\u001b[38;5;241;43m.\u001b[39;49m\u001b[43mvalue\u001b[49m\u001b[43m)\u001b[49m)\n\u001b[1;32m    382\u001b[0m \u001b[38;5;66;03m# Create a list of HBoxes of factionToggles, Labels, and dropdowns\u001b[39;00m\n\u001b[1;32m    383\u001b[0m  toggle_dropdown_pairs \u001b[38;5;241m=\u001b[39m [widgets\u001b[38;5;241m.\u001b[39mHBox([factionToggles[i], dropdowns[i]]) \u001b[38;5;28;01mfor\u001b[39;00m i \u001b[38;5;129;01min\u001b[39;00m \u001b[38;5;28mrange\u001b[39m(\u001b[38;5;28mlen\u001b[39m(factionToggles))]\n",
      "File \u001b[0;32m~/Documents/Code/GitLab/SolDB/pygui.py:173\u001b[0m, in \u001b[0;36mbutton_reload\u001b[0;34m(button, value)\u001b[0m\n\u001b[1;32m    171\u001b[0m     \u001b[38;5;28mprint\u001b[39m(\u001b[38;5;124mf\u001b[39m\u001b[38;5;124m\"\u001b[39m\u001b[38;5;124mLoading Decks with arguments \u001b[39m\u001b[38;5;132;01m{\u001b[39;00marguments\u001b[38;5;132;01m}\u001b[39;00m\u001b[38;5;124m\"\u001b[39m)\n\u001b[1;32m    172\u001b[0m     args \u001b[38;5;241m=\u001b[39m parse_arguments(arguments)\n\u001b[0;32m--> 173\u001b[0m     \u001b[43mload_decks\u001b[49m\u001b[43m(\u001b[49m\u001b[43margs\u001b[49m\u001b[43m)\u001b[49m    \n\u001b[1;32m    174\u001b[0m \u001b[38;5;28;01melif\u001b[39;00m value \u001b[38;5;241m==\u001b[39m \u001b[38;5;124m'\u001b[39m\u001b[38;5;124mFusions\u001b[39m\u001b[38;5;124m'\u001b[39m:\n\u001b[1;32m    175\u001b[0m     arguments \u001b[38;5;241m=\u001b[39m [\u001b[38;5;124m\"\u001b[39m\u001b[38;5;124m--username\u001b[39m\u001b[38;5;124m\"\u001b[39m , GlobalVariables\u001b[38;5;241m.\u001b[39musername, \n\u001b[1;32m    176\u001b[0m                 \u001b[38;5;124m\"\u001b[39m\u001b[38;5;124m--mode\u001b[39m\u001b[38;5;124m\"\u001b[39m, \u001b[38;5;124m'\u001b[39m\u001b[38;5;124mupdate\u001b[39m\u001b[38;5;124m'\u001b[39m,\n\u001b[1;32m    177\u001b[0m                  \u001b[38;5;124m\"\u001b[39m\u001b[38;5;124m--type\u001b[39m\u001b[38;5;124m\"\u001b[39m, \u001b[38;5;124m'\u001b[39m\u001b[38;5;124mfuseddeck\u001b[39m\u001b[38;5;124m'\u001b[39m\n\u001b[1;32m    178\u001b[0m                  ]\n",
      "File \u001b[0;32m~/Documents/Code/GitLab/SolDB/pygui.py:110\u001b[0m, in \u001b[0;36mload_decks\u001b[0;34m(args)\u001b[0m\n\u001b[1;32m    107\u001b[0m \u001b[38;5;28;01melif\u001b[39;00m args\u001b[38;5;241m.\u001b[39mtype \u001b[38;5;241m==\u001b[39m \u001b[38;5;124m'\u001b[39m\u001b[38;5;124mfuseddeck\u001b[39m\u001b[38;5;124m'\u001b[39m: net_fusions \u001b[38;5;241m=\u001b[39m net_results\n\u001b[1;32m    109\u001b[0m col_filter \u001b[38;5;241m=\u001b[39m get_col_filter(args)    \n\u001b[0;32m--> 110\u001b[0m deckCollection \u001b[38;5;241m=\u001b[39m \u001b[43mDeckLibrary\u001b[49m\u001b[43m(\u001b[49m\u001b[43mnet_decks\u001b[49m\u001b[43m,\u001b[49m\u001b[43m \u001b[49m\u001b[43mnet_fusions\u001b[49m\u001b[43m,\u001b[49m\u001b[43m \u001b[49m\u001b[43margs\u001b[49m\u001b[38;5;241;43m.\u001b[39;49m\u001b[43mmode\u001b[49m\u001b[43m)\u001b[49m\n",
      "File \u001b[0;32m~/Documents/Code/GitLab/SolDB/DeckLibrary.py:55\u001b[0m, in \u001b[0;36mDeckLibrary.__init__\u001b[0;34m(self, decks_data, fusions_data, mode)\u001b[0m\n\u001b[1;32m     53\u001b[0m             seen \u001b[38;5;241m=\u001b[39m \u001b[38;5;28mset\u001b[39m()\n\u001b[1;32m     54\u001b[0m             cardDataList \u001b[38;5;241m=\u001b[39m [x \u001b[38;5;28;01mfor\u001b[39;00m x \u001b[38;5;129;01min\u001b[39;00m cardDataList \u001b[38;5;28;01mif\u001b[39;00m \u001b[38;5;129;01mnot\u001b[39;00m (x[\u001b[38;5;124m'\u001b[39m\u001b[38;5;124m_id\u001b[39m\u001b[38;5;124m'\u001b[39m] \u001b[38;5;129;01min\u001b[39;00m seen \u001b[38;5;129;01mor\u001b[39;00m seen\u001b[38;5;241m.\u001b[39madd(x[\u001b[38;5;124m'\u001b[39m\u001b[38;5;124m_id\u001b[39m\u001b[38;5;124m'\u001b[39m]))]                                    \n\u001b[0;32m---> 55\u001b[0m             \u001b[38;5;28;43mself\u001b[39;49m\u001b[38;5;241;43m.\u001b[39;49m\u001b[43mdbmgr\u001b[49m\u001b[38;5;241;43m.\u001b[39;49m\u001b[43minsert_many\u001b[49m\u001b[43m(\u001b[49m\u001b[38;5;124;43m'\u001b[39;49m\u001b[38;5;124;43mCard\u001b[39;49m\u001b[38;5;124;43m'\u001b[39;49m\u001b[43m,\u001b[49m\u001b[43m \u001b[49m\u001b[43mcardDataList\u001b[49m\u001b[43m)\u001b[49m\n\u001b[1;32m     57\u001b[0m \u001b[38;5;28;01mif\u001b[39;00m fusions_data:\n\u001b[1;32m     58\u001b[0m     \u001b[38;5;28;01mwith\u001b[39;00m tqdm(total\u001b[38;5;241m=\u001b[39m\u001b[38;5;28mlen\u001b[39m(fusions_data), desc\u001b[38;5;241m=\u001b[39m\u001b[38;5;124m\"\u001b[39m\u001b[38;5;124mSaving Fusions\u001b[39m\u001b[38;5;124m\"\u001b[39m,mininterval\u001b[38;5;241m=\u001b[39m\u001b[38;5;241m0.1\u001b[39m, colour\u001b[38;5;241m=\u001b[39m\u001b[38;5;124m'\u001b[39m\u001b[38;5;124mYELLOW\u001b[39m\u001b[38;5;124m'\u001b[39m) \u001b[38;5;28;01mas\u001b[39;00m pbar:\n",
      "File \u001b[0;32m~/Documents/Code/GitLab/SolDB/MongoDB/MongoDB.py:40\u001b[0m, in \u001b[0;36mMongoDB.insert_many\u001b[0;34m(self, collection_name, data)\u001b[0m\n\u001b[1;32m     33\u001b[0m collection \u001b[38;5;241m=\u001b[39m \u001b[38;5;28mself\u001b[39m\u001b[38;5;241m.\u001b[39mget_collection(collection_name)\n\u001b[1;32m     34\u001b[0m \u001b[38;5;66;03m#new_data = []\u001b[39;00m\n\u001b[1;32m     35\u001b[0m \u001b[38;5;66;03m#existing_ids = [doc['_id'] for doc in collection.find({}, {'_id': 1})]\u001b[39;00m\n\u001b[1;32m     36\u001b[0m \u001b[38;5;66;03m#for doc in data:\u001b[39;00m\n\u001b[1;32m     37\u001b[0m \u001b[38;5;66;03m#    if '_id' in doc and doc['_id'] not in existing_ids:\u001b[39;00m\n\u001b[1;32m     38\u001b[0m \u001b[38;5;66;03m#        new_data.append(doc)\u001b[39;00m\n\u001b[1;32m     39\u001b[0m \u001b[38;5;66;03m#if new_data:\u001b[39;00m\n\u001b[0;32m---> 40\u001b[0m \u001b[38;5;28;01mreturn\u001b[39;00m \u001b[43mcollection\u001b[49m\u001b[38;5;241;43m.\u001b[39;49m\u001b[43minsert_many\u001b[49m\u001b[43m(\u001b[49m\u001b[43mdata\u001b[49m\u001b[43m)\u001b[49m\u001b[38;5;241m.\u001b[39minserted_ids\n",
      "File \u001b[0;32m~/Documents/Code/GitLab/SolDB/myenv/lib/python3.11/site-packages/pymongo/_csot.py:107\u001b[0m, in \u001b[0;36mapply.<locals>.csot_wrapper\u001b[0;34m(self, *args, **kwargs)\u001b[0m\n\u001b[1;32m    105\u001b[0m         \u001b[38;5;28;01mwith\u001b[39;00m _TimeoutContext(timeout):\n\u001b[1;32m    106\u001b[0m             \u001b[38;5;28;01mreturn\u001b[39;00m func(\u001b[38;5;28mself\u001b[39m, \u001b[38;5;241m*\u001b[39margs, \u001b[38;5;241m*\u001b[39m\u001b[38;5;241m*\u001b[39mkwargs)\n\u001b[0;32m--> 107\u001b[0m \u001b[38;5;28;01mreturn\u001b[39;00m \u001b[43mfunc\u001b[49m\u001b[43m(\u001b[49m\u001b[38;5;28;43mself\u001b[39;49m\u001b[43m,\u001b[49m\u001b[43m \u001b[49m\u001b[38;5;241;43m*\u001b[39;49m\u001b[43margs\u001b[49m\u001b[43m,\u001b[49m\u001b[43m \u001b[49m\u001b[38;5;241;43m*\u001b[39;49m\u001b[38;5;241;43m*\u001b[39;49m\u001b[43mkwargs\u001b[49m\u001b[43m)\u001b[49m\n",
      "File \u001b[0;32m~/Documents/Code/GitLab/SolDB/myenv/lib/python3.11/site-packages/pymongo/collection.py:755\u001b[0m, in \u001b[0;36mCollection.insert_many\u001b[0;34m(self, documents, ordered, bypass_document_validation, session, comment)\u001b[0m\n\u001b[1;32m    753\u001b[0m blk \u001b[38;5;241m=\u001b[39m _Bulk(\u001b[38;5;28mself\u001b[39m, ordered, bypass_document_validation, comment\u001b[38;5;241m=\u001b[39mcomment)\n\u001b[1;32m    754\u001b[0m blk\u001b[38;5;241m.\u001b[39mops \u001b[38;5;241m=\u001b[39m \u001b[38;5;28mlist\u001b[39m(gen())\n\u001b[0;32m--> 755\u001b[0m \u001b[43mblk\u001b[49m\u001b[38;5;241;43m.\u001b[39;49m\u001b[43mexecute\u001b[49m\u001b[43m(\u001b[49m\u001b[43mwrite_concern\u001b[49m\u001b[43m,\u001b[49m\u001b[43m \u001b[49m\u001b[43msession\u001b[49m\u001b[38;5;241;43m=\u001b[39;49m\u001b[43msession\u001b[49m\u001b[43m)\u001b[49m\n\u001b[1;32m    756\u001b[0m \u001b[38;5;28;01mreturn\u001b[39;00m InsertManyResult(inserted_ids, write_concern\u001b[38;5;241m.\u001b[39macknowledged)\n",
      "File \u001b[0;32m~/Documents/Code/GitLab/SolDB/myenv/lib/python3.11/site-packages/pymongo/bulk.py:576\u001b[0m, in \u001b[0;36m_Bulk.execute\u001b[0;34m(self, write_concern, session)\u001b[0m\n\u001b[1;32m    574\u001b[0m         \u001b[38;5;28;01mreturn\u001b[39;00m \u001b[38;5;28;01mNone\u001b[39;00m\n\u001b[1;32m    575\u001b[0m \u001b[38;5;28;01melse\u001b[39;00m:\n\u001b[0;32m--> 576\u001b[0m     \u001b[38;5;28;01mreturn\u001b[39;00m \u001b[38;5;28;43mself\u001b[39;49m\u001b[38;5;241;43m.\u001b[39;49m\u001b[43mexecute_command\u001b[49m\u001b[43m(\u001b[49m\u001b[43mgenerator\u001b[49m\u001b[43m,\u001b[49m\u001b[43m \u001b[49m\u001b[43mwrite_concern\u001b[49m\u001b[43m,\u001b[49m\u001b[43m \u001b[49m\u001b[43msession\u001b[49m\u001b[43m)\u001b[49m\n",
      "File \u001b[0;32m~/Documents/Code/GitLab/SolDB/myenv/lib/python3.11/site-packages/pymongo/bulk.py:446\u001b[0m, in \u001b[0;36m_Bulk.execute_command\u001b[0;34m(self, generator, write_concern, session)\u001b[0m\n\u001b[1;32m    443\u001b[0m client\u001b[38;5;241m.\u001b[39m_retryable_write(\u001b[38;5;28mself\u001b[39m\u001b[38;5;241m.\u001b[39mis_retryable, retryable_bulk, session, bulk\u001b[38;5;241m=\u001b[39m\u001b[38;5;28mself\u001b[39m)\n\u001b[1;32m    445\u001b[0m \u001b[38;5;28;01mif\u001b[39;00m full_result[\u001b[38;5;124m\"\u001b[39m\u001b[38;5;124mwriteErrors\u001b[39m\u001b[38;5;124m\"\u001b[39m] \u001b[38;5;129;01mor\u001b[39;00m full_result[\u001b[38;5;124m\"\u001b[39m\u001b[38;5;124mwriteConcernErrors\u001b[39m\u001b[38;5;124m\"\u001b[39m]:\n\u001b[0;32m--> 446\u001b[0m     \u001b[43m_raise_bulk_write_error\u001b[49m\u001b[43m(\u001b[49m\u001b[43mfull_result\u001b[49m\u001b[43m)\u001b[49m\n\u001b[1;32m    447\u001b[0m \u001b[38;5;28;01mreturn\u001b[39;00m full_result\n",
      "File \u001b[0;32m~/Documents/Code/GitLab/SolDB/myenv/lib/python3.11/site-packages/pymongo/bulk.py:157\u001b[0m, in \u001b[0;36m_raise_bulk_write_error\u001b[0;34m(full_result)\u001b[0m\n\u001b[1;32m    155\u001b[0m \u001b[38;5;28;01mif\u001b[39;00m full_result[\u001b[38;5;124m\"\u001b[39m\u001b[38;5;124mwriteErrors\u001b[39m\u001b[38;5;124m\"\u001b[39m]:\n\u001b[1;32m    156\u001b[0m     full_result[\u001b[38;5;124m\"\u001b[39m\u001b[38;5;124mwriteErrors\u001b[39m\u001b[38;5;124m\"\u001b[39m]\u001b[38;5;241m.\u001b[39msort(key\u001b[38;5;241m=\u001b[39m\u001b[38;5;28;01mlambda\u001b[39;00m error: error[\u001b[38;5;124m\"\u001b[39m\u001b[38;5;124mindex\u001b[39m\u001b[38;5;124m\"\u001b[39m])\n\u001b[0;32m--> 157\u001b[0m \u001b[38;5;28;01mraise\u001b[39;00m BulkWriteError(full_result)\n",
      "\u001b[0;31mBulkWriteError\u001b[0m: batch op errors occurred, full error: {'writeErrors': [{'index': 0, 'code': 11000, 'errmsg': 'E11000 duplicate key error collection: tmind.Card index: _id_ dup key: { _id: \"s1aa1aetherforge-oracle\" }', 'keyPattern': {'_id': 1}, 'keyValue': {'_id': 's1aa1aetherforge-oracle'}, 'op': {'name': 'Aetherforge Oracle', 'title': 'Aetherforge Oracle', 'faction': '', 'cardType': 'Creature', 'cardSubType': 'Mage', 'betrayer': False, 'sortValue': '', 'crossFaction': '', 'cardSetId': '', '_id': 's1aa1aetherforge-oracle', 'rarity': 'Common', 'levels': {'1': {'health': 5, 'attack': 3, 'text': '<b>Deploy:</b> <b>Upgrade</b> a card in your hand, then discard it.'}, '2': {'health': 10, 'attack': 6, 'text': '<b>Deploy:</b> <b>Upgrade</b> a card in your hand, then discard it.'}, '3': {'health': 13, 'attack': 9, 'text': '<b>Deploy:</b> <b>Upgrade</b> a card in your hand. \\n \\n When you <b>Upgrade</b> a card, you may <b>Upgrade</b> it up to two times instead.'}}, 'attack': {}, 'health': {}, 'children_data': {'Oracle': 'CardLibrary.Entity'}}}], 'writeConcernErrors': [], 'nInserted': 0, 'nUpserted': 0, 'nMatched': 0, 'nModified': 0, 'nRemoved': 0, 'upserted': []}"
     ]
    }
   ],
   "source": [
    "import pygui as pgui\n",
    "pgui.create_interface()\n",
    "\n",
    "\n",
    "# Example usage:\n",
    "\n",
    "        # F =>  String: Faction                  'Alloyn'              F=Alloyn\n",
    "        # D =>  String: Deckname                 'Insane'              D~Forge\n",
    "        # FB => String: Forgeborn               'Ironbeard'            FB=Ironbeard\n",
    "        # C  => List:   Cardnames               'Digitize'             C~Digitize\n",
    "        # A  => List:   Forgeborn - Ability     'Army Commander'       A~'Army Commander'\n",
    "        # K  => Dict:   Composition             'Robot'                K:Robot > 3"
   ]
  },
  {
   "cell_type": "code",
   "execution_count": 11,
   "metadata": {},
   "outputs": [
    {
     "name": "stderr",
     "output_type": "stream",
     "text": [
      "Traceback (most recent call last):\n",
      "  File \"_pydevd_bundle/pydevd_cython.pyx\", line 577, in _pydevd_bundle.pydevd_cython.PyDBFrame._handle_exception\n",
      "  File \"_pydevd_bundle/pydevd_cython.pyx\", line 312, in _pydevd_bundle.pydevd_cython.PyDBFrame.do_wait_suspend\n",
      "  File \"/Users/tmind/Documents/Code/GitLab/SolDB/myenv/lib/python3.11/site-packages/debugpy/_vendored/pydevd/pydevd.py\", line 2070, in do_wait_suspend\n",
      "    keep_suspended = self._do_wait_suspend(thread, frame, event, arg, suspend_type, from_this_thread, frames_tracker)\n",
      "                     ^^^^^^^^^^^^^^^^^^^^^^^^^^^^^^^^^^^^^^^^^^^^^^^^^^^^^^^^^^^^^^^^^^^^^^^^^^^^^^^^^^^^^^^^^^^^^^^^\n",
      "  File \"/Users/tmind/Documents/Code/GitLab/SolDB/myenv/lib/python3.11/site-packages/debugpy/_vendored/pydevd/pydevd.py\", line 2106, in _do_wait_suspend\n",
      "    time.sleep(0.01)\n",
      "KeyboardInterrupt\n"
     ]
    },
    {
     "ename": "InvalidIndexError",
     "evalue": "Reindexing only valid with uniquely valued Index objects",
     "output_type": "error",
     "traceback": [
      "\u001b[0;31m---------------------------------------------------------------------------\u001b[0m",
      "\u001b[0;31mInvalidIndexError\u001b[0m                         Traceback (most recent call last)",
      "Cell \u001b[0;32mIn[11], line 55\u001b[0m\n\u001b[1;32m     52\u001b[0m         df_decks_filtered\u001b[38;5;241m.\u001b[39mset_index(\u001b[38;5;124m'\u001b[39m\u001b[38;5;124mname\u001b[39m\u001b[38;5;124m'\u001b[39m, inplace\u001b[38;5;241m=\u001b[39m\u001b[38;5;28;01mTrue\u001b[39;00m)\n\u001b[1;32m     54\u001b[0m         \u001b[38;5;66;03m# Merge the deck_stats_df with the deck_df_filtered\u001b[39;00m\n\u001b[0;32m---> 55\u001b[0m         merged_df \u001b[38;5;241m=\u001b[39m \u001b[43mpd\u001b[49m\u001b[38;5;241;43m.\u001b[39;49m\u001b[43mconcat\u001b[49m\u001b[43m(\u001b[49m\u001b[43m[\u001b[49m\u001b[43mdf_decks_filtered\u001b[49m\u001b[43m,\u001b[49m\u001b[43m \u001b[49m\u001b[43mdeck_stats_df\u001b[49m\u001b[43m]\u001b[49m\u001b[43m,\u001b[49m\u001b[43m \u001b[49m\u001b[43maxis\u001b[49m\u001b[38;5;241;43m=\u001b[39;49m\u001b[38;5;241;43m1\u001b[39;49m\u001b[43m)\u001b[49m        \n\u001b[1;32m     56\u001b[0m         display(merged_df)\n\u001b[1;32m     60\u001b[0m qgrid_df_DeckStats \u001b[38;5;241m=\u001b[39m qgrid\u001b[38;5;241m.\u001b[39mshow_grid(df_decks_stats, show_toolbar\u001b[38;5;241m=\u001b[39m\u001b[38;5;28;01mTrue\u001b[39;00m)            \n",
      "File \u001b[0;32m~/Documents/Code/GitLab/SolDB/myenv/lib/python3.11/site-packages/pandas/core/reshape/concat.py:395\u001b[0m, in \u001b[0;36mconcat\u001b[0;34m(objs, axis, join, ignore_index, keys, levels, names, verify_integrity, sort, copy)\u001b[0m\n\u001b[1;32m    380\u001b[0m     copy \u001b[38;5;241m=\u001b[39m \u001b[38;5;28;01mFalse\u001b[39;00m\n\u001b[1;32m    382\u001b[0m op \u001b[38;5;241m=\u001b[39m _Concatenator(\n\u001b[1;32m    383\u001b[0m     objs,\n\u001b[1;32m    384\u001b[0m     axis\u001b[38;5;241m=\u001b[39maxis,\n\u001b[0;32m   (...)\u001b[0m\n\u001b[1;32m    392\u001b[0m     sort\u001b[38;5;241m=\u001b[39msort,\n\u001b[1;32m    393\u001b[0m )\n\u001b[0;32m--> 395\u001b[0m \u001b[38;5;28;01mreturn\u001b[39;00m \u001b[43mop\u001b[49m\u001b[38;5;241;43m.\u001b[39;49m\u001b[43mget_result\u001b[49m\u001b[43m(\u001b[49m\u001b[43m)\u001b[49m\n",
      "File \u001b[0;32m~/Documents/Code/GitLab/SolDB/myenv/lib/python3.11/site-packages/pandas/core/reshape/concat.py:680\u001b[0m, in \u001b[0;36m_Concatenator.get_result\u001b[0;34m(self)\u001b[0m\n\u001b[1;32m    678\u001b[0m         obj_labels \u001b[38;5;241m=\u001b[39m obj\u001b[38;5;241m.\u001b[39maxes[\u001b[38;5;241m1\u001b[39m \u001b[38;5;241m-\u001b[39m ax]\n\u001b[1;32m    679\u001b[0m         \u001b[38;5;28;01mif\u001b[39;00m \u001b[38;5;129;01mnot\u001b[39;00m new_labels\u001b[38;5;241m.\u001b[39mequals(obj_labels):\n\u001b[0;32m--> 680\u001b[0m             indexers[ax] \u001b[38;5;241m=\u001b[39m \u001b[43mobj_labels\u001b[49m\u001b[38;5;241;43m.\u001b[39;49m\u001b[43mget_indexer\u001b[49m\u001b[43m(\u001b[49m\u001b[43mnew_labels\u001b[49m\u001b[43m)\u001b[49m\n\u001b[1;32m    682\u001b[0m     mgrs_indexers\u001b[38;5;241m.\u001b[39mappend((obj\u001b[38;5;241m.\u001b[39m_mgr, indexers))\n\u001b[1;32m    684\u001b[0m new_data \u001b[38;5;241m=\u001b[39m concatenate_managers(\n\u001b[1;32m    685\u001b[0m     mgrs_indexers, \u001b[38;5;28mself\u001b[39m\u001b[38;5;241m.\u001b[39mnew_axes, concat_axis\u001b[38;5;241m=\u001b[39m\u001b[38;5;28mself\u001b[39m\u001b[38;5;241m.\u001b[39mbm_axis, copy\u001b[38;5;241m=\u001b[39m\u001b[38;5;28mself\u001b[39m\u001b[38;5;241m.\u001b[39mcopy\n\u001b[1;32m    686\u001b[0m )\n",
      "File \u001b[0;32m~/Documents/Code/GitLab/SolDB/myenv/lib/python3.11/site-packages/pandas/core/indexes/base.py:3885\u001b[0m, in \u001b[0;36mIndex.get_indexer\u001b[0;34m(self, target, method, limit, tolerance)\u001b[0m\n\u001b[1;32m   3882\u001b[0m \u001b[38;5;28mself\u001b[39m\u001b[38;5;241m.\u001b[39m_check_indexing_method(method, limit, tolerance)\n\u001b[1;32m   3884\u001b[0m \u001b[38;5;28;01mif\u001b[39;00m \u001b[38;5;129;01mnot\u001b[39;00m \u001b[38;5;28mself\u001b[39m\u001b[38;5;241m.\u001b[39m_index_as_unique:\n\u001b[0;32m-> 3885\u001b[0m     \u001b[38;5;28;01mraise\u001b[39;00m InvalidIndexError(\u001b[38;5;28mself\u001b[39m\u001b[38;5;241m.\u001b[39m_requires_unique_msg)\n\u001b[1;32m   3887\u001b[0m \u001b[38;5;28;01mif\u001b[39;00m \u001b[38;5;28mlen\u001b[39m(target) \u001b[38;5;241m==\u001b[39m \u001b[38;5;241m0\u001b[39m:\n\u001b[1;32m   3888\u001b[0m     \u001b[38;5;28;01mreturn\u001b[39;00m np\u001b[38;5;241m.\u001b[39marray([], dtype\u001b[38;5;241m=\u001b[39mnp\u001b[38;5;241m.\u001b[39mintp)\n",
      "\u001b[0;31mInvalidIndexError\u001b[0m: Reindexing only valid with uniquely valued Index objects"
     ]
    }
   ],
   "source": [
    "import pygui as pgui\n",
    "import pandas as pd\n",
    "import qgrid\n",
    "from IPython.display import display\n",
    "from MongoDB.DatabaseManager import DatabaseManager\n",
    "import GlobalVariables\n",
    "from icecream import ic\n",
    "\n",
    "df = pgui.collection_to_df('Deck')\n",
    "\n",
    "GlobalVariables.username = 'tmind'\n",
    "myDB = DatabaseManager(GlobalVariables.username)\n",
    "db_name = myDB.get_current_db_name()\n",
    "\n",
    "# Get all Decks from the database\n",
    "deck_cursor = myDB.find('Deck', {})\n",
    "df_decks = pd.DataFrame(list(deck_cursor))\n",
    "\n",
    "# Create a DataFrame from the 'stats' sub-dictionary\n",
    "df_decks_stats = pd.DataFrame()\n",
    "for deck in myDB.find('Deck', {}):\n",
    "    if 'stats' in deck:\n",
    "\n",
    "\n",
    "        stats = deck.get('stats', {})\n",
    "        # Convert the 'card_types' sub-dictionary into a DataFrame\n",
    "        card_types_df = pd.DataFrame.from_dict(stats['card_types'], orient='index')\n",
    "        creature_averages_df = pd.DataFrame.from_dict(stats['creature_averages'], orient='index')\n",
    "           \n",
    "        # Flatten the 'creature_averages' sub-dictionaries into a single-row DataFrame\n",
    "        # Convert the dictionary into a DataFrame\n",
    "        attack_dict = stats['creature_averages']['attack']\n",
    "        attack_df = pd.DataFrame([attack_dict], columns=attack_dict.keys())\n",
    "        attack_df.columns = ['A1', 'A2', 'A3']\n",
    "\n",
    "        defense_dict = stats['creature_averages']['health']\n",
    "        defense_df = pd.DataFrame([defense_dict], columns=defense_dict.keys())\n",
    "        defense_df.columns = ['H1', 'H2', 'H3']\n",
    "\n",
    "        # Combine the attack and defense DataFrames into a single DataFrame\n",
    "        deck_stats_df = pd.concat([attack_df, defense_df], axis=1)\n",
    "        deck_stats_df['name'] = deck['name']\n",
    "\n",
    "        # Round each value in the DataFrame\n",
    "        deck_stats_df = deck_stats_df.round(2)\n",
    "                        \n",
    "        # Extend record in df_decks with the deck_stats_df \n",
    "        df_decks_filtered = df_decks[[ 'registeredDate', 'name', 'cardSetName', 'faction', 'forgebornId']]\n",
    "        \n",
    "        # Set the common column as the index in both dataframes\n",
    "        deck_stats_df.set_index('name', inplace=True)\n",
    "        df_decks_filtered.set_index('name', inplace=True)\n",
    "\n",
    "        # Merge the deck_stats_df with the deck_df_filtered\n",
    "        merged_df = pd.concat([df_decks_filtered, deck_stats_df], axis=1)        \n",
    "        display(merged_df)\n",
    "        \n",
    "        \n",
    "\n",
    "qgrid_df_DeckStats = qgrid.show_grid(df_decks_stats, show_toolbar=True)            \n",
    "display(qgrid_df_DeckStats)\n",
    "\n",
    "\n",
    "# Merge the filtered dataframe with the deck stats dataframe\n",
    "merged_df = df_filtered.merge(df_decks_stats, left_index=True, right_index=True)\n",
    "qgrid_df = qgrid.show_grid(df_filtered, show_toolbar=True)            \n",
    "display(qgrid_df)"
   ]
  },
  {
   "cell_type": "code",
   "execution_count": null,
   "metadata": {},
   "outputs": [],
   "source": [
    "# Create dataframe from Deck \n",
    "deck_df = pd.DataFrame({k: pd.Series(v) for k, v in deck.items()})"
   ]
  }
 ],
 "metadata": {
  "kernelspec": {
   "display_name": "Python 3 (ipykernel)",
   "language": "python",
   "name": "python3"
  },
  "language_info": {
   "codemirror_mode": {
    "name": "ipython",
    "version": 3
   },
   "file_extension": ".py",
   "mimetype": "text/x-python",
   "name": "python",
   "nbconvert_exporter": "python",
   "pygments_lexer": "ipython3",
   "version": "3.11.6"
  }
 },
 "nbformat": 4,
 "nbformat_minor": 4
}
