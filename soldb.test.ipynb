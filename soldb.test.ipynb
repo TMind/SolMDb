{
 "cells": [
  {
   "cell_type": "code",
   "execution_count": null,
   "metadata": {},
   "outputs": [],
   "source": [
    "from GlobalVariables import global_vars as gv\n",
    "import pygui as pgui\n",
    "import pandas as pd\n",
    "pgui.setup_interface()\n",
    "pgui.db_list.value = 'tmind'\n",
    "event = {'name': 'row_added', 'index': 1, 'source': 'gui'}\n",
    "\n",
    "# Make a new fow for the existing dataframe\n",
    "df = pgui.grid_manager.filterGridObject.qgrid_filter.get_changed_df()\n",
    "pgui.grid_manager.filterGridObject.selection_widgets['Data Set'].value = 'Multi Index'\n",
    "pgui.grid_manager.filterGridObject.selection_widgets['Creature'].value = ['Necromancer']\n",
    "\n",
    "new_row = pd.DataFrame({\n",
    "            'Modifier': [''],\n",
    "            'op1': [''],\n",
    "            'Creature': [''],\n",
    "            'op2': [''],\n",
    "            'Spell': ['River Of Souls'],\n",
    "            'Data Set': ['Multi Index'],\n",
    "            'Active': [False]\n",
    "        })\n",
    "new_df = pd.concat([df, new_row], ignore_index=True)\n",
    "pgui.grid_manager.filterGridObject.qgrid_filter.df = new_df\n",
    "pgui.grid_manager.filterGridObject.grid_filter_on_row_added(event, pgui.grid_manager.filterGridObject.qgrid_filter)"
   ]
  },
  {
   "cell_type": "code",
   "execution_count": 1,
   "metadata": {},
   "outputs": [
    {
     "data": {
      "text/html": [
       "\n",
       "<style>\n",
       "/* Customizes the scrollbar within qgrid */\n",
       ".q-grid ::-webkit-scrollbar {\n",
       "    width: 5px;  /* Smaller width for vertical scrollbar */\n",
       "    height: 5px; /* Smaller height for horizontal scrollbar */\n",
       "}\n",
       "\n",
       ".q-grid ::-webkit-scrollbar-track {\n",
       "    border-radius: 10px;\n",
       "    background: rgba(0,0,0,0.1); /* Light background for the track */\n",
       "}\n",
       "\n",
       ".q-grid ::-webkit-scrollbar-thumb {\n",
       "    border-radius: 10px;\n",
       "    background: rgba(128,128,128,0.8); /* Lighter gray color for the thumb */\n",
       "}\n",
       "\n",
       ".q-grid ::-webkit-scrollbar-thumb:hover {\n",
       "    background: rgba(90,90,90,0.8); /* Slightly darker gray on hover */\n",
       "}\n",
       "</style>\n"
      ],
      "text/plain": [
       "<IPython.core.display.HTML object>"
      ]
     },
     "metadata": {},
     "output_type": "display_data"
    },
    {
     "data": {
      "application/vnd.jupyter.widget-view+json": {
       "model_id": "0aeb28bf38b5474092879c9e6f1be4fc",
       "version_major": 2,
       "version_minor": 0
      },
      "text/plain": [
       "Tab(children=(VBox(children=(ToggleButtons(button_style='warning', description='Action:', options=('Load Decks…"
      ]
     },
     "metadata": {},
     "output_type": "display_data"
    },
    {
     "data": {
      "application/vnd.jupyter.widget-view+json": {
       "model_id": "b9c43cf073874ec6980ac3c03254cbde",
       "version_major": 2,
       "version_minor": 0
      },
      "text/plain": [
       "HBox(children=(IntProgress(value=0, bar_style='info', description='Main DataFrame: strudel', layout=Layout(wid…"
      ]
     },
     "metadata": {},
     "output_type": "display_data"
    },
    {
     "data": {
      "application/vnd.jupyter.widget-view+json": {
       "model_id": "9625da1cf5514de4b648a1d9b5b0ea0f",
       "version_major": 2,
       "version_minor": 0
      },
      "text/plain": [
       "HBox(children=(IntProgress(value=0, bar_style='info', description='Forgeborn Data', layout=Layout(width='25%')…"
      ]
     },
     "metadata": {},
     "output_type": "display_data"
    },
    {
     "data": {
      "application/vnd.jupyter.widget-view+json": {
       "model_id": "2cf61a87153447678b14b4eaedcbc782",
       "version_major": 2,
       "version_minor": 0
      },
      "text/plain": [
       "HBox(children=(IntProgress(value=0, bar_style='info', description='Stats Data', layout=Layout(width='25%'), st…"
      ]
     },
     "metadata": {},
     "output_type": "display_data"
    },
    {
     "data": {
      "application/vnd.jupyter.widget-view+json": {
       "model_id": "6d439eb839cd4ea9a3ccc0fa3739f7b1",
       "version_major": 2,
       "version_minor": 0
      },
      "text/plain": [
       "HBox(children=(IntProgress(value=0, bar_style='info', description='CardType Count Data', layout=Layout(width='…"
      ]
     },
     "metadata": {},
     "output_type": "display_data"
    },
    {
     "data": {
      "application/vnd.jupyter.widget-view+json": {
       "model_id": "2376781a0f31441e9e6acbb269b609b2",
       "version_major": 2,
       "version_minor": 0
      },
      "text/plain": [
       "HBox(children=(IntProgress(value=0, bar_style='info', description='Fusion Card Titles', layout=Layout(width='2…"
      ]
     },
     "metadata": {},
     "output_type": "display_data"
    },
    {
     "data": {
      "application/vnd.jupyter.widget-view+json": {
       "model_id": "7ef6ef38b3b949e3a2f5ff2cbf17d9bf",
       "version_major": 2,
       "version_minor": 0
      },
      "text/plain": [
       "HBox(children=(IntProgress(value=0, bar_style='info', description='Fusion Stats', layout=Layout(width='25%'), …"
      ]
     },
     "metadata": {},
     "output_type": "display_data"
    },
    {
     "name": "stdout",
     "output_type": "stream",
     "text": [
      "DataFrame: Interface IDs Total DF\n",
      "Shape: (234, 0)\n",
      "Index(['The Hags of the Damning Ire_The Hairbrained Guides',\n",
      "       'The Spies of Blood and Brimstone_The Hairbrained Guides',\n",
      "       'The Corps of the Legend_The Hairbrained Guides',\n",
      "       'The Steely-Thewed Thorniness Druids_The Hairbrained Guides',\n",
      "       'The Ferrous Bold Detachment_The Corps of the Legend',\n",
      "       'The Corps of the Legend_The Thespian Mumbling Team',\n",
      "       'Cartographers of Anger and Theory_The Corps of the Legend',\n",
      "       'The Corps of the Legend_Alloyin Starter',\n",
      "       'The Corps of the Legend_The Strapping Echo Bureaucrats',\n",
      "       'The Grating Rinsing Strength Lords_The Hags of the Damning Ire',\n",
      "       ...\n",
      "       'The Spiky Sympathizing Bulls_The Thespian Mumbling Team',\n",
      "       'Cartographers of Anger and Theory_The Thespian Mumbling Team',\n",
      "       'The Thespian Mumbling Team_The Herd Dinorider Bears',\n",
      "       'Alloyin Starter_The Thespian Mumbling Team',\n",
      "       'The Polishing North Group_The Thespian Mumbling Team',\n",
      "       'The Experts of Pointing_The Thespian Mumbling Team',\n",
      "       'Uterra Starter_The Thespian Mumbling Team',\n",
      "       'Cartographers of Anger and Theory_The Spiky Sympathizing Bulls',\n",
      "       'The Spiky Sympathizing Bulls_Cartographers of Anger and Theory',\n",
      "       'Cartographers of Anger and Theory_The Herd Dinorider Bears'],\n",
      "      dtype='object', length=234)\n"
     ]
    },
    {
     "data": {
      "application/vnd.jupyter.widget-view+json": {
       "model_id": "80261a345a65426490cbd3e3cea7d2a5",
       "version_major": 2,
       "version_minor": 0
      },
      "text/plain": [
       "QgridWidget(grid_options={'fullWidthRows': True, 'syncColumnCellResize': True, 'forceFitColumns': True, 'defau…"
      ]
     },
     "metadata": {},
     "output_type": "display_data"
    },
    {
     "name": "stdout",
     "output_type": "stream",
     "text": [
      "DataFrame: Fusion Stats DF\n",
      "Shape: (468, 19)\n",
      "Index([                                                               0,\n",
      "                                                                      1,\n",
      "                                                                      2,\n",
      "                                                                      3,\n",
      "                                                                      4,\n",
      "                                                                      5,\n",
      "                                                                      6,\n",
      "                                                                      7,\n",
      "                                                                      8,\n",
      "                                                                      9,\n",
      "       ...\n",
      "              'The Spiky Sympathizing Bulls_The Thespian Mumbling Team',\n",
      "         'Cartographers of Anger and Theory_The Thespian Mumbling Team',\n",
      "                  'The Thespian Mumbling Team_The Herd Dinorider Bears',\n",
      "                           'Alloyin Starter_The Thespian Mumbling Team',\n",
      "                 'The Polishing North Group_The Thespian Mumbling Team',\n",
      "                   'The Experts of Pointing_The Thespian Mumbling Team',\n",
      "                            'Uterra Starter_The Thespian Mumbling Team',\n",
      "       'Cartographers of Anger and Theory_The Spiky Sympathizing Bulls',\n",
      "       'The Spiky Sympathizing Bulls_Cartographers of Anger and Theory',\n",
      "           'Cartographers of Anger and Theory_The Herd Dinorider Bears'],\n",
      "      dtype='object', length=468)\n"
     ]
    },
    {
     "data": {
      "application/vnd.jupyter.widget-view+json": {
       "model_id": "74227ae09bbe405a9ae224cf7da8fb64",
       "version_major": 2,
       "version_minor": 0
      },
      "text/plain": [
       "QgridWidget(grid_options={'fullWidthRows': True, 'syncColumnCellResize': True, 'forceFitColumns': True, 'defau…"
      ]
     },
     "metadata": {},
     "output_type": "display_data"
    },
    {
     "name": "stdout",
     "output_type": "stream",
     "text": [
      "DataFrame: Fusion Stats\n",
      "Shape: (468, 19)\n",
      "Index([                                                               0,\n",
      "                                                                      1,\n",
      "                                                                      2,\n",
      "                                                                      3,\n",
      "                                                                      4,\n",
      "                                                                      5,\n",
      "                                                                      6,\n",
      "                                                                      7,\n",
      "                                                                      8,\n",
      "                                                                      9,\n",
      "       ...\n",
      "              'The Spiky Sympathizing Bulls_The Thespian Mumbling Team',\n",
      "         'Cartographers of Anger and Theory_The Thespian Mumbling Team',\n",
      "                  'The Thespian Mumbling Team_The Herd Dinorider Bears',\n",
      "                           'Alloyin Starter_The Thespian Mumbling Team',\n",
      "                 'The Polishing North Group_The Thespian Mumbling Team',\n",
      "                   'The Experts of Pointing_The Thespian Mumbling Team',\n",
      "                            'Uterra Starter_The Thespian Mumbling Team',\n",
      "       'Cartographers of Anger and Theory_The Spiky Sympathizing Bulls',\n",
      "       'The Spiky Sympathizing Bulls_Cartographers of Anger and Theory',\n",
      "           'Cartographers of Anger and Theory_The Herd Dinorider Bears'],\n",
      "      dtype='object', length=468)\n"
     ]
    },
    {
     "data": {
      "application/vnd.jupyter.widget-view+json": {
       "model_id": "a1525662ee2b4150aae66a2668be206b",
       "version_major": 2,
       "version_minor": 0
      },
      "text/plain": [
       "QgridWidget(grid_options={'fullWidthRows': True, 'syncColumnCellResize': True, 'forceFitColumns': True, 'defau…"
      ]
     },
     "metadata": {},
     "output_type": "display_data"
    }
   ],
   "source": [
    "import pygui as pgui\n",
    "pgui.setup_interface()\n",
    "pgui.username_widget.value = 'strudel'\n",
    "#change = {'name': 'value', 'old': '', 'new': 'tmind'}\n",
    "#pgui.reload_data_on_click(None,'Load Decks/Fusions')\n",
    "pgui.reload_data_on_click(None,'Create all Fusions')\n",
    "#pgui.reload_data_on_click(None,'Generate Dataframe')\n",
    "#pgui.db_list.value = 'tmind'\n",
    "#pgui.handle_db_list_change(change)\n",
    "\n",
    "#GridManager.get_forgeborn_abilities()\n",
    "\n",
    "#event = {'name': 'row_added', 'index': 1, 'source': 'gui'}\n",
    "#pgui.grid_manager.filterGridObject.grid_filter_on_row_added(event, pgui.grid_manager.filterGridObject.qgrid_filter)\n",
    "#pgui.reload_data_on_click(None,'Decks')\n",
    "if False:\n",
    "    #pgui.db_list.value = 'tmind'\n",
    "    #event = {'name': 'selection_changed', 'old': [], 'new': [1], 'source': 'gui'}\n",
    "\n",
    "    event = {'name': 'cell edited', 'index': 0, 'column': 'Active', 'new': False, 'source': 'filter'}\n",
    "    pgui.grid_manager.filterGridObject.grid_filter_on_cell_edit(event,pgui.grid_manager.filterGridObject.qgrid_filter)\n",
    "    #collection_grid = pgui.qm.grids.get('collection')\n",
    "    #df = pgui.generate_deck_content_dataframe(event, collection_grid.main_widget)\n",
    "    #df = pgui.generate_deck_statistics_dataframe()"
   ]
  },
  {
   "cell_type": "code",
   "execution_count": null,
   "metadata": {},
   "outputs": [],
   "source": [
    "# Test creation of fusions \n",
    "\n",
    "import pygui as pgui\n",
    "pgui.setup_interface()\n",
    "pgui.db_list.value = 'tmind'\n",
    "pgui.reload_data_on_click(pgui.button_load, 'Fusions')"
   ]
  }
 ],
 "metadata": {
  "kernelspec": {
   "display_name": "pyenv",
   "language": "python",
   "name": "python3"
  },
  "language_info": {
   "codemirror_mode": {
    "name": "ipython",
    "version": 3
   },
   "file_extension": ".py",
   "mimetype": "text/x-python",
   "name": "python",
   "nbconvert_exporter": "python",
   "pygments_lexer": "ipython3",
   "version": "3.11.9"
  }
 },
 "nbformat": 4,
 "nbformat_minor": 2
}
