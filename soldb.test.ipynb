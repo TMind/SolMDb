{
 "cells": [
  {
   "cell_type": "code",
   "execution_count": null,
   "metadata": {},
   "outputs": [],
   "source": [
    "import GlobalVariables as gv\n",
    "import pygui as pgui\n",
    "import pandas as pd\n",
    "pgui.setup_interface()\n",
    "pgui.db_list.value = 'tmind'\n",
    "event = {'name': 'row_added', 'index': 1, 'source': 'gui'}\n",
    "\n",
    "# Make a new fow for the existing dataframe\n",
    "df = pgui.grid_manager.filterGridObject.qgrid_filter.get_changed_df()\n",
    "pgui.grid_manager.filterGridObject.selection_widgets['Data Set'].value = 'Multi Index'\n",
    "pgui.grid_manager.filterGridObject.selection_widgets['Creature'].value = ['Necromancer']\n",
    "\n",
    "new_row = pd.DataFrame({\n",
    "            'Modifier': [''],\n",
    "            'op1': [''],\n",
    "            'Creature': [''],\n",
    "            'op2': [''],\n",
    "            'Spell': ['River Of Souls'],\n",
    "            'Data Set': ['Multi Index'],\n",
    "            'Active': [True]\n",
    "        })\n",
    "new_df = pd.concat([df, new_row], ignore_index=True)\n",
    "pgui.grid_manager.filterGridObject.qgrid_filter.df = new_df\n",
    "pgui.grid_manager.filterGridObject.grid_filter_on_row_added(event, pgui.grid_manager.filterGridObject.qgrid_filter)"
   ]
  },
  {
   "cell_type": "code",
   "execution_count": 1,
   "metadata": {},
   "outputs": [
    {
     "ename": "NameError",
     "evalue": "name 'pgui' is not defined",
     "output_type": "error",
     "traceback": [
      "\u001b[0;31m---------------------------------------------------------------------------\u001b[0m",
      "\u001b[0;31mNameError\u001b[0m                                 Traceback (most recent call last)",
      "Cell \u001b[0;32mIn[1], line 5\u001b[0m\n\u001b[1;32m      1\u001b[0m \u001b[38;5;66;03m#pgui.username.value = 'tmind'\u001b[39;00m\n\u001b[1;32m      2\u001b[0m \u001b[38;5;66;03m#change = {'name': 'value', 'old': '', 'new': 'tmind'}\u001b[39;00m\n\u001b[1;32m      3\u001b[0m \u001b[38;5;66;03m#pgui.handle_db_list_change(change)\u001b[39;00m\n\u001b[1;32m      4\u001b[0m \u001b[38;5;66;03m#pgui.reload_data_on_click(None,'Decks')\u001b[39;00m\n\u001b[0;32m----> 5\u001b[0m \u001b[43mpgui\u001b[49m\u001b[38;5;241m.\u001b[39mdb_list\u001b[38;5;241m.\u001b[39mvalue \u001b[38;5;241m=\u001b[39m \u001b[38;5;124m'\u001b[39m\u001b[38;5;124mtmind\u001b[39m\u001b[38;5;124m'\u001b[39m\n\u001b[1;32m      7\u001b[0m \u001b[38;5;66;03m#GridManager.get_forgeborn_abilities()\u001b[39;00m\n\u001b[1;32m      8\u001b[0m \n\u001b[1;32m      9\u001b[0m \u001b[38;5;66;03m#event = {'name': 'row_added', 'index': 1, 'source': 'gui'}\u001b[39;00m\n\u001b[1;32m     10\u001b[0m \u001b[38;5;66;03m#pgui.grid_manager.filterGridObject.grid_filter_on_row_added(event, pgui.grid_manager.filterGridObject.qgrid_filter)\u001b[39;00m\n\u001b[1;32m     11\u001b[0m \u001b[38;5;66;03m#pgui.reload_data_on_click(None,'Decks')\u001b[39;00m\n\u001b[1;32m     12\u001b[0m \u001b[38;5;28;01mif\u001b[39;00m \u001b[38;5;28;01mFalse\u001b[39;00m:\n\u001b[1;32m     13\u001b[0m     \u001b[38;5;66;03m#pgui.db_list.value = 'tmind'\u001b[39;00m\n\u001b[1;32m     14\u001b[0m     \u001b[38;5;66;03m#event = {'name': 'selection_changed', 'old': [], 'new': [1], 'source': 'gui'}\u001b[39;00m\n",
      "\u001b[0;31mNameError\u001b[0m: name 'pgui' is not defined"
     ]
    }
   ],
   "source": [
    "import pygui as pgui\n",
    "#pgui.username.value = 'tmind'\n",
    "#change = {'name': 'value', 'old': '', 'new': 'tmind'}\n",
    "#pgui.handle_db_list_change(change)\n",
    "#pgui.reload_data_on_click(None,'Decks')\n",
    "pgui.db_list.value = 'tmind'\n",
    "\n",
    "#GridManager.get_forgeborn_abilities()\n",
    "\n",
    "#event = {'name': 'row_added', 'index': 1, 'source': 'gui'}\n",
    "#pgui.grid_manager.filterGridObject.grid_filter_on_row_added(event, pgui.grid_manager.filterGridObject.qgrid_filter)\n",
    "#pgui.reload_data_on_click(None,'Decks')\n",
    "if False:\n",
    "    #pgui.db_list.value = 'tmind'\n",
    "    #event = {'name': 'selection_changed', 'old': [], 'new': [1], 'source': 'gui'}\n",
    "\n",
    "    event = {'name': 'cell edited', 'index': 0, 'column': 'Active', 'new': False, 'source': 'filter'}\n",
    "    pgui.grid_manager.filterGridObject.grid_filter_on_cell_edit(event,pgui.grid_manager.filterGridObject.qgrid_filter)\n",
    "    #collection_grid = pgui.qm.grids.get('collection')\n",
    "    #df = pgui.generate_deck_content_dataframe(event, collection_grid.main_widget)\n",
    "    #df = pgui.generate_deck_statistics_dataframe()"
   ]
  },
  {
   "cell_type": "code",
   "execution_count": null,
   "metadata": {},
   "outputs": [],
   "source": [
    "# Test creation of fusions \n",
    "\n",
    "import pygui as pgui\n",
    "pgui.setup_interface()\n",
    "pgui.db_list.value = 'tmind'\n",
    "pgui.reload_data_on_click(pgui.button_load, 'Fusions')"
   ]
  }
 ],
 "metadata": {
  "kernelspec": {
   "display_name": "pyenv",
   "language": "python",
   "name": "python3"
  },
  "language_info": {
   "codemirror_mode": {
    "name": "ipython",
    "version": 3
   },
   "file_extension": ".py",
   "mimetype": "text/x-python",
   "name": "python",
   "nbconvert_exporter": "python",
   "pygments_lexer": "ipython3",
   "version": "3.11.9"
  }
 },
 "nbformat": 4,
 "nbformat_minor": 2
}
