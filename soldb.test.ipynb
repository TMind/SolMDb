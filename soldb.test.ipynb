{
 "cells": [
  {
   "cell_type": "code",
   "execution_count": null,
   "metadata": {},
   "outputs": [],
   "source": [
    "from GlobalVariables import global_vars as gv\n",
    "import pygui as pgui\n",
    "import pandas as pd\n",
    "pgui.setup_interface()\n",
    "pgui.db_list.value = 'tmind'\n",
    "event = {'name': 'row_added', 'index': 1, 'source': 'gui'}\n",
    "\n",
    "# Make a new fow for the existing dataframe\n",
    "df = pgui.grid_manager.filterGridObject.qgrid_filter.get_changed_df()\n",
    "pgui.grid_manager.filterGridObject.selection_widgets['Data Set'].value = 'Multi Index'\n",
    "pgui.grid_manager.filterGridObject.selection_widgets['Creature'].value = ['Necromancer']\n",
    "\n",
    "new_row = pd.DataFrame({\n",
    "            'Modifier': [''],\n",
    "            'op1': [''],\n",
    "            'Creature': [''],\n",
    "            'op2': [''],\n",
    "            'Spell': ['River Of Souls'],\n",
    "            'Data Set': ['Multi Index'],\n",
    "            'Active': [True]\n",
    "        })\n",
    "new_df = pd.concat([df, new_row], ignore_index=True)\n",
    "pgui.grid_manager.filterGridObject.qgrid_filter.df = new_df\n",
    "pgui.grid_manager.filterGridObject.grid_filter_on_row_added(event, pgui.grid_manager.filterGridObject.qgrid_filter)"
   ]
  },
  {
   "cell_type": "code",
   "execution_count": null,
   "metadata": {},
   "outputs": [],
   "source": [
    "import pygui as pgui\n",
    "pgui.setup_interface()\n",
    "pgui.username_widget.value = 'tmind'\n",
    "change = {'name': 'value', 'old': '', 'new': 'tmind'}\n",
    "pgui.reload_data_on_click(None,'Load Decks/Fusions')\n",
    "#pgui.db_list.value = 'tmind'\n",
    "#pgui.handle_db_list_change(change)\n",
    "\n",
    "#GridManager.get_forgeborn_abilities()\n",
    "\n",
    "#event = {'name': 'row_added', 'index': 1, 'source': 'gui'}\n",
    "#pgui.grid_manager.filterGridObject.grid_filter_on_row_added(event, pgui.grid_manager.filterGridObject.qgrid_filter)\n",
    "#pgui.reload_data_on_click(None,'Decks')\n",
    "if False:\n",
    "    #pgui.db_list.value = 'tmind'\n",
    "    #event = {'name': 'selection_changed', 'old': [], 'new': [1], 'source': 'gui'}\n",
    "\n",
    "    event = {'name': 'cell edited', 'index': 0, 'column': 'Active', 'new': False, 'source': 'filter'}\n",
    "    pgui.grid_manager.filterGridObject.grid_filter_on_cell_edit(event,pgui.grid_manager.filterGridObject.qgrid_filter)\n",
    "    #collection_grid = pgui.qm.grids.get('collection')\n",
    "    #df = pgui.generate_deck_content_dataframe(event, collection_grid.main_widget)\n",
    "    #df = pgui.generate_deck_statistics_dataframe()"
   ]
  },
  {
   "cell_type": "code",
   "execution_count": null,
   "metadata": {},
   "outputs": [],
   "source": [
    "# Test creation of fusions \n",
    "\n",
    "import pygui as pgui\n",
    "pgui.setup_interface()\n",
    "pgui.db_list.value = 'tmind'\n",
    "pgui.reload_data_on_click(pgui.button_load, 'Fusions')"
   ]
  }
 ],
 "metadata": {
  "kernelspec": {
   "display_name": "pyenv",
   "language": "python",
   "name": "python3"
  },
  "language_info": {
   "codemirror_mode": {
    "name": "ipython",
    "version": 3
   },
   "file_extension": ".py",
   "mimetype": "text/x-python",
   "name": "python",
   "nbconvert_exporter": "python",
   "pygments_lexer": "ipython3",
   "version": "3.11.9"
  }
 },
 "nbformat": 4,
 "nbformat_minor": 2
}
