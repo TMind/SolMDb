{
 "cells": [
  {
   "cell_type": "code",
   "execution_count": 1,
   "metadata": {},
   "outputs": [
    {
     "data": {
      "text/html": [
       "<style>/* Customizes the scrollbar within qgrid */\n",
       ".q-grid ::-webkit-scrollbar {\n",
       "    width: 5px;  /* Smaller width for vertical scrollbar */\n",
       "    height: 5px; /* Smaller height for horizontal scrollbar */\n",
       "}\n",
       "\n",
       ".q-grid ::-webkit-scrollbar-track {\n",
       "    border-radius: 10px;\n",
       "    background: rgba(0,0,0,0.1); /* Light background for the track */\n",
       "}\n",
       "\n",
       ".q-grid ::-webkit-scrollbar-thumb {\n",
       "    border-radius: 10px;\n",
       "    background: rgba(128,128,128,0.8); /* Lighter gray color for the thumb */\n",
       "}\n",
       "\n",
       ".q-grid ::-webkit-scrollbar-thumb:hover {\n",
       "    background: rgba(90,90,90,0.8); /* Slightly darker gray on hover */\n",
       "}\n",
       "\n",
       "/* Static color for sorted column headers */\n",
       ".sorted-column-header-ascending {\n",
       "    background: linear-gradient(to bottom, #b3e5fc, #0288d1) !important;\n",
       "    color: white;\n",
       "}\n",
       "\n",
       "/* Static color for sorted column headers */\n",
       ".sorted-column-header-descending {\n",
       "    background: linear-gradient(to top, #b3e5fc, #0288d1) !important;\n",
       "    color: white;\n",
       "}\n",
       "\n",
       "/* General sorted column style (optional for borders) */\n",
       ".sorted-column {\n",
       "    border: 1px solid #0288d1;\n",
       "}\n",
       "\n",
       "/* CSS for filtered columns */\n",
       ".filtered-column {\n",
       "    background-color: #fcf8e3;  /* Light yellow */\n",
       "    border: 2px solid #f0ad4e;  /* Orange border */\n",
       "}</style>"
      ],
      "text/plain": [
       "<IPython.core.display.HTML object>"
      ]
     },
     "metadata": {},
     "output_type": "display_data"
    },
    {
     "name": "stderr",
     "output_type": "stream",
     "text": [
      "2024-12-09 22:38:41,455 - INFO - Initializing Environment.\n",
      "2024-12-09 22:38:41,456 - INFO - Initializing objects.\n"
     ]
    },
    {
     "data": {
      "text/html": [
       "\n",
       "<style>\n",
       "    .custom-select-multiple option:checked {\n",
       "        background-color: lightgreen !important;\n",
       "        color: black !important;\n",
       "    }\n",
       "    .custom-select-multiple option.active {\n",
       "        background-color: lightgreen !important;\n",
       "    }\n",
       "</style>\n"
      ],
      "text/plain": [
       "<IPython.core.display.HTML object>"
      ]
     },
     "metadata": {},
     "output_type": "display_data"
    },
    {
     "data": {
      "text/html": [
       "\n",
       "        <style>\n",
       "            .filter_grids .slick-header-column {\n",
       "                height: 140px !important;\n",
       "                text-align: left !important;\n",
       "                vertical-align: bottom !important;\n",
       "            }\n",
       "            \n",
       "            /* Position the sort indicator at the bottom of the rotated column */\n",
       "            .filter_grids .slick-header-column .slick-sort-indicator {\n",
       "                position: absolute !important;\n",
       "                bottom: 10px !important; /* Position at the bottom */\n",
       "                left: 50% !important; /* Center horizontally */\n",
       "                transform: translateX(-100%) !important; /* Proper centering */\n",
       "                display: inline-block !important;\n",
       "                visibility: visible !important;\n",
       "                font-size: 20px !important; /* Adjust size as needed */\n",
       "                z-index: 2; /* Ensure it's above other elements */\n",
       "                color: blue !important; /* Adjust color */\n",
       "            }\n",
       "            \n",
       "            .filter_grids ._rotate_ .slick-column-name {\n",
       "                display: inline-block !important;\n",
       "                transform-origin: bottom left !important;\n",
       "                white-space: nowrap !important;\n",
       "                transform: rotate(90deg) !important;\n",
       "                margin-top: 10px !important;\n",
       "            }\n",
       "        </style>\n",
       "        "
      ],
      "text/plain": [
       "<IPython.core.display.HTML object>"
      ]
     },
     "metadata": {},
     "output_type": "display_data"
    },
    {
     "data": {
      "text/html": [
       "\n",
       "        <style>\n",
       "            .filter_grids .slick-header-column {\n",
       "                height: 140px !important;\n",
       "                text-align: left !important;\n",
       "                vertical-align: bottom !important;\n",
       "            }\n",
       "            \n",
       "            /* Position the sort indicator at the bottom of the rotated column */\n",
       "            .filter_grids .slick-header-column .slick-sort-indicator {\n",
       "                position: absolute !important;\n",
       "                bottom: 10px !important; /* Position at the bottom */\n",
       "                left: 50% !important; /* Center horizontally */\n",
       "                transform: translateX(-100%) !important; /* Proper centering */\n",
       "                display: inline-block !important;\n",
       "                visibility: visible !important;\n",
       "                font-size: 20px !important; /* Adjust size as needed */\n",
       "                z-index: 2; /* Ensure it's above other elements */\n",
       "                color: blue !important; /* Adjust color */\n",
       "            }\n",
       "            \n",
       "            .filter_grids ._rotate_ .slick-column-name {\n",
       "                display: inline-block !important;\n",
       "                transform-origin: bottom left !important;\n",
       "                white-space: nowrap !important;\n",
       "                transform: rotate(90deg) !important;\n",
       "                margin-top: 10px !important;\n",
       "            }\n",
       "        </style>\n",
       "        "
      ],
      "text/plain": [
       "<IPython.core.display.HTML object>"
      ]
     },
     "metadata": {},
     "output_type": "display_data"
    },
    {
     "data": {
      "text/html": [
       "\n",
       "        <style>\n",
       "            .deck_content .slick-header-column {\n",
       "                height: 140px !important;\n",
       "                text-align: left !important;\n",
       "                vertical-align: bottom !important;\n",
       "            }\n",
       "            \n",
       "            /* Position the sort indicator at the bottom of the rotated column */\n",
       "            .deck_content .slick-header-column .slick-sort-indicator {\n",
       "                position: absolute !important;\n",
       "                bottom: 10px !important; /* Position at the bottom */\n",
       "                left: 50% !important; /* Center horizontally */\n",
       "                transform: translateX(-100%) !important; /* Proper centering */\n",
       "                display: inline-block !important;\n",
       "                visibility: visible !important;\n",
       "                font-size: 20px !important; /* Adjust size as needed */\n",
       "                z-index: 2; /* Ensure it's above other elements */\n",
       "                color: blue !important; /* Adjust color */\n",
       "            }\n",
       "            \n",
       "            .deck_content ._rotate_ .slick-column-name {\n",
       "                display: inline-block !important;\n",
       "                transform-origin: bottom left !important;\n",
       "                white-space: nowrap !important;\n",
       "                transform: rotate(90deg) !important;\n",
       "                margin-top: 10px !important;\n",
       "            }\n",
       "        </style>\n",
       "        "
      ],
      "text/plain": [
       "<IPython.core.display.HTML object>"
      ]
     },
     "metadata": {},
     "output_type": "display_data"
    },
    {
     "data": {
      "text/html": [
       "\n",
       "        <style>\n",
       "            .Template .slick-header-column {\n",
       "                height: 140px !important;\n",
       "                text-align: left !important;\n",
       "                vertical-align: bottom !important;\n",
       "            }\n",
       "            \n",
       "            /* Position the sort indicator at the bottom of the rotated column */\n",
       "            .Template .slick-header-column .slick-sort-indicator {\n",
       "                position: absolute !important;\n",
       "                bottom: 10px !important; /* Position at the bottom */\n",
       "                left: 50% !important; /* Center horizontally */\n",
       "                transform: translateX(-100%) !important; /* Proper centering */\n",
       "                display: inline-block !important;\n",
       "                visibility: visible !important;\n",
       "                font-size: 20px !important; /* Adjust size as needed */\n",
       "                z-index: 2; /* Ensure it's above other elements */\n",
       "                color: blue !important; /* Adjust color */\n",
       "            }\n",
       "            \n",
       "            .Template ._rotate_ .slick-column-name {\n",
       "                display: inline-block !important;\n",
       "                transform-origin: bottom left !important;\n",
       "                white-space: nowrap !important;\n",
       "                transform: rotate(90deg) !important;\n",
       "                margin-top: 10px !important;\n",
       "            }\n",
       "        </style>\n",
       "        "
      ],
      "text/plain": [
       "<IPython.core.display.HTML object>"
      ]
     },
     "metadata": {},
     "output_type": "display_data"
    },
    {
     "data": {
      "application/vnd.jupyter.widget-view+json": {
       "model_id": "ccf5b10d69c44bc9af4a27d5fbff3a07",
       "version_major": 2,
       "version_minor": 0
      },
      "text/plain": [
       "VBox(children=(HTML(value=\"<div style='padding:10px; color:white; background-color:#2E86AB; border:solid 2px #…"
      ]
     },
     "metadata": {},
     "output_type": "display_data"
    },
    {
     "name": "stdout",
     "output_type": "stream",
     "text": [
      "Handling database change in DynamicGridManager.\n"
     ]
    },
    {
     "name": "stdout",
     "output_type": "stream",
     "text": [
      "Resetting VBoxManager...\n",
      "VBoxManager State:\n",
      "------------------\n",
      "Active VBoxes:\n",
      "\n",
      "Empty VBoxes:\n",
      "\n",
      "Main VBox Layout:\n",
      "apply_filter: 46 rows matched for first_target '['type']' and second_target '['Deck']' with first_operator 'OR' and second_operator 'OR'\n",
      "Adding widget for index: 0\n",
      "Created a new VBox for index 0\n",
      "Updated main VBox layout.\n",
      "VBoxManager State:\n",
      "------------------\n",
      "Active VBoxes:\n",
      "  - Index: 0, VBox: VBox(children=(VBox(children=(VBox(children=(HBox(children=(ToggleButtons(button_style='info', description='Info Level:', layout=Layout(align_items='center', display='flex', flex_flow='row', height='25px', width='30%'), options=('Basic', 'Detail'), value='Basic'), Box(layout=Layout(flex='1')), Dropdown(description='Data Set:', layout=Layout(align_self='flex-end', width='25%'), options=('Stats', 'Tags', 'Combos', 'Deck Content', 'CM Tags', 'Listing'), value='Stats')), layout=Layout(align_items='center', padding='5px 5px', width='100%')), Box(children=(HBox(children=(Button(description='Solbind', style=ButtonStyle()), Button(description='Rename', style=ButtonStyle()), Button(button_style='info', description='Export', style=ButtonStyle()), Button(button_style='success', description='Open (web)', style=ButtonStyle()), Button(button_style='primary', description='Show Graph', style=ButtonStyle()))),), layout=Layout(width='auto'))), layout=Layout(width='100%')), QgridWidget(grid_options={'fullWidthRows': True, 'syncColumnCellResize': True, 'forceFitColumns': True, 'defaultColumnWidth': 150, 'rowHeight': 28, 'enableColumnReorder': False, 'enableTextSelectionOnCells': True, 'editable': True, 'autoEdit': False, 'explicitInitialization': True, 'maxVisibleRows': 15, 'minVisibleRows': 8, 'sortable': False, 'filterable': False, 'highlightSelectedCell': False, 'highlightSelectedRow': True, 'boldIndex': True}, id='b1d645d9-4950-4fa2-8888-19194366395c', layout=Layout(height='70px'), precision=5), VBox(children=(QgridWidget(grid_options={'fullWidthRows': True, 'syncColumnCellResize': True, 'forceFitColumns': False, 'defaultColumnWidth': 150, 'rowHeight': 28, 'enableColumnReorder': False, 'enableTextSelectionOnCells': True, 'editable': True, 'autoEdit': False, 'explicitInitialization': True, 'maxVisibleRows': 15, 'minVisibleRows': 8, 'sortable': False, 'filterable': False, 'highlightSelectedCell': False, 'highlightSelectedRow': True, 'boldIndex': True}, id='e9d2d400-5d3e-44b4-89d6-0796849fcd56', layout=Layout(height='65px'), precision=5), QgridWidget(grid_options={'fullWidthRows': True, 'syncColumnCellResize': True, 'forceFitColumns': False, 'defaultColumnWidth': 150, 'rowHeight': 28, 'enableColumnReorder': True, 'enableTextSelectionOnCells': True, 'editable': True, 'autoEdit': False, 'explicitInitialization': True, 'maxVisibleRows': 15, 'minVisibleRows': 10, 'sortable': True, 'filterable': True, 'highlightSelectedCell': False, 'highlightSelectedRow': True, 'boldIndex': True}, id='c0193f25-4c92-41fa-b3ee-496916230fd6', precision=5)))), layout=Layout(border_bottom='2px solid black', border_left='2px solid black', border_right='2px solid black', border_top='2px solid black')),))\n",
      "\n",
      "Empty VBoxes:\n",
      "\n",
      "Main VBox Layout:\n",
      "  - Position 0: Active VBox (Index: 0)\n"
     ]
    },
    {
     "name": "stderr",
     "output_type": "stream",
     "text": [
      "2024-12-09 22:38:46,324 - INFO - FilterClass::grid_filter_on_row_added() - Adding new row to filter grid\n",
      "2024-12-09 22:38:46,326 - INFO - FilterClass::grid_filter_on_row_added() - Column: Type, Value: ('Deck',)\n",
      "2024-12-09 22:38:46,328 - INFO - FilterClass::grid_filter_on_row_added() - Column: Name, Value: ()\n",
      "2024-12-09 22:38:46,329 - INFO - FilterClass::grid_filter_on_row_added() - Column: Modifier, Value: ()\n",
      "2024-12-09 22:38:46,330 - INFO - FilterClass::grid_filter_on_row_added() - Column: Creature, Value: ()\n",
      "2024-12-09 22:38:46,331 - INFO - FilterClass::grid_filter_on_row_added() - Column: Spell, Value: ()\n",
      "2024-12-09 22:38:46,332 - INFO - FilterClass::grid_filter_on_row_added() - Column: Forgeborn Ability, Value: ()\n",
      "2024-12-09 22:38:46,339 - INFO - FilterClass::grid_filter_on_row_added() - Calling refresh function for index 1\n",
      "2024-12-09 22:38:46,343 - INFO - Handling row-specific update from filter.\n",
      "2024-12-09 22:38:46,346 - INFO - Updating grid 'filtered_grid_1' with filter row: Type                                    Deck\n",
      "Name                                        \n",
      "Modifier                                    \n",
      "Creature                                    \n",
      "Spell                                       \n",
      "Forgeborn Ability                           \n",
      "Active                                  True\n",
      "Mandatory Fields     Name, Forgeborn Ability\n",
      "Name: 1, dtype: object\n",
      "2024-12-09 22:38:46,399 - INFO - Grid 'filtered_grid_1' updated.\n"
     ]
    },
    {
     "name": "stdout",
     "output_type": "stream",
     "text": [
      "Updating or refreshing grid 'filtered_grid_1'\n",
      "apply_filter: 46 rows matched for first_target '['type']' and second_target '['Deck']' with first_operator 'OR' and second_operator 'OR'\n",
      "Rebuilding grid 'filtered_grid_1'\n",
      "Registering selection event for grid 'filtered_grid_1'\n",
      "Adding widget for index: 1\n",
      "Created a new VBox for index 1\n",
      "Updated main VBox layout.\n",
      "VBoxManager State:\n",
      "------------------\n",
      "Active VBoxes:\n",
      "  - Index: 0, VBox: VBox(children=(VBox(children=(VBox(children=(HBox(children=(ToggleButtons(button_style='info', description='Info Level:', layout=Layout(align_items='center', display='flex', flex_flow='row', height='25px', width='30%'), options=('Basic', 'Detail'), value='Basic'), Box(layout=Layout(flex='1')), Dropdown(description='Data Set:', layout=Layout(align_self='flex-end', width='25%'), options=('Stats', 'Tags', 'Combos', 'Deck Content', 'CM Tags', 'Listing'), value='Stats')), layout=Layout(align_items='center', padding='5px 5px', width='100%')), Box(children=(HBox(children=(Button(description='Solbind', style=ButtonStyle()), Button(description='Rename', style=ButtonStyle()), Button(button_style='info', description='Export', style=ButtonStyle()), Button(button_style='success', description='Open (web)', style=ButtonStyle()), Button(button_style='primary', description='Show Graph', style=ButtonStyle()))),), layout=Layout(width='auto'))), layout=Layout(width='100%')), QgridWidget(grid_options={'fullWidthRows': True, 'syncColumnCellResize': True, 'forceFitColumns': True, 'defaultColumnWidth': 150, 'rowHeight': 28, 'enableColumnReorder': False, 'enableTextSelectionOnCells': True, 'editable': True, 'autoEdit': False, 'explicitInitialization': True, 'maxVisibleRows': 15, 'minVisibleRows': 8, 'sortable': False, 'filterable': False, 'highlightSelectedCell': False, 'highlightSelectedRow': True, 'boldIndex': True}, id='b1d645d9-4950-4fa2-8888-19194366395c', layout=Layout(height='70px'), precision=5), VBox(children=(QgridWidget(grid_options={'fullWidthRows': True, 'syncColumnCellResize': True, 'forceFitColumns': False, 'defaultColumnWidth': 150, 'rowHeight': 28, 'enableColumnReorder': False, 'enableTextSelectionOnCells': True, 'editable': True, 'autoEdit': False, 'explicitInitialization': True, 'maxVisibleRows': 15, 'minVisibleRows': 8, 'sortable': False, 'filterable': False, 'highlightSelectedCell': False, 'highlightSelectedRow': True, 'boldIndex': True}, id='e9d2d400-5d3e-44b4-89d6-0796849fcd56', layout=Layout(height='65px'), precision=5), QgridWidget(grid_options={'fullWidthRows': True, 'syncColumnCellResize': True, 'forceFitColumns': False, 'defaultColumnWidth': 150, 'rowHeight': 28, 'enableColumnReorder': True, 'enableTextSelectionOnCells': True, 'editable': True, 'autoEdit': False, 'explicitInitialization': True, 'maxVisibleRows': 15, 'minVisibleRows': 10, 'sortable': True, 'filterable': True, 'highlightSelectedCell': False, 'highlightSelectedRow': True, 'boldIndex': True}, id='c0193f25-4c92-41fa-b3ee-496916230fd6', precision=5)))), layout=Layout(border_bottom='2px solid black', border_left='2px solid black', border_right='2px solid black', border_top='2px solid black')),))\n",
      "  - Index: 1, VBox: VBox(children=(VBox(children=(VBox(children=(HBox(children=(ToggleButtons(button_style='info', description='Info Level:', layout=Layout(align_items='center', display='flex', flex_flow='row', height='25px', width='30%'), options=('Basic', 'Detail'), value='Basic'), Box(layout=Layout(flex='1')), Dropdown(description='Data Set:', layout=Layout(align_self='flex-end', width='25%'), options=('Stats', 'Tags', 'Combos', 'Deck Content', 'CM Tags', 'Listing'), value='Stats')), layout=Layout(align_items='center', padding='5px 5px', width='100%')), Box(children=(HBox(children=(Button(description='Solbind', style=ButtonStyle()), Button(description='Rename', style=ButtonStyle()), Button(button_style='info', description='Export', style=ButtonStyle()), Button(button_style='success', description='Open (web)', style=ButtonStyle()), Button(button_style='primary', description='Show Graph', style=ButtonStyle()))),), layout=Layout(width='auto'))), layout=Layout(width='100%')), QgridWidget(grid_options={'fullWidthRows': True, 'syncColumnCellResize': True, 'forceFitColumns': True, 'defaultColumnWidth': 150, 'rowHeight': 28, 'enableColumnReorder': False, 'enableTextSelectionOnCells': True, 'editable': True, 'autoEdit': False, 'explicitInitialization': True, 'maxVisibleRows': 15, 'minVisibleRows': 8, 'sortable': False, 'filterable': False, 'highlightSelectedCell': False, 'highlightSelectedRow': True, 'boldIndex': True}, id='ea555c9e-77d9-4379-be44-dc11a6e4aa85', layout=Layout(height='70px'), precision=5), VBox(children=(QgridWidget(grid_options={'fullWidthRows': True, 'syncColumnCellResize': True, 'forceFitColumns': False, 'defaultColumnWidth': 150, 'rowHeight': 28, 'enableColumnReorder': False, 'enableTextSelectionOnCells': True, 'editable': True, 'autoEdit': False, 'explicitInitialization': True, 'maxVisibleRows': 15, 'minVisibleRows': 8, 'sortable': False, 'filterable': False, 'highlightSelectedCell': False, 'highlightSelectedRow': True, 'boldIndex': True}, id='417e7d19-3496-43ab-b731-8f5a4c365146', layout=Layout(height='65px'), precision=5), QgridWidget(grid_options={'fullWidthRows': True, 'syncColumnCellResize': True, 'forceFitColumns': False, 'defaultColumnWidth': 150, 'rowHeight': 28, 'enableColumnReorder': True, 'enableTextSelectionOnCells': True, 'editable': True, 'autoEdit': False, 'explicitInitialization': True, 'maxVisibleRows': 15, 'minVisibleRows': 10, 'sortable': True, 'filterable': True, 'highlightSelectedCell': False, 'highlightSelectedRow': True, 'boldIndex': True}, id='87894d98-2353-4fcc-9013-84baffeb5ba8', precision=5)))), layout=Layout(border_bottom='2px solid black', border_left='2px solid black', border_right='2px solid black', border_top='2px solid black')),))\n",
      "\n",
      "Empty VBoxes:\n",
      "\n",
      "Main VBox Layout:\n",
      "  - Position 0: Active VBox (Index: 0)\n",
      "  - Position 1: Active VBox (Index: 1)\n",
      "Grid 'filtered_grid_1' rebuilt with 46 rows and 18 columns\n",
      "Test: Added new row to filter grid. Current row count: 2\n"
     ]
    },
    {
     "name": "stderr",
     "output_type": "stream",
     "text": [
      "2024-12-09 22:39:13,657 - INFO - FilterClass::grid_filter_on_row_added() - Adding new row to filter grid\n",
      "2024-12-09 22:39:20,157 - INFO - FilterClass::grid_filter_on_row_added() - Column: Type, Value: ('Deck',)\n",
      "2024-12-09 22:39:20,158 - INFO - FilterClass::grid_filter_on_row_added() - Column: Name, Value: ()\n",
      "2024-12-09 22:39:20,159 - INFO - FilterClass::grid_filter_on_row_added() - Column: Modifier, Value: ()\n",
      "2024-12-09 22:39:20,160 - INFO - FilterClass::grid_filter_on_row_added() - Column: Creature, Value: ()\n",
      "2024-12-09 22:39:20,161 - INFO - FilterClass::grid_filter_on_row_added() - Column: Spell, Value: ()\n",
      "2024-12-09 22:39:20,161 - INFO - FilterClass::grid_filter_on_row_added() - Column: Forgeborn Ability, Value: ()\n",
      "2024-12-09 22:39:22,414 - INFO - FilterClass::grid_filter_on_row_added() - Calling refresh function for index 2\n",
      "2024-12-09 22:39:29,382 - INFO - Handling row-specific update from filter.\n",
      "2024-12-09 22:39:39,638 - INFO - Updating grid 'filtered_grid_2' with filter row: Type                                    Deck\n",
      "Name                                        \n",
      "Modifier                                    \n",
      "Creature                                    \n",
      "Spell                                       \n",
      "Forgeborn Ability                           \n",
      "Active                                  True\n",
      "Mandatory Fields     Name, Forgeborn Ability\n",
      "Name: 2, dtype: object\n"
     ]
    },
    {
     "name": "stdout",
     "output_type": "stream",
     "text": [
      "Updating or refreshing grid 'filtered_grid_2'\n",
      "apply_filter: 46 rows matched for first_target '['type']' and second_target '['Deck']' with first_operator 'OR' and second_operator 'OR'\n",
      "Rebuilding grid 'filtered_grid_2'\n",
      "Registering selection event for grid 'filtered_grid_2'\n",
      "Adding widget for index: 2\n",
      "Created a new VBox for index 2\n",
      "Updated main VBox layout.\n",
      "VBoxManager State:\n",
      "------------------\n",
      "Active VBoxes:\n",
      "  - Index: 0, VBox: VBox(children=(VBox(children=(VBox(children=(HBox(children=(ToggleButtons(button_style='info', description='Info Level:', layout=Layout(align_items='center', display='flex', flex_flow='row', height='25px', width='30%'), options=('Basic', 'Detail'), value='Basic'), Box(layout=Layout(flex='1')), Dropdown(description='Data Set:', layout=Layout(align_self='flex-end', width='25%'), options=('Stats', 'Tags', 'Combos', 'Deck Content', 'CM Tags', 'Listing'), value='Stats')), layout=Layout(align_items='center', padding='5px 5px', width='100%')), Box(children=(HBox(children=(Button(description='Solbind', style=ButtonStyle()), Button(description='Rename', style=ButtonStyle()), Button(button_style='info', description='Export', style=ButtonStyle()), Button(button_style='success', description='Open (web)', style=ButtonStyle()), Button(button_style='primary', description='Show Graph', style=ButtonStyle()))),), layout=Layout(width='auto'))), layout=Layout(width='100%')), QgridWidget(grid_options={'fullWidthRows': True, 'syncColumnCellResize': True, 'forceFitColumns': True, 'defaultColumnWidth': 150, 'rowHeight': 28, 'enableColumnReorder': False, 'enableTextSelectionOnCells': True, 'editable': True, 'autoEdit': False, 'explicitInitialization': True, 'maxVisibleRows': 15, 'minVisibleRows': 8, 'sortable': False, 'filterable': False, 'highlightSelectedCell': False, 'highlightSelectedRow': True, 'boldIndex': True}, id='b1d645d9-4950-4fa2-8888-19194366395c', layout=Layout(height='70px'), precision=5), VBox(children=(QgridWidget(grid_options={'fullWidthRows': True, 'syncColumnCellResize': True, 'forceFitColumns': False, 'defaultColumnWidth': 150, 'rowHeight': 28, 'enableColumnReorder': False, 'enableTextSelectionOnCells': True, 'editable': True, 'autoEdit': False, 'explicitInitialization': True, 'maxVisibleRows': 15, 'minVisibleRows': 8, 'sortable': False, 'filterable': False, 'highlightSelectedCell': False, 'highlightSelectedRow': True, 'boldIndex': True}, id='e9d2d400-5d3e-44b4-89d6-0796849fcd56', layout=Layout(height='65px'), precision=5), QgridWidget(grid_options={'fullWidthRows': True, 'syncColumnCellResize': True, 'forceFitColumns': False, 'defaultColumnWidth': 150, 'rowHeight': 28, 'enableColumnReorder': True, 'enableTextSelectionOnCells': True, 'editable': True, 'autoEdit': False, 'explicitInitialization': True, 'maxVisibleRows': 15, 'minVisibleRows': 10, 'sortable': True, 'filterable': True, 'highlightSelectedCell': False, 'highlightSelectedRow': True, 'boldIndex': True}, id='c0193f25-4c92-41fa-b3ee-496916230fd6', precision=5)))), layout=Layout(border_bottom='2px solid black', border_left='2px solid black', border_right='2px solid black', border_top='2px solid black')),))\n",
      "  - Index: 1, VBox: VBox(children=(VBox(children=(VBox(children=(HBox(children=(ToggleButtons(button_style='info', description='Info Level:', layout=Layout(align_items='center', display='flex', flex_flow='row', height='25px', width='30%'), options=('Basic', 'Detail'), value='Basic'), Box(layout=Layout(flex='1')), Dropdown(description='Data Set:', layout=Layout(align_self='flex-end', width='25%'), options=('Stats', 'Tags', 'Combos', 'Deck Content', 'CM Tags', 'Listing'), value='Stats')), layout=Layout(align_items='center', padding='5px 5px', width='100%')), Box(children=(HBox(children=(Button(description='Solbind', style=ButtonStyle()), Button(description='Rename', style=ButtonStyle()), Button(button_style='info', description='Export', style=ButtonStyle()), Button(button_style='success', description='Open (web)', style=ButtonStyle()), Button(button_style='primary', description='Show Graph', style=ButtonStyle()))),), layout=Layout(width='auto'))), layout=Layout(width='100%')), QgridWidget(grid_options={'fullWidthRows': True, 'syncColumnCellResize': True, 'forceFitColumns': True, 'defaultColumnWidth': 150, 'rowHeight': 28, 'enableColumnReorder': False, 'enableTextSelectionOnCells': True, 'editable': True, 'autoEdit': False, 'explicitInitialization': True, 'maxVisibleRows': 15, 'minVisibleRows': 8, 'sortable': False, 'filterable': False, 'highlightSelectedCell': False, 'highlightSelectedRow': True, 'boldIndex': True}, id='ea555c9e-77d9-4379-be44-dc11a6e4aa85', layout=Layout(height='70px'), precision=5), VBox(children=(QgridWidget(grid_options={'fullWidthRows': True, 'syncColumnCellResize': True, 'forceFitColumns': False, 'defaultColumnWidth': 150, 'rowHeight': 28, 'enableColumnReorder': False, 'enableTextSelectionOnCells': True, 'editable': True, 'autoEdit': False, 'explicitInitialization': True, 'maxVisibleRows': 15, 'minVisibleRows': 8, 'sortable': False, 'filterable': False, 'highlightSelectedCell': False, 'highlightSelectedRow': True, 'boldIndex': True}, id='417e7d19-3496-43ab-b731-8f5a4c365146', layout=Layout(height='65px'), precision=5), QgridWidget(grid_options={'fullWidthRows': True, 'syncColumnCellResize': True, 'forceFitColumns': False, 'defaultColumnWidth': 150, 'rowHeight': 28, 'enableColumnReorder': True, 'enableTextSelectionOnCells': True, 'editable': True, 'autoEdit': False, 'explicitInitialization': True, 'maxVisibleRows': 15, 'minVisibleRows': 10, 'sortable': True, 'filterable': True, 'highlightSelectedCell': False, 'highlightSelectedRow': True, 'boldIndex': True}, id='87894d98-2353-4fcc-9013-84baffeb5ba8', precision=5)))), layout=Layout(border_bottom='2px solid black', border_left='2px solid black', border_right='2px solid black', border_top='2px solid black')),))\n",
      "  - Index: 2, VBox: VBox(children=(VBox(children=(VBox(children=(HBox(children=(ToggleButtons(button_style='info', description='Info Level:', layout=Layout(align_items='center', display='flex', flex_flow='row', height='25px', width='30%'), options=('Basic', 'Detail'), value='Basic'), Box(layout=Layout(flex='1')), Dropdown(description='Data Set:', layout=Layout(align_self='flex-end', width='25%'), options=('Stats', 'Tags', 'Combos', 'Deck Content', 'CM Tags', 'Listing'), value='Stats')), layout=Layout(align_items='center', padding='5px 5px', width='100%')), Box(children=(HBox(children=(Button(description='Solbind', style=ButtonStyle()), Button(description='Rename', style=ButtonStyle()), Button(button_style='info', description='Export', style=ButtonStyle()), Button(button_style='success', description='Open (web)', style=ButtonStyle()), Button(button_style='primary', description='Show Graph', style=ButtonStyle()))),), layout=Layout(width='auto'))), layout=Layout(width='100%')), QgridWidget(grid_options={'fullWidthRows': True, 'syncColumnCellResize': True, 'forceFitColumns': True, 'defaultColumnWidth': 150, 'rowHeight': 28, 'enableColumnReorder': False, 'enableTextSelectionOnCells': True, 'editable': True, 'autoEdit': False, 'explicitInitialization': True, 'maxVisibleRows': 15, 'minVisibleRows': 8, 'sortable': False, 'filterable': False, 'highlightSelectedCell': False, 'highlightSelectedRow': True, 'boldIndex': True}, id='5d647cf2-ef75-4862-9672-005b34844bf2', layout=Layout(height='70px'), precision=5), VBox(children=(QgridWidget(grid_options={'fullWidthRows': True, 'syncColumnCellResize': True, 'forceFitColumns': False, 'defaultColumnWidth': 150, 'rowHeight': 28, 'enableColumnReorder': False, 'enableTextSelectionOnCells': True, 'editable': True, 'autoEdit': False, 'explicitInitialization': True, 'maxVisibleRows': 15, 'minVisibleRows': 8, 'sortable': False, 'filterable': False, 'highlightSelectedCell': False, 'highlightSelectedRow': True, 'boldIndex': True}, id='ae318a0f-94ef-4298-9cb4-c4ef8bae6bd1', layout=Layout(height='65px'), precision=5), QgridWidget(grid_options={'fullWidthRows': True, 'syncColumnCellResize': True, 'forceFitColumns': False, 'defaultColumnWidth': 150, 'rowHeight': 28, 'enableColumnReorder': True, 'enableTextSelectionOnCells': True, 'editable': True, 'autoEdit': False, 'explicitInitialization': True, 'maxVisibleRows': 15, 'minVisibleRows': 10, 'sortable': True, 'filterable': True, 'highlightSelectedCell': False, 'highlightSelectedRow': True, 'boldIndex': True}, id='c1059210-bb56-4ca0-a820-1af361ad2a74', precision=5)))), layout=Layout(border_bottom='2px solid black', border_left='2px solid black', border_right='2px solid black', border_top='2px solid black')),))\n",
      "\n",
      "Empty VBoxes:\n",
      "\n",
      "Main VBox Layout:\n",
      "  - Position 0: Active VBox (Index: 0)\n",
      "  - Position 1: Active VBox (Index: 1)\n",
      "  - Position 2: Active VBox (Index: 2)\n",
      "Grid 'filtered_grid_2' rebuilt with 46 rows and 18 columns\n"
     ]
    },
    {
     "name": "stderr",
     "output_type": "stream",
     "text": [
      "2024-12-09 22:39:58,176 - INFO - Grid 'filtered_grid_2' updated.\n"
     ]
    },
    {
     "name": "stdout",
     "output_type": "stream",
     "text": [
      "Test: Added new row to filter grid. Current row count: 3\n"
     ]
    },
    {
     "name": "stderr",
     "output_type": "stream",
     "text": [
      "2024-12-09 23:01:51,880 - INFO - FilterClass::grid_filter_on_row_added() - Adding new row to filter grid\n",
      "2024-12-09 23:01:51,881 - INFO - FilterClass::grid_filter_on_row_added() - Column: Type, Value: ('Deck',)\n",
      "2024-12-09 23:01:51,882 - INFO - FilterClass::grid_filter_on_row_added() - Column: Name, Value: ()\n",
      "2024-12-09 23:01:51,882 - INFO - FilterClass::grid_filter_on_row_added() - Column: Modifier, Value: ()\n",
      "2024-12-09 23:01:51,883 - INFO - FilterClass::grid_filter_on_row_added() - Column: Creature, Value: ()\n",
      "2024-12-09 23:01:51,883 - INFO - FilterClass::grid_filter_on_row_added() - Column: Spell, Value: ()\n",
      "2024-12-09 23:01:51,884 - INFO - FilterClass::grid_filter_on_row_added() - Column: Forgeborn Ability, Value: ()\n",
      "2024-12-09 23:01:51,890 - INFO - FilterClass::grid_filter_on_row_added() - Calling refresh function for index 3\n",
      "2024-12-09 23:01:51,892 - INFO - Handling row-specific update from filter.\n",
      "2024-12-09 23:01:51,894 - INFO - Updating grid 'filtered_grid_3' with filter row: Type                                    Deck\n",
      "Name                                        \n",
      "Modifier                                    \n",
      "Creature                                    \n",
      "Spell                                       \n",
      "Forgeborn Ability                           \n",
      "Active                                  True\n",
      "Mandatory Fields     Name, Forgeborn Ability\n",
      "Name: 3, dtype: object\n",
      "2024-12-09 23:01:51,951 - INFO - Grid 'filtered_grid_3' updated.\n"
     ]
    },
    {
     "name": "stdout",
     "output_type": "stream",
     "text": [
      "Updating or refreshing grid 'filtered_grid_3'\n",
      "apply_filter: 46 rows matched for first_target '['type']' and second_target '['Deck']' with first_operator 'OR' and second_operator 'OR'\n",
      "Rebuilding grid 'filtered_grid_3'\n",
      "Registering selection event for grid 'filtered_grid_3'\n",
      "Adding widget for index: 3\n",
      "Created a new VBox for index 3\n",
      "Updated main VBox layout.\n",
      "VBoxManager State:\n",
      "------------------\n",
      "Active VBoxes:\n",
      "  - Index: 0, VBox: VBox(children=(VBox(children=(VBox(children=(HBox(children=(ToggleButtons(button_style='info', description='Info Level:', layout=Layout(align_items='center', display='flex', flex_flow='row', height='25px', width='30%'), options=('Basic', 'Detail'), value='Basic'), Box(layout=Layout(flex='1')), Dropdown(description='Data Set:', layout=Layout(align_self='flex-end', width='25%'), options=('Stats', 'Tags', 'Combos', 'Deck Content', 'CM Tags', 'Listing'), value='Stats')), layout=Layout(align_items='center', padding='5px 5px', width='100%')), Box(children=(HBox(children=(Button(description='Solbind', style=ButtonStyle()), Button(description='Rename', style=ButtonStyle()), Button(button_style='info', description='Export', style=ButtonStyle()), Button(button_style='success', description='Open (web)', style=ButtonStyle()), Button(button_style='primary', description='Show Graph', style=ButtonStyle()))),), layout=Layout(width='auto'))), layout=Layout(width='100%')), QgridWidget(grid_options={'fullWidthRows': True, 'syncColumnCellResize': True, 'forceFitColumns': True, 'defaultColumnWidth': 150, 'rowHeight': 28, 'enableColumnReorder': False, 'enableTextSelectionOnCells': True, 'editable': True, 'autoEdit': False, 'explicitInitialization': True, 'maxVisibleRows': 15, 'minVisibleRows': 8, 'sortable': False, 'filterable': False, 'highlightSelectedCell': False, 'highlightSelectedRow': True, 'boldIndex': True}, id='b1d645d9-4950-4fa2-8888-19194366395c', layout=Layout(height='70px'), precision=5), VBox(children=(QgridWidget(grid_options={'fullWidthRows': True, 'syncColumnCellResize': True, 'forceFitColumns': False, 'defaultColumnWidth': 150, 'rowHeight': 28, 'enableColumnReorder': False, 'enableTextSelectionOnCells': True, 'editable': True, 'autoEdit': False, 'explicitInitialization': True, 'maxVisibleRows': 15, 'minVisibleRows': 8, 'sortable': False, 'filterable': False, 'highlightSelectedCell': False, 'highlightSelectedRow': True, 'boldIndex': True}, id='e9d2d400-5d3e-44b4-89d6-0796849fcd56', layout=Layout(height='65px'), precision=5), QgridWidget(grid_options={'fullWidthRows': True, 'syncColumnCellResize': True, 'forceFitColumns': False, 'defaultColumnWidth': 150, 'rowHeight': 28, 'enableColumnReorder': True, 'enableTextSelectionOnCells': True, 'editable': True, 'autoEdit': False, 'explicitInitialization': True, 'maxVisibleRows': 15, 'minVisibleRows': 10, 'sortable': True, 'filterable': True, 'highlightSelectedCell': False, 'highlightSelectedRow': True, 'boldIndex': True}, id='c0193f25-4c92-41fa-b3ee-496916230fd6', precision=5)))), layout=Layout(border_bottom='2px solid black', border_left='2px solid black', border_right='2px solid black', border_top='2px solid black')),))\n",
      "  - Index: 1, VBox: VBox(children=(VBox(children=(VBox(children=(HBox(children=(ToggleButtons(button_style='info', description='Info Level:', layout=Layout(align_items='center', display='flex', flex_flow='row', height='25px', width='30%'), options=('Basic', 'Detail'), value='Basic'), Box(layout=Layout(flex='1')), Dropdown(description='Data Set:', layout=Layout(align_self='flex-end', width='25%'), options=('Stats', 'Tags', 'Combos', 'Deck Content', 'CM Tags', 'Listing'), value='Stats')), layout=Layout(align_items='center', padding='5px 5px', width='100%')), Box(children=(HBox(children=(Button(description='Solbind', style=ButtonStyle()), Button(description='Rename', style=ButtonStyle()), Button(button_style='info', description='Export', style=ButtonStyle()), Button(button_style='success', description='Open (web)', style=ButtonStyle()), Button(button_style='primary', description='Show Graph', style=ButtonStyle()))),), layout=Layout(width='auto'))), layout=Layout(width='100%')), QgridWidget(grid_options={'fullWidthRows': True, 'syncColumnCellResize': True, 'forceFitColumns': True, 'defaultColumnWidth': 150, 'rowHeight': 28, 'enableColumnReorder': False, 'enableTextSelectionOnCells': True, 'editable': True, 'autoEdit': False, 'explicitInitialization': True, 'maxVisibleRows': 15, 'minVisibleRows': 8, 'sortable': False, 'filterable': False, 'highlightSelectedCell': False, 'highlightSelectedRow': True, 'boldIndex': True}, id='ea555c9e-77d9-4379-be44-dc11a6e4aa85', layout=Layout(height='70px'), precision=5), VBox(children=(QgridWidget(grid_options={'fullWidthRows': True, 'syncColumnCellResize': True, 'forceFitColumns': False, 'defaultColumnWidth': 150, 'rowHeight': 28, 'enableColumnReorder': False, 'enableTextSelectionOnCells': True, 'editable': True, 'autoEdit': False, 'explicitInitialization': True, 'maxVisibleRows': 15, 'minVisibleRows': 8, 'sortable': False, 'filterable': False, 'highlightSelectedCell': False, 'highlightSelectedRow': True, 'boldIndex': True}, id='417e7d19-3496-43ab-b731-8f5a4c365146', layout=Layout(height='65px'), precision=5), QgridWidget(grid_options={'fullWidthRows': True, 'syncColumnCellResize': True, 'forceFitColumns': False, 'defaultColumnWidth': 150, 'rowHeight': 28, 'enableColumnReorder': True, 'enableTextSelectionOnCells': True, 'editable': True, 'autoEdit': False, 'explicitInitialization': True, 'maxVisibleRows': 15, 'minVisibleRows': 10, 'sortable': True, 'filterable': True, 'highlightSelectedCell': False, 'highlightSelectedRow': True, 'boldIndex': True}, id='87894d98-2353-4fcc-9013-84baffeb5ba8', precision=5)))), layout=Layout(border_bottom='2px solid black', border_left='2px solid black', border_right='2px solid black', border_top='2px solid black')),))\n",
      "  - Index: 2, VBox: VBox(children=(VBox(children=(VBox(children=(HBox(children=(ToggleButtons(button_style='info', description='Info Level:', layout=Layout(align_items='center', display='flex', flex_flow='row', height='25px', width='30%'), options=('Basic', 'Detail'), value='Basic'), Box(layout=Layout(flex='1')), Dropdown(description='Data Set:', layout=Layout(align_self='flex-end', width='25%'), options=('Stats', 'Tags', 'Combos', 'Deck Content', 'CM Tags', 'Listing'), value='Stats')), layout=Layout(align_items='center', padding='5px 5px', width='100%')), Box(children=(HBox(children=(Button(description='Solbind', style=ButtonStyle()), Button(description='Rename', style=ButtonStyle()), Button(button_style='info', description='Export', style=ButtonStyle()), Button(button_style='success', description='Open (web)', style=ButtonStyle()), Button(button_style='primary', description='Show Graph', style=ButtonStyle()))),), layout=Layout(width='auto'))), layout=Layout(width='100%')), QgridWidget(grid_options={'fullWidthRows': True, 'syncColumnCellResize': True, 'forceFitColumns': True, 'defaultColumnWidth': 150, 'rowHeight': 28, 'enableColumnReorder': False, 'enableTextSelectionOnCells': True, 'editable': True, 'autoEdit': False, 'explicitInitialization': True, 'maxVisibleRows': 15, 'minVisibleRows': 8, 'sortable': False, 'filterable': False, 'highlightSelectedCell': False, 'highlightSelectedRow': True, 'boldIndex': True}, id='5d647cf2-ef75-4862-9672-005b34844bf2', layout=Layout(height='70px'), precision=5), VBox(children=(QgridWidget(grid_options={'fullWidthRows': True, 'syncColumnCellResize': True, 'forceFitColumns': False, 'defaultColumnWidth': 150, 'rowHeight': 28, 'enableColumnReorder': False, 'enableTextSelectionOnCells': True, 'editable': True, 'autoEdit': False, 'explicitInitialization': True, 'maxVisibleRows': 15, 'minVisibleRows': 8, 'sortable': False, 'filterable': False, 'highlightSelectedCell': False, 'highlightSelectedRow': True, 'boldIndex': True}, id='ae318a0f-94ef-4298-9cb4-c4ef8bae6bd1', layout=Layout(height='65px'), precision=5), QgridWidget(grid_options={'fullWidthRows': True, 'syncColumnCellResize': True, 'forceFitColumns': False, 'defaultColumnWidth': 150, 'rowHeight': 28, 'enableColumnReorder': True, 'enableTextSelectionOnCells': True, 'editable': True, 'autoEdit': False, 'explicitInitialization': True, 'maxVisibleRows': 15, 'minVisibleRows': 10, 'sortable': True, 'filterable': True, 'highlightSelectedCell': False, 'highlightSelectedRow': True, 'boldIndex': True}, id='c1059210-bb56-4ca0-a820-1af361ad2a74', precision=5)))), layout=Layout(border_bottom='2px solid black', border_left='2px solid black', border_right='2px solid black', border_top='2px solid black')),))\n",
      "  - Index: 3, VBox: VBox(children=(VBox(children=(VBox(children=(HBox(children=(ToggleButtons(button_style='info', description='Info Level:', layout=Layout(align_items='center', display='flex', flex_flow='row', height='25px', width='30%'), options=('Basic', 'Detail'), value='Basic'), Box(layout=Layout(flex='1')), Dropdown(description='Data Set:', layout=Layout(align_self='flex-end', width='25%'), options=('Stats', 'Tags', 'Combos', 'Deck Content', 'CM Tags', 'Listing'), value='Stats')), layout=Layout(align_items='center', padding='5px 5px', width='100%')), Box(children=(HBox(children=(Button(description='Solbind', style=ButtonStyle()), Button(description='Rename', style=ButtonStyle()), Button(button_style='info', description='Export', style=ButtonStyle()), Button(button_style='success', description='Open (web)', style=ButtonStyle()), Button(button_style='primary', description='Show Graph', style=ButtonStyle()))),), layout=Layout(width='auto'))), layout=Layout(width='100%')), QgridWidget(grid_options={'fullWidthRows': True, 'syncColumnCellResize': True, 'forceFitColumns': True, 'defaultColumnWidth': 150, 'rowHeight': 28, 'enableColumnReorder': False, 'enableTextSelectionOnCells': True, 'editable': True, 'autoEdit': False, 'explicitInitialization': True, 'maxVisibleRows': 15, 'minVisibleRows': 8, 'sortable': False, 'filterable': False, 'highlightSelectedCell': False, 'highlightSelectedRow': True, 'boldIndex': True}, id='f6720c12-38a8-4b96-b543-a229f522a40b', layout=Layout(height='70px'), precision=5), VBox(children=(QgridWidget(grid_options={'fullWidthRows': True, 'syncColumnCellResize': True, 'forceFitColumns': False, 'defaultColumnWidth': 150, 'rowHeight': 28, 'enableColumnReorder': False, 'enableTextSelectionOnCells': True, 'editable': True, 'autoEdit': False, 'explicitInitialization': True, 'maxVisibleRows': 15, 'minVisibleRows': 8, 'sortable': False, 'filterable': False, 'highlightSelectedCell': False, 'highlightSelectedRow': True, 'boldIndex': True}, id='6fdb327c-a24e-4eab-84ff-4d017a17a5db', layout=Layout(height='65px'), precision=5), QgridWidget(grid_options={'fullWidthRows': True, 'syncColumnCellResize': True, 'forceFitColumns': False, 'defaultColumnWidth': 150, 'rowHeight': 28, 'enableColumnReorder': True, 'enableTextSelectionOnCells': True, 'editable': True, 'autoEdit': False, 'explicitInitialization': True, 'maxVisibleRows': 15, 'minVisibleRows': 10, 'sortable': True, 'filterable': True, 'highlightSelectedCell': False, 'highlightSelectedRow': True, 'boldIndex': True}, id='ba4695a4-5a2a-40c9-908f-2632cae404ce', precision=5)))), layout=Layout(border_bottom='2px solid black', border_left='2px solid black', border_right='2px solid black', border_top='2px solid black')),))\n",
      "\n",
      "Empty VBoxes:\n",
      "\n",
      "Main VBox Layout:\n",
      "  - Position 0: Active VBox (Index: 0)\n",
      "  - Position 1: Active VBox (Index: 1)\n",
      "  - Position 2: Active VBox (Index: 2)\n",
      "  - Position 3: Active VBox (Index: 3)\n",
      "Grid 'filtered_grid_3' rebuilt with 46 rows and 18 columns\n",
      "Test: Added new row to filter grid. Current row count: 4\n"
     ]
    },
    {
     "name": "stderr",
     "output_type": "stream",
     "text": [
      "2024-12-09 23:30:29,365 - INFO - Handling row deletion; updating layout only.\n"
     ]
    },
    {
     "name": "stdout",
     "output_type": "stream",
     "text": [
      "Removing widgets for indices: [2]\n",
      "Removed VBox at index 2 and marked it as empty.\n",
      "Updated main VBox layout.\n",
      "VBoxManager State:\n",
      "------------------\n",
      "Active VBoxes:\n",
      "  - Index: 0, VBox: VBox(children=(VBox(children=(VBox(children=(HBox(children=(ToggleButtons(button_style='info', description='Info Level:', layout=Layout(align_items='center', display='flex', flex_flow='row', height='25px', width='30%'), options=('Basic', 'Detail'), value='Basic'), Box(layout=Layout(flex='1')), Dropdown(description='Data Set:', layout=Layout(align_self='flex-end', width='25%'), options=('Stats', 'Tags', 'Combos', 'Deck Content', 'CM Tags', 'Listing'), value='Stats')), layout=Layout(align_items='center', padding='5px 5px', width='100%')), Box(children=(HBox(children=(Button(description='Solbind', style=ButtonStyle()), Button(description='Rename', style=ButtonStyle()), Button(button_style='info', description='Export', style=ButtonStyle()), Button(button_style='success', description='Open (web)', style=ButtonStyle()), Button(button_style='primary', description='Show Graph', style=ButtonStyle()))),), layout=Layout(width='auto'))), layout=Layout(width='100%')), QgridWidget(grid_options={'fullWidthRows': True, 'syncColumnCellResize': True, 'forceFitColumns': True, 'defaultColumnWidth': 150, 'rowHeight': 28, 'enableColumnReorder': False, 'enableTextSelectionOnCells': True, 'editable': True, 'autoEdit': False, 'explicitInitialization': True, 'maxVisibleRows': 15, 'minVisibleRows': 8, 'sortable': False, 'filterable': False, 'highlightSelectedCell': False, 'highlightSelectedRow': True, 'boldIndex': True}, id='b1d645d9-4950-4fa2-8888-19194366395c', layout=Layout(height='70px'), precision=5), VBox(children=(QgridWidget(grid_options={'fullWidthRows': True, 'syncColumnCellResize': True, 'forceFitColumns': False, 'defaultColumnWidth': 150, 'rowHeight': 28, 'enableColumnReorder': False, 'enableTextSelectionOnCells': True, 'editable': True, 'autoEdit': False, 'explicitInitialization': True, 'maxVisibleRows': 15, 'minVisibleRows': 8, 'sortable': False, 'filterable': False, 'highlightSelectedCell': False, 'highlightSelectedRow': True, 'boldIndex': True}, id='e9d2d400-5d3e-44b4-89d6-0796849fcd56', layout=Layout(height='65px'), precision=5), QgridWidget(grid_options={'fullWidthRows': True, 'syncColumnCellResize': True, 'forceFitColumns': False, 'defaultColumnWidth': 150, 'rowHeight': 28, 'enableColumnReorder': True, 'enableTextSelectionOnCells': True, 'editable': True, 'autoEdit': False, 'explicitInitialization': True, 'maxVisibleRows': 15, 'minVisibleRows': 10, 'sortable': True, 'filterable': True, 'highlightSelectedCell': False, 'highlightSelectedRow': True, 'boldIndex': True}, id='c0193f25-4c92-41fa-b3ee-496916230fd6', precision=5)))), layout=Layout(border_bottom='2px solid black', border_left='2px solid black', border_right='2px solid black', border_top='2px solid black')),))\n",
      "  - Index: 1, VBox: VBox(children=(VBox(children=(VBox(children=(HBox(children=(ToggleButtons(button_style='info', description='Info Level:', layout=Layout(align_items='center', display='flex', flex_flow='row', height='25px', width='30%'), options=('Basic', 'Detail'), value='Basic'), Box(layout=Layout(flex='1')), Dropdown(description='Data Set:', layout=Layout(align_self='flex-end', width='25%'), options=('Stats', 'Tags', 'Combos', 'Deck Content', 'CM Tags', 'Listing'), value='Stats')), layout=Layout(align_items='center', padding='5px 5px', width='100%')), Box(children=(HBox(children=(Button(description='Solbind', style=ButtonStyle()), Button(description='Rename', style=ButtonStyle()), Button(button_style='info', description='Export', style=ButtonStyle()), Button(button_style='success', description='Open (web)', style=ButtonStyle()), Button(button_style='primary', description='Show Graph', style=ButtonStyle()))),), layout=Layout(width='auto'))), layout=Layout(width='100%')), QgridWidget(grid_options={'fullWidthRows': True, 'syncColumnCellResize': True, 'forceFitColumns': True, 'defaultColumnWidth': 150, 'rowHeight': 28, 'enableColumnReorder': False, 'enableTextSelectionOnCells': True, 'editable': True, 'autoEdit': False, 'explicitInitialization': True, 'maxVisibleRows': 15, 'minVisibleRows': 8, 'sortable': False, 'filterable': False, 'highlightSelectedCell': False, 'highlightSelectedRow': True, 'boldIndex': True}, id='ea555c9e-77d9-4379-be44-dc11a6e4aa85', layout=Layout(height='70px'), precision=5), VBox(children=(QgridWidget(grid_options={'fullWidthRows': True, 'syncColumnCellResize': True, 'forceFitColumns': False, 'defaultColumnWidth': 150, 'rowHeight': 28, 'enableColumnReorder': False, 'enableTextSelectionOnCells': True, 'editable': True, 'autoEdit': False, 'explicitInitialization': True, 'maxVisibleRows': 15, 'minVisibleRows': 8, 'sortable': False, 'filterable': False, 'highlightSelectedCell': False, 'highlightSelectedRow': True, 'boldIndex': True}, id='417e7d19-3496-43ab-b731-8f5a4c365146', layout=Layout(height='65px'), precision=5), QgridWidget(grid_options={'fullWidthRows': True, 'syncColumnCellResize': True, 'forceFitColumns': False, 'defaultColumnWidth': 150, 'rowHeight': 28, 'enableColumnReorder': True, 'enableTextSelectionOnCells': True, 'editable': True, 'autoEdit': False, 'explicitInitialization': True, 'maxVisibleRows': 15, 'minVisibleRows': 10, 'sortable': True, 'filterable': True, 'highlightSelectedCell': False, 'highlightSelectedRow': True, 'boldIndex': True}, id='87894d98-2353-4fcc-9013-84baffeb5ba8', precision=5)))), layout=Layout(border_bottom='2px solid black', border_left='2px solid black', border_right='2px solid black', border_top='2px solid black')),))\n",
      "  - Index: 3, VBox: VBox(children=(VBox(children=(VBox(children=(HBox(children=(ToggleButtons(button_style='info', description='Info Level:', layout=Layout(align_items='center', display='flex', flex_flow='row', height='25px', width='30%'), options=('Basic', 'Detail'), value='Basic'), Box(layout=Layout(flex='1')), Dropdown(description='Data Set:', layout=Layout(align_self='flex-end', width='25%'), options=('Stats', 'Tags', 'Combos', 'Deck Content', 'CM Tags', 'Listing'), value='Stats')), layout=Layout(align_items='center', padding='5px 5px', width='100%')), Box(children=(HBox(children=(Button(description='Solbind', style=ButtonStyle()), Button(description='Rename', style=ButtonStyle()), Button(button_style='info', description='Export', style=ButtonStyle()), Button(button_style='success', description='Open (web)', style=ButtonStyle()), Button(button_style='primary', description='Show Graph', style=ButtonStyle()))),), layout=Layout(width='auto'))), layout=Layout(width='100%')), QgridWidget(grid_options={'fullWidthRows': True, 'syncColumnCellResize': True, 'forceFitColumns': True, 'defaultColumnWidth': 150, 'rowHeight': 28, 'enableColumnReorder': False, 'enableTextSelectionOnCells': True, 'editable': True, 'autoEdit': False, 'explicitInitialization': True, 'maxVisibleRows': 15, 'minVisibleRows': 8, 'sortable': False, 'filterable': False, 'highlightSelectedCell': False, 'highlightSelectedRow': True, 'boldIndex': True}, id='f6720c12-38a8-4b96-b543-a229f522a40b', layout=Layout(height='70px'), precision=5), VBox(children=(QgridWidget(grid_options={'fullWidthRows': True, 'syncColumnCellResize': True, 'forceFitColumns': False, 'defaultColumnWidth': 150, 'rowHeight': 28, 'enableColumnReorder': False, 'enableTextSelectionOnCells': True, 'editable': True, 'autoEdit': False, 'explicitInitialization': True, 'maxVisibleRows': 15, 'minVisibleRows': 8, 'sortable': False, 'filterable': False, 'highlightSelectedCell': False, 'highlightSelectedRow': True, 'boldIndex': True}, id='6fdb327c-a24e-4eab-84ff-4d017a17a5db', layout=Layout(height='65px'), precision=5), QgridWidget(grid_options={'fullWidthRows': True, 'syncColumnCellResize': True, 'forceFitColumns': False, 'defaultColumnWidth': 150, 'rowHeight': 28, 'enableColumnReorder': True, 'enableTextSelectionOnCells': True, 'editable': True, 'autoEdit': False, 'explicitInitialization': True, 'maxVisibleRows': 15, 'minVisibleRows': 10, 'sortable': True, 'filterable': True, 'highlightSelectedCell': False, 'highlightSelectedRow': True, 'boldIndex': True}, id='ba4695a4-5a2a-40c9-908f-2632cae404ce', precision=5)))), layout=Layout(border_bottom='2px solid black', border_left='2px solid black', border_right='2px solid black', border_top='2px solid black')),))\n",
      "\n",
      "Empty VBoxes:\n",
      "  - VBox: VBox(children=(Label(value='Empty'),))\n",
      "\n",
      "Main VBox Layout:\n",
      "  - Position 0: Active VBox (Index: 0)\n",
      "  - Position 1: Active VBox (Index: 1)\n",
      "  - Position 2: Active VBox (Index: 3)\n",
      "  - Position 3: Empty VBox\n"
     ]
    },
    {
     "name": "stderr",
     "output_type": "stream",
     "text": [
      "2024-12-09 23:30:34,878 - INFO - Handling row deletion; updating layout only.\n"
     ]
    },
    {
     "name": "stdout",
     "output_type": "stream",
     "text": [
      "Removing widgets for indices: [1]\n",
      "Removed VBox at index 1 and marked it as empty.\n",
      "Updated main VBox layout.\n",
      "VBoxManager State:\n",
      "------------------\n",
      "Active VBoxes:\n",
      "  - Index: 0, VBox: VBox(children=(VBox(children=(VBox(children=(HBox(children=(ToggleButtons(button_style='info', description='Info Level:', layout=Layout(align_items='center', display='flex', flex_flow='row', height='25px', width='30%'), options=('Basic', 'Detail'), value='Basic'), Box(layout=Layout(flex='1')), Dropdown(description='Data Set:', layout=Layout(align_self='flex-end', width='25%'), options=('Stats', 'Tags', 'Combos', 'Deck Content', 'CM Tags', 'Listing'), value='Stats')), layout=Layout(align_items='center', padding='5px 5px', width='100%')), Box(children=(HBox(children=(Button(description='Solbind', style=ButtonStyle()), Button(description='Rename', style=ButtonStyle()), Button(button_style='info', description='Export', style=ButtonStyle()), Button(button_style='success', description='Open (web)', style=ButtonStyle()), Button(button_style='primary', description='Show Graph', style=ButtonStyle()))),), layout=Layout(width='auto'))), layout=Layout(width='100%')), QgridWidget(grid_options={'fullWidthRows': True, 'syncColumnCellResize': True, 'forceFitColumns': True, 'defaultColumnWidth': 150, 'rowHeight': 28, 'enableColumnReorder': False, 'enableTextSelectionOnCells': True, 'editable': True, 'autoEdit': False, 'explicitInitialization': True, 'maxVisibleRows': 15, 'minVisibleRows': 8, 'sortable': False, 'filterable': False, 'highlightSelectedCell': False, 'highlightSelectedRow': True, 'boldIndex': True}, id='b1d645d9-4950-4fa2-8888-19194366395c', layout=Layout(height='70px'), precision=5), VBox(children=(QgridWidget(grid_options={'fullWidthRows': True, 'syncColumnCellResize': True, 'forceFitColumns': False, 'defaultColumnWidth': 150, 'rowHeight': 28, 'enableColumnReorder': False, 'enableTextSelectionOnCells': True, 'editable': True, 'autoEdit': False, 'explicitInitialization': True, 'maxVisibleRows': 15, 'minVisibleRows': 8, 'sortable': False, 'filterable': False, 'highlightSelectedCell': False, 'highlightSelectedRow': True, 'boldIndex': True}, id='e9d2d400-5d3e-44b4-89d6-0796849fcd56', layout=Layout(height='65px'), precision=5), QgridWidget(grid_options={'fullWidthRows': True, 'syncColumnCellResize': True, 'forceFitColumns': False, 'defaultColumnWidth': 150, 'rowHeight': 28, 'enableColumnReorder': True, 'enableTextSelectionOnCells': True, 'editable': True, 'autoEdit': False, 'explicitInitialization': True, 'maxVisibleRows': 15, 'minVisibleRows': 10, 'sortable': True, 'filterable': True, 'highlightSelectedCell': False, 'highlightSelectedRow': True, 'boldIndex': True}, id='c0193f25-4c92-41fa-b3ee-496916230fd6', precision=5)))), layout=Layout(border_bottom='2px solid black', border_left='2px solid black', border_right='2px solid black', border_top='2px solid black')),))\n",
      "  - Index: 3, VBox: VBox(children=(VBox(children=(VBox(children=(HBox(children=(ToggleButtons(button_style='info', description='Info Level:', layout=Layout(align_items='center', display='flex', flex_flow='row', height='25px', width='30%'), options=('Basic', 'Detail'), value='Basic'), Box(layout=Layout(flex='1')), Dropdown(description='Data Set:', layout=Layout(align_self='flex-end', width='25%'), options=('Stats', 'Tags', 'Combos', 'Deck Content', 'CM Tags', 'Listing'), value='Stats')), layout=Layout(align_items='center', padding='5px 5px', width='100%')), Box(children=(HBox(children=(Button(description='Solbind', style=ButtonStyle()), Button(description='Rename', style=ButtonStyle()), Button(button_style='info', description='Export', style=ButtonStyle()), Button(button_style='success', description='Open (web)', style=ButtonStyle()), Button(button_style='primary', description='Show Graph', style=ButtonStyle()))),), layout=Layout(width='auto'))), layout=Layout(width='100%')), QgridWidget(grid_options={'fullWidthRows': True, 'syncColumnCellResize': True, 'forceFitColumns': True, 'defaultColumnWidth': 150, 'rowHeight': 28, 'enableColumnReorder': False, 'enableTextSelectionOnCells': True, 'editable': True, 'autoEdit': False, 'explicitInitialization': True, 'maxVisibleRows': 15, 'minVisibleRows': 8, 'sortable': False, 'filterable': False, 'highlightSelectedCell': False, 'highlightSelectedRow': True, 'boldIndex': True}, id='f6720c12-38a8-4b96-b543-a229f522a40b', layout=Layout(height='70px'), precision=5), VBox(children=(QgridWidget(grid_options={'fullWidthRows': True, 'syncColumnCellResize': True, 'forceFitColumns': False, 'defaultColumnWidth': 150, 'rowHeight': 28, 'enableColumnReorder': False, 'enableTextSelectionOnCells': True, 'editable': True, 'autoEdit': False, 'explicitInitialization': True, 'maxVisibleRows': 15, 'minVisibleRows': 8, 'sortable': False, 'filterable': False, 'highlightSelectedCell': False, 'highlightSelectedRow': True, 'boldIndex': True}, id='6fdb327c-a24e-4eab-84ff-4d017a17a5db', layout=Layout(height='65px'), precision=5), QgridWidget(grid_options={'fullWidthRows': True, 'syncColumnCellResize': True, 'forceFitColumns': False, 'defaultColumnWidth': 150, 'rowHeight': 28, 'enableColumnReorder': True, 'enableTextSelectionOnCells': True, 'editable': True, 'autoEdit': False, 'explicitInitialization': True, 'maxVisibleRows': 15, 'minVisibleRows': 10, 'sortable': True, 'filterable': True, 'highlightSelectedCell': False, 'highlightSelectedRow': True, 'boldIndex': True}, id='ba4695a4-5a2a-40c9-908f-2632cae404ce', precision=5)))), layout=Layout(border_bottom='2px solid black', border_left='2px solid black', border_right='2px solid black', border_top='2px solid black')),))\n",
      "\n",
      "Empty VBoxes:\n",
      "  - VBox: VBox(children=(Label(value='Empty'),))\n",
      "  - VBox: VBox(children=(Label(value='Empty'),))\n",
      "\n",
      "Main VBox Layout:\n",
      "  - Position 0: Active VBox (Index: 0)\n",
      "  - Position 1: Active VBox (Index: 3)\n",
      "  - Position 2: Empty VBox\n",
      "  - Position 3: Empty VBox\n"
     ]
    },
    {
     "name": "stderr",
     "output_type": "stream",
     "text": [
      "2024-12-09 23:30:39,149 - INFO - FilterClass::grid_filter_on_row_added() - Adding new row to filter grid\n",
      "2024-12-09 23:30:39,150 - INFO - FilterClass::grid_filter_on_row_added() - Column: Type, Value: ('Deck',)\n",
      "2024-12-09 23:30:39,151 - INFO - FilterClass::grid_filter_on_row_added() - Column: Name, Value: ()\n",
      "2024-12-09 23:30:39,152 - INFO - FilterClass::grid_filter_on_row_added() - Column: Modifier, Value: ()\n",
      "2024-12-09 23:30:39,152 - INFO - FilterClass::grid_filter_on_row_added() - Column: Creature, Value: ()\n",
      "2024-12-09 23:30:39,153 - INFO - FilterClass::grid_filter_on_row_added() - Column: Spell, Value: ()\n",
      "2024-12-09 23:30:39,154 - INFO - FilterClass::grid_filter_on_row_added() - Column: Forgeborn Ability, Value: ()\n",
      "2024-12-09 23:30:39,160 - INFO - FilterClass::grid_filter_on_row_added() - Calling refresh function for index 4\n",
      "2024-12-09 23:30:39,163 - INFO - Handling row-specific update from filter.\n"
     ]
    }
   ],
   "source": [
    "import os, time\n",
    "import test_functions as tf\n",
    "\n",
    "# Set the current working directory to the parent directory\n",
    "os.chdir(os.path.dirname(os.getcwd()))\n",
    "\n",
    "import pygui\n",
    "\n",
    "# Initialize the interface\n",
    "pygui.setup_interface()\n",
    "pygui.db_list.value = 'strudel'\n",
    "\n",
    "#test_update_filter_grid(pygui.grid_manager)\n",
    "\n",
    "tf.test_add_filter_row(pygui.grid_manager.filterGridObject)\n",
    "time.sleep(1)\n",
    "#tf.test_remove_filter_row(pygui.grid_manager.filterGridObject)\n",
    "#tf.test_remove_filter_row(pygui.grid_manager.filterGridObject)\n",
    "time.sleep(1)\n",
    "tf.test_add_filter_row(pygui.grid_manager.filterGridObject)\n",
    "tf.test_add_filter_row(pygui.grid_manager.filterGridObject)\n",
    "\n",
    "# Assuming you want to select the first row in the filter grid and trigger an update\n",
    "#select_row_in_qgrid(pygui.grid_manager.qm, 1, 0, pygui.grid_manager)\n",
    "#pygui.grid_manager.open_deck('filtered_grid_1', None)"
   ]
  }
 ],
 "metadata": {
  "kernelspec": {
   "display_name": "SolDB-Conda",
   "language": "python",
   "name": "python3"
  },
  "language_info": {
   "codemirror_mode": {
    "name": "ipython",
    "version": 3
   },
   "file_extension": ".py",
   "mimetype": "text/x-python",
   "name": "python",
   "nbconvert_exporter": "python",
   "pygments_lexer": "ipython3",
   "version": "3.11.10"
  }
 },
 "nbformat": 4,
 "nbformat_minor": 2
}
