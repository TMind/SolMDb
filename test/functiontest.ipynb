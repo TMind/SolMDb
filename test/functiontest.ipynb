{
 "cells": [
  {
   "cell_type": "code",
   "execution_count": null,
   "metadata": {},
   "outputs": [],
   "source": [
    "import os, time\n",
    "import test_functions as tf\n",
    "\n",
    "# Set the current working directory to the parent directory\n",
    "os.chdir(os.path.dirname(os.getcwd()))\n",
    "\n",
    "import pygui\n",
    "\n",
    "# Initialize the interface\n",
    "pygui.setup_interface()\n",
    "pygui.db_list.value = 'strudel'\n",
    "\n",
    "#test_update_filter_grid(pygui.grid_manager)\n",
    "\n",
    "tf.test_add_filter_row(pygui.grid_manager.filterGridObject)\n",
    "time.sleep(1)\n",
    "tf.test_remove_filter_row(pygui.grid_manager.filterGridObject)\n",
    "#tf.test_remove_filter_row(pygui.grid_manager.filterGridObject)\n",
    "time.sleep(1)\n",
    "tf.test_add_filter_row(pygui.grid_manager.filterGridObject)\n",
    "\n",
    "# Assuming you want to select the first row in the filter grid and trigger an update\n",
    "#select_row_in_qgrid(pygui.grid_manager.qm, 1, 0, pygui.grid_manager)\n",
    "#pygui.grid_manager.open_deck('filtered_grid_1', None)"
   ]
  }
 ],
 "metadata": {
  "kernelspec": {
   "display_name": "SolDB-Conda",
   "language": "python",
   "name": "python3"
  },
  "language_info": {
   "codemirror_mode": {
    "name": "ipython",
    "version": 3
   },
   "file_extension": ".py",
   "mimetype": "text/x-python",
   "name": "python",
   "nbconvert_exporter": "python",
   "pygments_lexer": "ipython3",
   "version": "3.11.10"
  }
 },
 "nbformat": 4,
 "nbformat_minor": 2
}
