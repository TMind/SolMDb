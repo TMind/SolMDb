{
 "cells": [
  {
   "cell_type": "code",
   "execution_count": 1,
   "metadata": {},
   "outputs": [
    {
     "ename": "ModuleNotFoundError",
     "evalue": "No module named 'GlobalVariables'",
     "output_type": "error",
     "traceback": [
      "\u001b[0;31m---------------------------------------------------------------------------\u001b[0m",
      "\u001b[0;31mModuleNotFoundError\u001b[0m                       Traceback (most recent call last)",
      "Cell \u001b[0;32mIn[1], line 1\u001b[0m\n\u001b[0;32m----> 1\u001b[0m \u001b[38;5;28;01mimport\u001b[39;00m \u001b[38;5;21;01mGlobalVariables\u001b[39;00m \u001b[38;5;28;01mas\u001b[39;00m \u001b[38;5;21;01mgv\u001b[39;00m\n\u001b[1;32m      2\u001b[0m \u001b[38;5;28;01mimport\u001b[39;00m \u001b[38;5;21;01mpygui\u001b[39;00m \u001b[38;5;28;01mas\u001b[39;00m \u001b[38;5;21;01mpgui\u001b[39;00m\n\u001b[1;32m      3\u001b[0m \u001b[38;5;28;01mimport\u001b[39;00m \u001b[38;5;21;01mpandas\u001b[39;00m \u001b[38;5;28;01mas\u001b[39;00m \u001b[38;5;21;01mpd\u001b[39;00m\n",
      "\u001b[0;31mModuleNotFoundError\u001b[0m: No module named 'GlobalVariables'"
     ]
    }
   ],
   "source": [
    "import GlobalVariables as gv\n",
    "import pygui as pgui\n",
    "import pandas as pd\n",
    "pgui.setup_interface()\n",
    "pgui.db_list.value = 'tmind'\n",
    "event = {'name': 'row_added', 'index': 1, 'source': 'gui'}\n",
    "\n",
    "# Make a new fow for the existing dataframe\n",
    "df = pgui.grid_manager.filterGridObject.qgrid_filter.get_changed_df()\n",
    "pgui.grid_manager.filterGridObject.selection_widgets['Data Set'].value = 'Multi Index'\n",
    "pgui.grid_manager.filterGridObject.selection_widgets['Creature'].value = ['Necromancer']\n",
    "\n",
    "new_row = pd.DataFrame({\n",
    "            'Modifier': [''],\n",
    "            'op1': [''],\n",
    "            'Creature': [''],\n",
    "            'op2': [''],\n",
    "            'Spell': ['River Of Souls'],\n",
    "            'Data Set': ['Multi Index'],\n",
    "            'Active': [True]\n",
    "        })\n",
    "new_df = pd.concat([df, new_row], ignore_index=True)\n",
    "pgui.grid_manager.filterGridObject.qgrid_filter.df = new_df\n",
    "pgui.grid_manager.filterGridObject.grid_filter_on_row_added(event, pgui.grid_manager.filterGridObject.qgrid_filter)"
   ]
  }
 ],
 "metadata": {
  "kernelspec": {
   "display_name": "pyenv",
   "language": "python",
   "name": "python3"
  },
  "language_info": {
   "codemirror_mode": {
    "name": "ipython",
    "version": 3
   },
   "file_extension": ".py",
   "mimetype": "text/x-python",
   "name": "python",
   "nbconvert_exporter": "python",
   "pygments_lexer": "ipython3",
   "version": "3.11.9"
  }
 },
 "nbformat": 4,
 "nbformat_minor": 2
}
